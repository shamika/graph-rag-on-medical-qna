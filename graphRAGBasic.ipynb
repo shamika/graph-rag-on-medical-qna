{
 "cells": [
  {
   "cell_type": "code",
   "execution_count": 3,
   "metadata": {},
   "outputs": [],
   "source": [
    "#update the pip verion of the boto3\n",
    "!pip install --upgrade -q boto3==1.34.55\n",
    "!pip install -q requests\n",
    "!pip install -q requests_aws4auth"
   ]
  },
  {
   "cell_type": "code",
   "execution_count": 6,
   "metadata": {},
   "outputs": [],
   "source": [
    "import pandas as pd\n",
    "import xml.etree.ElementTree as ET\n",
    "from html import unescape\n",
    "import boto3\n",
    "import botocore\n",
    "import requests\n",
    "from requests_aws4auth import AWS4Auth\n",
    "from langchain.embeddings import BedrockEmbeddings\n",
    "\n",
    "neptune_graph_client = boto3.client('neptune-graph')\n"
   ]
  },
  {
   "cell_type": "code",
   "execution_count": 7,
   "metadata": {},
   "outputs": [],
   "source": [
    "LOCAL_CYPHER_FILE_LOCATION = \"./data/health.stackexchange.com/opencypher\"\n",
    "DATA_S3_BUCKET = \"shamika-hcls\"\n",
    "DATA_S3_PATH = \"datasources/medical-qna-cyphers\""
   ]
  },
  {
   "cell_type": "markdown",
   "metadata": {},
   "source": [
    "### Helper Functions "
   ]
  },
  {
   "cell_type": "code",
   "execution_count": 8,
   "metadata": {},
   "outputs": [],
   "source": [
    "def create_bedrock_client(service_name):\n",
    "    \"\"\"\n",
    "    Create a Bedrock client using the provided service name and global AWS credentials.\n",
    "    \"\"\"\n",
    "    return boto3.client(\n",
    "        service_name=service_name\n",
    "    )\n",
    "\n",
    "def generate_embeddings(documents_list, modelId = \"amazon.titan-embed-g1-text-02\"):\n",
    "\n",
    "    bedrock_runtime = create_bedrock_client(\"bedrock-runtime\")\n",
    "    bedrock_embeddings = BedrockEmbeddings(model_id=modelId, client=bedrock_runtime)\n",
    "    \n",
    "    embeddings_list = bedrock_embeddings.embed_documents(\n",
    "        documents_list\n",
    "    )\n",
    "\n",
    "    return embeddings_list\n",
    "\n",
    "\n",
    "def convert_to_neprune_embedding_format(embedding):\n",
    "\n",
    "    return \";\".join(str(val) for val in embedding)\n",
    "\n",
    "\n",
    "def created_embeddings_in_neptune_format(documents):\n",
    "    \n",
    "    embeddings_list = generate_embeddings(documents)\n",
    "    return [convert_to_neprune_embedding_format(embedding) for embedding in embeddings_list]\n",
    "\n",
    "\n",
    "def execute_graph_query(query, neptune_endpoint):\n",
    "\n",
    "    # Retrieve AWS credentials\n",
    "    session = boto3.Session()\n",
    "    credentials = session.get_credentials()\n",
    "    current_credentials = credentials.get_frozen_credentials()\n",
    "    \n",
    "    aws_auth = AWS4Auth(current_credentials.access_key, current_credentials.secret_key, 'us-east-1', 'neptune-graph', session_token=current_credentials.token)\n",
    "\n",
    "    headers = {\n",
    "        \"Content-Type\": \"application/json\"\n",
    "    }\n",
    "\n",
    "    # Construct the payload with your query\n",
    "    payload = {\n",
    "        \"query\": query\n",
    "        # Include other necessary parameters here\n",
    "    }\n",
    "\n",
    "    # Make the POST request to execute the query\n",
    "    response = requests.post(neptune_endpoint,  auth=aws_auth, json=payload, headers=headers)\n",
    "\n",
    "    # Check the response\n",
    "    if response.status_code == 200:\n",
    "        print(\"Query executed successfully:\", response.json())\n",
    "    else:\n",
    "        print(\"Error executing query:\", response.status_code, response.text)\n",
    "        raise Exception(\"Error executing query\")\n",
    "    \n",
    "    return response"
   ]
  },
  {
   "cell_type": "markdown",
   "metadata": {},
   "source": [
    "### Data Preparation"
   ]
  },
  {
   "cell_type": "code",
   "execution_count": 11,
   "metadata": {},
   "outputs": [],
   "source": [
    "s3_client = boto3.client('s3')\n",
    "\n",
    "def save_cypher_csv_and_upload_s3(df, filename):\n",
    "    full_file_name = f\"{LOCAL_CYPHER_FILE_LOCATION}/{filename}.csv\"\n",
    "    df.to_csv(full_file_name, index=False)\n",
    "    s3_client.upload_file(full_file_name, DATA_S3_BUCKET, f\"{DATA_S3_PATH}/{filename}.csv\")\n",
    "    return full_file_name\n"
   ]
  },
  {
   "cell_type": "markdown",
   "metadata": {},
   "source": [
    "#### Posts"
   ]
  },
  {
   "cell_type": "code",
   "execution_count": 12,
   "metadata": {},
   "outputs": [],
   "source": [
    "tree = ET.parse('data/health.stackexchange.com/Posts.xml')\n",
    "root = tree.getroot()\n",
    "\n",
    "# Initialize a list to hold our extracted data\n",
    "data = []\n",
    "\n",
    "# Loop through each post in the XML\n",
    "for post in root.findall('row'):\n",
    "    data.append({\n",
    "        ':ID': post.get('Id'),\n",
    "        ':LABEL' : 'post',\n",
    "        'postTypeId:Int': post.get('PostTypeId'),\n",
    "        'acceptedAnswerId:Int' : post.get('AcceptedAnswerId'),\n",
    "        'parentId:Int': post.get('ParentId'),\n",
    "        'creationDate:DateTime': post.get('CreationDate'),\n",
    "        'score:Int': post.get('Score'),\n",
    "        'viewCount:Int': post.get('ViewCount'),\n",
    "        # Unescape HTML entities in the Body\n",
    "        'body:String': unescape(post.get('Body')),\n",
    "        'ownerUserId:Int' : post.get('OwnerUserId'),\n",
    "        #'ownerDisplayName:String': post.get('OwnerDisplayName'),\n",
    "        #'LastEditorUserId:Int': post.get('LastEditorUserId'),\n",
    "        'lastEditDate:DateTime': post.get('LastEditDate'),\n",
    "        'lastActivityDate:DateTime': post.get('LastActivityDate'),\n",
    "        'title:String': post.get('Title'),\n",
    "        # Remove HTML tags for Tags\n",
    "        'answerCount:Int': post.get('AnswerCount'),\n",
    "        'tags:String': post.get('Tags').replace('<', '').replace('>', ',') if post.get('Tags') else None,\n",
    "        'commentCount:Int': post.get('CommentCount'),\n",
    "        'closedData:DateTime' : post.get('ClosedDate')\n",
    "    })\n",
    "\n",
    "# Convert the list of dictionaries into a DataFrame\n",
    "df_posts = pd.DataFrame(data)\n"
   ]
  },
  {
   "cell_type": "code",
   "execution_count": 13,
   "metadata": {},
   "outputs": [
    {
     "data": {
      "text/html": [
       "<div>\n",
       "<style scoped>\n",
       "    .dataframe tbody tr th:only-of-type {\n",
       "        vertical-align: middle;\n",
       "    }\n",
       "\n",
       "    .dataframe tbody tr th {\n",
       "        vertical-align: top;\n",
       "    }\n",
       "\n",
       "    .dataframe thead th {\n",
       "        text-align: right;\n",
       "    }\n",
       "</style>\n",
       "<table border=\"1\" class=\"dataframe\">\n",
       "  <thead>\n",
       "    <tr style=\"text-align: right;\">\n",
       "      <th></th>\n",
       "      <th>:ID</th>\n",
       "      <th>:LABEL</th>\n",
       "      <th>postTypeId:Int</th>\n",
       "      <th>acceptedAnswerId:Int</th>\n",
       "      <th>parentId:Int</th>\n",
       "      <th>creationDate:DateTime</th>\n",
       "      <th>score:Int</th>\n",
       "      <th>viewCount:Int</th>\n",
       "      <th>body:String</th>\n",
       "      <th>ownerUserId:Int</th>\n",
       "      <th>lastEditDate:DateTime</th>\n",
       "      <th>lastActivityDate:DateTime</th>\n",
       "      <th>title:String</th>\n",
       "      <th>answerCount:Int</th>\n",
       "      <th>tags:String</th>\n",
       "      <th>commentCount:Int</th>\n",
       "      <th>closedData:DateTime</th>\n",
       "    </tr>\n",
       "  </thead>\n",
       "  <tbody>\n",
       "    <tr>\n",
       "      <th>3661</th>\n",
       "      <td>7209</td>\n",
       "      <td>post</td>\n",
       "      <td>1</td>\n",
       "      <td>7210</td>\n",
       "      <td>None</td>\n",
       "      <td>2016-06-24T20:22:26.620</td>\n",
       "      <td>4</td>\n",
       "      <td>781</td>\n",
       "      <td>&lt;p&gt;After watching the documentary &lt;a href=\"htt...</td>\n",
       "      <td>5027</td>\n",
       "      <td>2017-04-13T12:46:45.903</td>\n",
       "      <td>2018-04-23T13:47:20.200</td>\n",
       "      <td>What are trustworthy food and nutrition inform...</td>\n",
       "      <td>8</td>\n",
       "      <td>nutrition,diet,</td>\n",
       "      <td>5</td>\n",
       "      <td>None</td>\n",
       "    </tr>\n",
       "    <tr>\n",
       "      <th>13835</th>\n",
       "      <td>29276</td>\n",
       "      <td>post</td>\n",
       "      <td>1</td>\n",
       "      <td>29280</td>\n",
       "      <td>None</td>\n",
       "      <td>2021-11-15T05:37:50.880</td>\n",
       "      <td>28</td>\n",
       "      <td>10678</td>\n",
       "      <td>&lt;p&gt;Things like gender and age and height and w...</td>\n",
       "      <td>21715</td>\n",
       "      <td>2021-11-15T22:15:56.800</td>\n",
       "      <td>2021-11-18T16:03:33.130</td>\n",
       "      <td>Why do doctors ask for your race?</td>\n",
       "      <td>7</td>\n",
       "      <td>epidemiology,research,genetic-predisposition,r...</td>\n",
       "      <td>10</td>\n",
       "      <td>None</td>\n",
       "    </tr>\n",
       "    <tr>\n",
       "      <th>7883</th>\n",
       "      <td>15061</td>\n",
       "      <td>post</td>\n",
       "      <td>1</td>\n",
       "      <td>15065</td>\n",
       "      <td>None</td>\n",
       "      <td>2018-01-23T00:16:20.930</td>\n",
       "      <td>25</td>\n",
       "      <td>11223</td>\n",
       "      <td>&lt;p&gt;Influenza vaccines do not have satisfactory...</td>\n",
       "      <td>8973</td>\n",
       "      <td>2018-01-23T21:27:03.190</td>\n",
       "      <td>2018-01-27T14:47:02.737</td>\n",
       "      <td>Is it advisable for a healthy male in his earl...</td>\n",
       "      <td>6</td>\n",
       "      <td>vaccination,influenza,mercury,</td>\n",
       "      <td>3</td>\n",
       "      <td>None</td>\n",
       "    </tr>\n",
       "    <tr>\n",
       "      <th>48</th>\n",
       "      <td>52</td>\n",
       "      <td>post</td>\n",
       "      <td>1</td>\n",
       "      <td>85</td>\n",
       "      <td>None</td>\n",
       "      <td>2015-03-31T22:33:47.010</td>\n",
       "      <td>112</td>\n",
       "      <td>6949</td>\n",
       "      <td>&lt;p&gt;My job requires long periods of computer sc...</td>\n",
       "      <td>59</td>\n",
       "      <td>2015-11-24T03:45:01.663</td>\n",
       "      <td>2019-11-23T18:36:52.357</td>\n",
       "      <td>How can I protect my eyesight when using compu...</td>\n",
       "      <td>6</td>\n",
       "      <td>eye,computers,lifestyle,</td>\n",
       "      <td>1</td>\n",
       "      <td>None</td>\n",
       "    </tr>\n",
       "    <tr>\n",
       "      <th>10895</th>\n",
       "      <td>20970</td>\n",
       "      <td>post</td>\n",
       "      <td>1</td>\n",
       "      <td>20980</td>\n",
       "      <td>None</td>\n",
       "      <td>2020-02-03T19:32:51.930</td>\n",
       "      <td>35</td>\n",
       "      <td>14302</td>\n",
       "      <td>&lt;p&gt;According to the data on the &lt;a href=\"https...</td>\n",
       "      <td>17521</td>\n",
       "      <td>2020-04-19T19:49:57.093</td>\n",
       "      <td>2020-04-19T19:49:57.093</td>\n",
       "      <td>Does COVID-19 have a case fatality rate of 41%...</td>\n",
       "      <td>5</td>\n",
       "      <td>virus,infectious-diseases,death,covid-19,</td>\n",
       "      <td>11</td>\n",
       "      <td>None</td>\n",
       "    </tr>\n",
       "    <tr>\n",
       "      <th>...</th>\n",
       "      <td>...</td>\n",
       "      <td>...</td>\n",
       "      <td>...</td>\n",
       "      <td>...</td>\n",
       "      <td>...</td>\n",
       "      <td>...</td>\n",
       "      <td>...</td>\n",
       "      <td>...</td>\n",
       "      <td>...</td>\n",
       "      <td>...</td>\n",
       "      <td>...</td>\n",
       "      <td>...</td>\n",
       "      <td>...</td>\n",
       "      <td>...</td>\n",
       "      <td>...</td>\n",
       "      <td>...</td>\n",
       "      <td>...</td>\n",
       "    </tr>\n",
       "    <tr>\n",
       "      <th>5034</th>\n",
       "      <td>10304</td>\n",
       "      <td>post</td>\n",
       "      <td>1</td>\n",
       "      <td>10309</td>\n",
       "      <td>None</td>\n",
       "      <td>2016-11-29T23:20:08.607</td>\n",
       "      <td>2</td>\n",
       "      <td>41</td>\n",
       "      <td>&lt;p&gt;I've been trying to reduce my intake of glu...</td>\n",
       "      <td>7503</td>\n",
       "      <td>2017-03-07T10:21:46.007</td>\n",
       "      <td>2017-03-07T10:21:46.007</td>\n",
       "      <td>Gluten in beer or not?</td>\n",
       "      <td>1</td>\n",
       "      <td>diet,alcohol,nutrition,gluten,</td>\n",
       "      <td>0</td>\n",
       "      <td>None</td>\n",
       "    </tr>\n",
       "    <tr>\n",
       "      <th>5033</th>\n",
       "      <td>10302</td>\n",
       "      <td>post</td>\n",
       "      <td>1</td>\n",
       "      <td>10310</td>\n",
       "      <td>None</td>\n",
       "      <td>2016-11-29T22:05:45.793</td>\n",
       "      <td>2</td>\n",
       "      <td>75</td>\n",
       "      <td>&lt;p&gt;Since Sunday, My right ear feels like somet...</td>\n",
       "      <td>7501</td>\n",
       "      <td>2016-11-29T22:14:40.580</td>\n",
       "      <td>2016-11-30T10:22:14.943</td>\n",
       "      <td>I'm not sure, but might have something stuck i...</td>\n",
       "      <td>1</td>\n",
       "      <td>ear,</td>\n",
       "      <td>1</td>\n",
       "      <td>2017-01-03T04:24:21.220</td>\n",
       "    </tr>\n",
       "    <tr>\n",
       "      <th>5028</th>\n",
       "      <td>10292</td>\n",
       "      <td>post</td>\n",
       "      <td>1</td>\n",
       "      <td>10293</td>\n",
       "      <td>None</td>\n",
       "      <td>2016-11-28T21:46:03.043</td>\n",
       "      <td>3</td>\n",
       "      <td>7417</td>\n",
       "      <td>&lt;p&gt;I'm trying to purchase glasses online but I...</td>\n",
       "      <td>7490</td>\n",
       "      <td>None</td>\n",
       "      <td>2016-11-28T22:11:22.760</td>\n",
       "      <td>Help reading an eyeglass prescription: What do...</td>\n",
       "      <td>1</td>\n",
       "      <td>eye,prescription,glasses,astigmatism,</td>\n",
       "      <td>0</td>\n",
       "      <td>None</td>\n",
       "    </tr>\n",
       "    <tr>\n",
       "      <th>5008</th>\n",
       "      <td>10261</td>\n",
       "      <td>post</td>\n",
       "      <td>1</td>\n",
       "      <td>12465</td>\n",
       "      <td>None</td>\n",
       "      <td>2016-11-26T17:55:35.463</td>\n",
       "      <td>2</td>\n",
       "      <td>271</td>\n",
       "      <td>&lt;p&gt;Recently, I had to overview some WiFi techn...</td>\n",
       "      <td>7459</td>\n",
       "      <td>2016-11-30T17:45:04.280</td>\n",
       "      <td>2017-05-31T00:10:15.177</td>\n",
       "      <td>is RADIO-SIGNAL Jammer safe for health?</td>\n",
       "      <td>1</td>\n",
       "      <td>radioactivity,radiology,</td>\n",
       "      <td>2</td>\n",
       "      <td>None</td>\n",
       "    </tr>\n",
       "    <tr>\n",
       "      <th>14971</th>\n",
       "      <td>32686</td>\n",
       "      <td>post</td>\n",
       "      <td>1</td>\n",
       "      <td>32687</td>\n",
       "      <td>None</td>\n",
       "      <td>2023-12-01T14:59:47.683</td>\n",
       "      <td>4</td>\n",
       "      <td>202</td>\n",
       "      <td>&lt;p&gt;How do we differentiate the the truncus coe...</td>\n",
       "      <td>27607</td>\n",
       "      <td>2023-12-01T15:07:11.997</td>\n",
       "      <td>2023-12-01T20:54:58.003</td>\n",
       "      <td>How do we differentiate the truncus coeliacus ...</td>\n",
       "      <td>1</td>\n",
       "      <td>mri,radiology,</td>\n",
       "      <td>0</td>\n",
       "      <td>None</td>\n",
       "    </tr>\n",
       "  </tbody>\n",
       "</table>\n",
       "<p>2531 rows × 17 columns</p>\n",
       "</div>"
      ],
      "text/plain": [
       "         :ID :LABEL postTypeId:Int acceptedAnswerId:Int parentId:Int  \\\n",
       "3661    7209   post              1                 7210         None   \n",
       "13835  29276   post              1                29280         None   \n",
       "7883   15061   post              1                15065         None   \n",
       "48        52   post              1                   85         None   \n",
       "10895  20970   post              1                20980         None   \n",
       "...      ...    ...            ...                  ...          ...   \n",
       "5034   10304   post              1                10309         None   \n",
       "5033   10302   post              1                10310         None   \n",
       "5028   10292   post              1                10293         None   \n",
       "5008   10261   post              1                12465         None   \n",
       "14971  32686   post              1                32687         None   \n",
       "\n",
       "         creationDate:DateTime score:Int viewCount:Int  \\\n",
       "3661   2016-06-24T20:22:26.620         4           781   \n",
       "13835  2021-11-15T05:37:50.880        28         10678   \n",
       "7883   2018-01-23T00:16:20.930        25         11223   \n",
       "48     2015-03-31T22:33:47.010       112          6949   \n",
       "10895  2020-02-03T19:32:51.930        35         14302   \n",
       "...                        ...       ...           ...   \n",
       "5034   2016-11-29T23:20:08.607         2            41   \n",
       "5033   2016-11-29T22:05:45.793         2            75   \n",
       "5028   2016-11-28T21:46:03.043         3          7417   \n",
       "5008   2016-11-26T17:55:35.463         2           271   \n",
       "14971  2023-12-01T14:59:47.683         4           202   \n",
       "\n",
       "                                             body:String ownerUserId:Int  \\\n",
       "3661   <p>After watching the documentary <a href=\"htt...            5027   \n",
       "13835  <p>Things like gender and age and height and w...           21715   \n",
       "7883   <p>Influenza vaccines do not have satisfactory...            8973   \n",
       "48     <p>My job requires long periods of computer sc...              59   \n",
       "10895  <p>According to the data on the <a href=\"https...           17521   \n",
       "...                                                  ...             ...   \n",
       "5034   <p>I've been trying to reduce my intake of glu...            7503   \n",
       "5033   <p>Since Sunday, My right ear feels like somet...            7501   \n",
       "5028   <p>I'm trying to purchase glasses online but I...            7490   \n",
       "5008   <p>Recently, I had to overview some WiFi techn...            7459   \n",
       "14971  <p>How do we differentiate the the truncus coe...           27607   \n",
       "\n",
       "         lastEditDate:DateTime lastActivityDate:DateTime  \\\n",
       "3661   2017-04-13T12:46:45.903   2018-04-23T13:47:20.200   \n",
       "13835  2021-11-15T22:15:56.800   2021-11-18T16:03:33.130   \n",
       "7883   2018-01-23T21:27:03.190   2018-01-27T14:47:02.737   \n",
       "48     2015-11-24T03:45:01.663   2019-11-23T18:36:52.357   \n",
       "10895  2020-04-19T19:49:57.093   2020-04-19T19:49:57.093   \n",
       "...                        ...                       ...   \n",
       "5034   2017-03-07T10:21:46.007   2017-03-07T10:21:46.007   \n",
       "5033   2016-11-29T22:14:40.580   2016-11-30T10:22:14.943   \n",
       "5028                      None   2016-11-28T22:11:22.760   \n",
       "5008   2016-11-30T17:45:04.280   2017-05-31T00:10:15.177   \n",
       "14971  2023-12-01T15:07:11.997   2023-12-01T20:54:58.003   \n",
       "\n",
       "                                            title:String answerCount:Int  \\\n",
       "3661   What are trustworthy food and nutrition inform...               8   \n",
       "13835                  Why do doctors ask for your race?               7   \n",
       "7883   Is it advisable for a healthy male in his earl...               6   \n",
       "48     How can I protect my eyesight when using compu...               6   \n",
       "10895  Does COVID-19 have a case fatality rate of 41%...               5   \n",
       "...                                                  ...             ...   \n",
       "5034                              Gluten in beer or not?               1   \n",
       "5033   I'm not sure, but might have something stuck i...               1   \n",
       "5028   Help reading an eyeglass prescription: What do...               1   \n",
       "5008             is RADIO-SIGNAL Jammer safe for health?               1   \n",
       "14971  How do we differentiate the truncus coeliacus ...               1   \n",
       "\n",
       "                                             tags:String commentCount:Int  \\\n",
       "3661                                     nutrition,diet,                5   \n",
       "13835  epidemiology,research,genetic-predisposition,r...               10   \n",
       "7883                      vaccination,influenza,mercury,                3   \n",
       "48                              eye,computers,lifestyle,                1   \n",
       "10895          virus,infectious-diseases,death,covid-19,               11   \n",
       "...                                                  ...              ...   \n",
       "5034                      diet,alcohol,nutrition,gluten,                0   \n",
       "5033                                                ear,                1   \n",
       "5028               eye,prescription,glasses,astigmatism,                0   \n",
       "5008                            radioactivity,radiology,                2   \n",
       "14971                                     mri,radiology,                0   \n",
       "\n",
       "           closedData:DateTime  \n",
       "3661                      None  \n",
       "13835                     None  \n",
       "7883                      None  \n",
       "48                        None  \n",
       "10895                     None  \n",
       "...                        ...  \n",
       "5034                      None  \n",
       "5033   2017-01-03T04:24:21.220  \n",
       "5028                      None  \n",
       "5008                      None  \n",
       "14971                     None  \n",
       "\n",
       "[2531 rows x 17 columns]"
      ]
     },
     "execution_count": 13,
     "metadata": {},
     "output_type": "execute_result"
    }
   ],
   "source": [
    "df_posts[~df_posts[\"acceptedAnswerId:Int\"].isnull()].sort_values(by=[\"answerCount:Int\"], ascending=False)"
   ]
  },
  {
   "cell_type": "code",
   "execution_count": 39,
   "metadata": {},
   "outputs": [
    {
     "data": {
      "text/plain": [
       "5034    <p>I've been trying to reduce my intake of gluten and have found that my bowels are much more stable and regular. Does beer have gluten in it? I haven't found beer to be a problem for me. </p>\\n\n",
       "Name: body:String, dtype: object"
      ]
     },
     "execution_count": 39,
     "metadata": {},
     "output_type": "execute_result"
    }
   ],
   "source": [
    "pd.options.display.max_seq_items = 20000\n",
    "pd.set_option(\n",
    "    'display.max_colwidth', 2000\n",
    ")\n",
    "\n",
    "df_posts[df_posts[\":ID\"] == '10304'][\"body:String\"]"
   ]
  },
  {
   "cell_type": "markdown",
   "metadata": {},
   "source": []
  },
  {
   "cell_type": "markdown",
   "metadata": {},
   "source": [
    "##### Split the questions and answers \n",
    "\n",
    "* `postTypeId` is '1' means it is a question\n",
    "* `postTypeId` is '2' means it is an answer"
   ]
  },
  {
   "cell_type": "code",
   "execution_count": 21,
   "metadata": {},
   "outputs": [
    {
     "name": "stderr",
     "output_type": "stream",
     "text": [
      "/tmp/ipykernel_5616/3379171962.py:2: SettingWithCopyWarning: \n",
      "A value is trying to be set on a copy of a slice from a DataFrame\n",
      "\n",
      "See the caveats in the documentation: https://pandas.pydata.org/pandas-docs/stable/user_guide/indexing.html#returning-a-view-versus-a-copy\n",
      "  df_questions.drop(['postTypeId:Int', 'parentId:Int'], axis=1, inplace=True)\n"
     ]
    },
    {
     "data": {
      "text/plain": [
       "(7886, 15)"
      ]
     },
     "execution_count": 21,
     "metadata": {},
     "output_type": "execute_result"
    }
   ],
   "source": [
    "df_questions = df_posts[df_posts[\"postTypeId:Int\"] == '1'] \n",
    "df_questions.drop(['postTypeId:Int', 'parentId:Int'], axis=1, inplace=True)\n",
    "df_questions.shape"
   ]
  },
  {
   "cell_type": "code",
   "execution_count": 22,
   "metadata": {},
   "outputs": [
    {
     "name": "stderr",
     "output_type": "stream",
     "text": [
      "/tmp/ipykernel_5616/1166006028.py:2: SettingWithCopyWarning: \n",
      "A value is trying to be set on a copy of a slice from a DataFrame\n",
      "\n",
      "See the caveats in the documentation: https://pandas.pydata.org/pandas-docs/stable/user_guide/indexing.html#returning-a-view-versus-a-copy\n",
      "  df_answers.drop([\"acceptedAnswerId:Int\", \"viewCount:Int\", \"title:String\", \"answerCount:Int\",\"tags:String\", \"closedData:DateTime\"], axis=1, inplace=True)\n"
     ]
    },
    {
     "data": {
      "text/plain": [
       "(6641, 11)"
      ]
     },
     "execution_count": 22,
     "metadata": {},
     "output_type": "execute_result"
    }
   ],
   "source": [
    "df_answers = df_posts[df_posts[\"postTypeId:Int\"] == '2'] \n",
    "df_answers.drop([\"acceptedAnswerId:Int\", \"viewCount:Int\", \"title:String\", \"answerCount:Int\",\"tags:String\", \"closedData:DateTime\"], axis=1, inplace=True)\n",
    "df_answers.shape"
   ]
  },
  {
   "cell_type": "markdown",
   "metadata": {},
   "source": [
    "* Questions with accetped answers \n"
   ]
  },
  {
   "cell_type": "code",
   "execution_count": 23,
   "metadata": {},
   "outputs": [
    {
     "data": {
      "text/plain": [
       "(2531, 15)"
      ]
     },
     "execution_count": 23,
     "metadata": {},
     "output_type": "execute_result"
    }
   ],
   "source": [
    "# Questions with accetped answers \n",
    "df_questions[~df_questions[\"acceptedAnswerId:Int\"].isnull()].shape"
   ]
  },
  {
   "cell_type": "markdown",
   "metadata": {},
   "source": [
    "* Count the values of each and create histogram\n"
   ]
  },
  {
   "cell_type": "code",
   "execution_count": 24,
   "metadata": {},
   "outputs": [
    {
     "data": {
      "text/plain": [
       "<Axes: xlabel='answerCount:Int'>"
      ]
     },
     "execution_count": 24,
     "metadata": {},
     "output_type": "execute_result"
    },
    {
     "data": {
      "image/png": "[encoded data removed]",
      "text/plain": [
       "<Figure size 640x480 with 1 Axes>"
      ]
     },
     "metadata": {},
     "output_type": "display_data"
    }
   ],
   "source": [
    "df_questions[\"answerCount:Int\"].value_counts().plot(kind='bar')"
   ]
  },
  {
   "cell_type": "markdown",
   "metadata": {},
   "source": [
    "##### Create questions and answers posts' embeddings using Amazon Bedrock Titan Model"
   ]
  },
  {
   "cell_type": "markdown",
   "metadata": {},
   "source": [
    "* Let's combine the post title and the body to create the vector embeddings"
   ]
  },
  {
   "cell_type": "code",
   "execution_count": 26,
   "metadata": {},
   "outputs": [
    {
     "ename": "KeyboardInterrupt",
     "evalue": "",
     "output_type": "error",
     "traceback": [
      "\u001b[0;31m---------------------------------------------------------------------------\u001b[0m",
      "\u001b[0;31mKeyboardInterrupt\u001b[0m                         Traceback (most recent call last)",
      "Cell \u001b[0;32mIn[26], line 2\u001b[0m\n\u001b[1;32m      1\u001b[0m documents \u001b[39m=\u001b[39m (df_questions[\u001b[39m\"\u001b[39m\u001b[39mtitle:String\u001b[39m\u001b[39m\"\u001b[39m] \u001b[39m+\u001b[39m \u001b[39m'\u001b[39m\u001b[39m\\n\u001b[39;00m\u001b[39m'\u001b[39m \u001b[39m+\u001b[39m df_questions[\u001b[39m\"\u001b[39m\u001b[39mbody:String\u001b[39m\u001b[39m\"\u001b[39m])\u001b[39m.\u001b[39mto_list()\n\u001b[0;32m----> 2\u001b[0m df_questions[\u001b[39m\"\u001b[39m\u001b[39membedding:Vector\u001b[39m\u001b[39m\"\u001b[39m] \u001b[39m=\u001b[39m created_embeddings_in_neptune_format(documents)\n\u001b[1;32m      3\u001b[0m df_questions\n",
      "Cell \u001b[0;32mIn[25], line 30\u001b[0m, in \u001b[0;36mcreated_embeddings_in_neptune_format\u001b[0;34m(documents)\u001b[0m\n\u001b[1;32m     28\u001b[0m \u001b[39mdef\u001b[39;00m \u001b[39mcreated_embeddings_in_neptune_format\u001b[39m(documents):\n\u001b[0;32m---> 30\u001b[0m     embeddings_list \u001b[39m=\u001b[39m generate_embeddings(documents)\n\u001b[1;32m     31\u001b[0m     \u001b[39mreturn\u001b[39;00m [convert_to_neprune_embedding_format(embedding) \u001b[39mfor\u001b[39;00m embedding \u001b[39min\u001b[39;00m embeddings_list]\n",
      "Cell \u001b[0;32mIn[25], line 16\u001b[0m, in \u001b[0;36mgenerate_embeddings\u001b[0;34m(documents_list, modelId)\u001b[0m\n\u001b[1;32m     13\u001b[0m bedrock_runtime \u001b[39m=\u001b[39m create_bedrock_client(\u001b[39m\"\u001b[39m\u001b[39mbedrock-runtime\u001b[39m\u001b[39m\"\u001b[39m)\n\u001b[1;32m     14\u001b[0m bedrock_embeddings \u001b[39m=\u001b[39m BedrockEmbeddings(model_id\u001b[39m=\u001b[39mmodelId, client\u001b[39m=\u001b[39mbedrock_runtime)\n\u001b[0;32m---> 16\u001b[0m embeddings_list \u001b[39m=\u001b[39m bedrock_embeddings\u001b[39m.\u001b[39;49membed_documents(\n\u001b[1;32m     17\u001b[0m     documents_list\n\u001b[1;32m     18\u001b[0m )\n\u001b[1;32m     20\u001b[0m \u001b[39mreturn\u001b[39;00m embeddings_list\n",
      "File \u001b[0;32m/opt/conda/lib/python3.10/site-packages/langchain/embeddings/bedrock.py:143\u001b[0m, in \u001b[0;36mBedrockEmbeddings.embed_documents\u001b[0;34m(self, texts)\u001b[0m\n\u001b[1;32m    141\u001b[0m results \u001b[39m=\u001b[39m []\n\u001b[1;32m    142\u001b[0m \u001b[39mfor\u001b[39;00m text \u001b[39min\u001b[39;00m texts:\n\u001b[0;32m--> 143\u001b[0m     response \u001b[39m=\u001b[39m \u001b[39mself\u001b[39;49m\u001b[39m.\u001b[39;49m_embedding_func(text)\n\u001b[1;32m    144\u001b[0m     results\u001b[39m.\u001b[39mappend(response)\n\u001b[1;32m    145\u001b[0m \u001b[39mreturn\u001b[39;00m results\n",
      "File \u001b[0;32m/opt/conda/lib/python3.10/site-packages/langchain/embeddings/bedrock.py:121\u001b[0m, in \u001b[0;36mBedrockEmbeddings._embedding_func\u001b[0;34m(self, text)\u001b[0m\n\u001b[1;32m    118\u001b[0m body \u001b[39m=\u001b[39m json\u001b[39m.\u001b[39mdumps(input_body)\n\u001b[1;32m    120\u001b[0m \u001b[39mtry\u001b[39;00m:\n\u001b[0;32m--> 121\u001b[0m     response \u001b[39m=\u001b[39m \u001b[39mself\u001b[39;49m\u001b[39m.\u001b[39;49mclient\u001b[39m.\u001b[39;49minvoke_model(\n\u001b[1;32m    122\u001b[0m         body\u001b[39m=\u001b[39;49mbody,\n\u001b[1;32m    123\u001b[0m         modelId\u001b[39m=\u001b[39;49m\u001b[39mself\u001b[39;49m\u001b[39m.\u001b[39;49mmodel_id,\n\u001b[1;32m    124\u001b[0m         accept\u001b[39m=\u001b[39;49m\u001b[39m\"\u001b[39;49m\u001b[39mapplication/json\u001b[39;49m\u001b[39m\"\u001b[39;49m,\n\u001b[1;32m    125\u001b[0m         contentType\u001b[39m=\u001b[39;49m\u001b[39m\"\u001b[39;49m\u001b[39mapplication/json\u001b[39;49m\u001b[39m\"\u001b[39;49m,\n\u001b[1;32m    126\u001b[0m     )\n\u001b[1;32m    127\u001b[0m     response_body \u001b[39m=\u001b[39m json\u001b[39m.\u001b[39mloads(response\u001b[39m.\u001b[39mget(\u001b[39m\"\u001b[39m\u001b[39mbody\u001b[39m\u001b[39m\"\u001b[39m)\u001b[39m.\u001b[39mread())\n\u001b[1;32m    128\u001b[0m     \u001b[39mreturn\u001b[39;00m response_body\u001b[39m.\u001b[39mget(\u001b[39m\"\u001b[39m\u001b[39membedding\u001b[39m\u001b[39m\"\u001b[39m)\n",
      "File \u001b[0;32m/opt/conda/lib/python3.10/site-packages/botocore/client.py:565\u001b[0m, in \u001b[0;36mClientCreator._create_api_method.<locals>._api_call\u001b[0;34m(self, *args, **kwargs)\u001b[0m\n\u001b[1;32m    561\u001b[0m     \u001b[39mraise\u001b[39;00m \u001b[39mTypeError\u001b[39;00m(\n\u001b[1;32m    562\u001b[0m         \u001b[39mf\u001b[39m\u001b[39m\"\u001b[39m\u001b[39m{\u001b[39;00mpy_operation_name\u001b[39m}\u001b[39;00m\u001b[39m() only accepts keyword arguments.\u001b[39m\u001b[39m\"\u001b[39m\n\u001b[1;32m    563\u001b[0m     )\n\u001b[1;32m    564\u001b[0m \u001b[39m# The \"self\" in this scope is referring to the BaseClient.\u001b[39;00m\n\u001b[0;32m--> 565\u001b[0m \u001b[39mreturn\u001b[39;00m \u001b[39mself\u001b[39;49m\u001b[39m.\u001b[39;49m_make_api_call(operation_name, kwargs)\n",
      "File \u001b[0;32m/opt/conda/lib/python3.10/site-packages/botocore/client.py:1001\u001b[0m, in \u001b[0;36mBaseClient._make_api_call\u001b[0;34m(self, operation_name, api_params)\u001b[0m\n\u001b[1;32m    997\u001b[0m     maybe_compress_request(\n\u001b[1;32m    998\u001b[0m         \u001b[39mself\u001b[39m\u001b[39m.\u001b[39mmeta\u001b[39m.\u001b[39mconfig, request_dict, operation_model\n\u001b[1;32m    999\u001b[0m     )\n\u001b[1;32m   1000\u001b[0m     apply_request_checksum(request_dict)\n\u001b[0;32m-> 1001\u001b[0m     http, parsed_response \u001b[39m=\u001b[39m \u001b[39mself\u001b[39;49m\u001b[39m.\u001b[39;49m_make_request(\n\u001b[1;32m   1002\u001b[0m         operation_model, request_dict, request_context\n\u001b[1;32m   1003\u001b[0m     )\n\u001b[1;32m   1005\u001b[0m \u001b[39mself\u001b[39m\u001b[39m.\u001b[39mmeta\u001b[39m.\u001b[39mevents\u001b[39m.\u001b[39memit(\n\u001b[1;32m   1006\u001b[0m     \u001b[39m'\u001b[39m\u001b[39mafter-call.\u001b[39m\u001b[39m{service_id}\u001b[39;00m\u001b[39m.\u001b[39m\u001b[39m{operation_name}\u001b[39;00m\u001b[39m'\u001b[39m\u001b[39m.\u001b[39mformat(\n\u001b[1;32m   1007\u001b[0m         service_id\u001b[39m=\u001b[39mservice_id, operation_name\u001b[39m=\u001b[39moperation_name\n\u001b[0;32m   (...)\u001b[0m\n\u001b[1;32m   1012\u001b[0m     context\u001b[39m=\u001b[39mrequest_context,\n\u001b[1;32m   1013\u001b[0m )\n\u001b[1;32m   1015\u001b[0m \u001b[39mif\u001b[39;00m http\u001b[39m.\u001b[39mstatus_code \u001b[39m>\u001b[39m\u001b[39m=\u001b[39m \u001b[39m300\u001b[39m:\n",
      "File \u001b[0;32m/opt/conda/lib/python3.10/site-packages/botocore/client.py:1027\u001b[0m, in \u001b[0;36mBaseClient._make_request\u001b[0;34m(self, operation_model, request_dict, request_context)\u001b[0m\n\u001b[1;32m   1025\u001b[0m \u001b[39mdef\u001b[39;00m \u001b[39m_make_request\u001b[39m(\u001b[39mself\u001b[39m, operation_model, request_dict, request_context):\n\u001b[1;32m   1026\u001b[0m     \u001b[39mtry\u001b[39;00m:\n\u001b[0;32m-> 1027\u001b[0m         \u001b[39mreturn\u001b[39;00m \u001b[39mself\u001b[39;49m\u001b[39m.\u001b[39;49m_endpoint\u001b[39m.\u001b[39;49mmake_request(operation_model, request_dict)\n\u001b[1;32m   1028\u001b[0m     \u001b[39mexcept\u001b[39;00m \u001b[39mException\u001b[39;00m \u001b[39mas\u001b[39;00m e:\n\u001b[1;32m   1029\u001b[0m         \u001b[39mself\u001b[39m\u001b[39m.\u001b[39mmeta\u001b[39m.\u001b[39mevents\u001b[39m.\u001b[39memit(\n\u001b[1;32m   1030\u001b[0m             \u001b[39m'\u001b[39m\u001b[39mafter-call-error.\u001b[39m\u001b[39m{service_id}\u001b[39;00m\u001b[39m.\u001b[39m\u001b[39m{operation_name}\u001b[39;00m\u001b[39m'\u001b[39m\u001b[39m.\u001b[39mformat(\n\u001b[1;32m   1031\u001b[0m                 service_id\u001b[39m=\u001b[39m\u001b[39mself\u001b[39m\u001b[39m.\u001b[39m_service_model\u001b[39m.\u001b[39mservice_id\u001b[39m.\u001b[39mhyphenize(),\n\u001b[0;32m   (...)\u001b[0m\n\u001b[1;32m   1035\u001b[0m             context\u001b[39m=\u001b[39mrequest_context,\n\u001b[1;32m   1036\u001b[0m         )\n",
      "File \u001b[0;32m/opt/conda/lib/python3.10/site-packages/botocore/endpoint.py:119\u001b[0m, in \u001b[0;36mEndpoint.make_request\u001b[0;34m(self, operation_model, request_dict)\u001b[0m\n\u001b[1;32m    113\u001b[0m \u001b[39mdef\u001b[39;00m \u001b[39mmake_request\u001b[39m(\u001b[39mself\u001b[39m, operation_model, request_dict):\n\u001b[1;32m    114\u001b[0m     logger\u001b[39m.\u001b[39mdebug(\n\u001b[1;32m    115\u001b[0m         \u001b[39m\"\u001b[39m\u001b[39mMaking request for \u001b[39m\u001b[39m%s\u001b[39;00m\u001b[39m with params: \u001b[39m\u001b[39m%s\u001b[39;00m\u001b[39m\"\u001b[39m,\n\u001b[1;32m    116\u001b[0m         operation_model,\n\u001b[1;32m    117\u001b[0m         request_dict,\n\u001b[1;32m    118\u001b[0m     )\n\u001b[0;32m--> 119\u001b[0m     \u001b[39mreturn\u001b[39;00m \u001b[39mself\u001b[39;49m\u001b[39m.\u001b[39;49m_send_request(request_dict, operation_model)\n",
      "File \u001b[0;32m/opt/conda/lib/python3.10/site-packages/botocore/endpoint.py:199\u001b[0m, in \u001b[0;36mEndpoint._send_request\u001b[0;34m(self, request_dict, operation_model)\u001b[0m\n\u001b[1;32m    197\u001b[0m \u001b[39mself\u001b[39m\u001b[39m.\u001b[39m_update_retries_context(context, attempts)\n\u001b[1;32m    198\u001b[0m request \u001b[39m=\u001b[39m \u001b[39mself\u001b[39m\u001b[39m.\u001b[39mcreate_request(request_dict, operation_model)\n\u001b[0;32m--> 199\u001b[0m success_response, exception \u001b[39m=\u001b[39m \u001b[39mself\u001b[39;49m\u001b[39m.\u001b[39;49m_get_response(\n\u001b[1;32m    200\u001b[0m     request, operation_model, context\n\u001b[1;32m    201\u001b[0m )\n\u001b[1;32m    202\u001b[0m \u001b[39mwhile\u001b[39;00m \u001b[39mself\u001b[39m\u001b[39m.\u001b[39m_needs_retry(\n\u001b[1;32m    203\u001b[0m     attempts,\n\u001b[1;32m    204\u001b[0m     operation_model,\n\u001b[0;32m   (...)\u001b[0m\n\u001b[1;32m    207\u001b[0m     exception,\n\u001b[1;32m    208\u001b[0m ):\n\u001b[1;32m    209\u001b[0m     attempts \u001b[39m+\u001b[39m\u001b[39m=\u001b[39m \u001b[39m1\u001b[39m\n",
      "File \u001b[0;32m/opt/conda/lib/python3.10/site-packages/botocore/endpoint.py:241\u001b[0m, in \u001b[0;36mEndpoint._get_response\u001b[0;34m(self, request, operation_model, context)\u001b[0m\n\u001b[1;32m    235\u001b[0m \u001b[39mdef\u001b[39;00m \u001b[39m_get_response\u001b[39m(\u001b[39mself\u001b[39m, request, operation_model, context):\n\u001b[1;32m    236\u001b[0m     \u001b[39m# This will return a tuple of (success_response, exception)\u001b[39;00m\n\u001b[1;32m    237\u001b[0m     \u001b[39m# and success_response is itself a tuple of\u001b[39;00m\n\u001b[1;32m    238\u001b[0m     \u001b[39m# (http_response, parsed_dict).\u001b[39;00m\n\u001b[1;32m    239\u001b[0m     \u001b[39m# If an exception occurs then the success_response is None.\u001b[39;00m\n\u001b[1;32m    240\u001b[0m     \u001b[39m# If no exception occurs then exception is None.\u001b[39;00m\n\u001b[0;32m--> 241\u001b[0m     success_response, exception \u001b[39m=\u001b[39m \u001b[39mself\u001b[39;49m\u001b[39m.\u001b[39;49m_do_get_response(\n\u001b[1;32m    242\u001b[0m         request, operation_model, context\n\u001b[1;32m    243\u001b[0m     )\n\u001b[1;32m    244\u001b[0m     kwargs_to_emit \u001b[39m=\u001b[39m {\n\u001b[1;32m    245\u001b[0m         \u001b[39m'\u001b[39m\u001b[39mresponse_dict\u001b[39m\u001b[39m'\u001b[39m: \u001b[39mNone\u001b[39;00m,\n\u001b[1;32m    246\u001b[0m         \u001b[39m'\u001b[39m\u001b[39mparsed_response\u001b[39m\u001b[39m'\u001b[39m: \u001b[39mNone\u001b[39;00m,\n\u001b[1;32m    247\u001b[0m         \u001b[39m'\u001b[39m\u001b[39mcontext\u001b[39m\u001b[39m'\u001b[39m: context,\n\u001b[1;32m    248\u001b[0m         \u001b[39m'\u001b[39m\u001b[39mexception\u001b[39m\u001b[39m'\u001b[39m: exception,\n\u001b[1;32m    249\u001b[0m     }\n\u001b[1;32m    250\u001b[0m     \u001b[39mif\u001b[39;00m success_response \u001b[39mis\u001b[39;00m \u001b[39mnot\u001b[39;00m \u001b[39mNone\u001b[39;00m:\n",
      "File \u001b[0;32m/opt/conda/lib/python3.10/site-packages/botocore/endpoint.py:281\u001b[0m, in \u001b[0;36mEndpoint._do_get_response\u001b[0;34m(self, request, operation_model, context)\u001b[0m\n\u001b[1;32m    279\u001b[0m     http_response \u001b[39m=\u001b[39m first_non_none_response(responses)\n\u001b[1;32m    280\u001b[0m     \u001b[39mif\u001b[39;00m http_response \u001b[39mis\u001b[39;00m \u001b[39mNone\u001b[39;00m:\n\u001b[0;32m--> 281\u001b[0m         http_response \u001b[39m=\u001b[39m \u001b[39mself\u001b[39;49m\u001b[39m.\u001b[39;49m_send(request)\n\u001b[1;32m    282\u001b[0m \u001b[39mexcept\u001b[39;00m HTTPClientError \u001b[39mas\u001b[39;00m e:\n\u001b[1;32m    283\u001b[0m     \u001b[39mreturn\u001b[39;00m (\u001b[39mNone\u001b[39;00m, e)\n",
      "File \u001b[0;32m/opt/conda/lib/python3.10/site-packages/botocore/endpoint.py:377\u001b[0m, in \u001b[0;36mEndpoint._send\u001b[0;34m(self, request)\u001b[0m\n\u001b[1;32m    376\u001b[0m \u001b[39mdef\u001b[39;00m \u001b[39m_send\u001b[39m(\u001b[39mself\u001b[39m, request):\n\u001b[0;32m--> 377\u001b[0m     \u001b[39mreturn\u001b[39;00m \u001b[39mself\u001b[39;49m\u001b[39m.\u001b[39;49mhttp_session\u001b[39m.\u001b[39;49msend(request)\n",
      "File \u001b[0;32m/opt/conda/lib/python3.10/site-packages/botocore/httpsession.py:464\u001b[0m, in \u001b[0;36mURLLib3Session.send\u001b[0;34m(self, request)\u001b[0m\n\u001b[1;32m    461\u001b[0m     conn\u001b[39m.\u001b[39mproxy_headers[\u001b[39m'\u001b[39m\u001b[39mhost\u001b[39m\u001b[39m'\u001b[39m] \u001b[39m=\u001b[39m host\n\u001b[1;32m    463\u001b[0m request_target \u001b[39m=\u001b[39m \u001b[39mself\u001b[39m\u001b[39m.\u001b[39m_get_request_target(request\u001b[39m.\u001b[39murl, proxy_url)\n\u001b[0;32m--> 464\u001b[0m urllib_response \u001b[39m=\u001b[39m conn\u001b[39m.\u001b[39;49murlopen(\n\u001b[1;32m    465\u001b[0m     method\u001b[39m=\u001b[39;49mrequest\u001b[39m.\u001b[39;49mmethod,\n\u001b[1;32m    466\u001b[0m     url\u001b[39m=\u001b[39;49mrequest_target,\n\u001b[1;32m    467\u001b[0m     body\u001b[39m=\u001b[39;49mrequest\u001b[39m.\u001b[39;49mbody,\n\u001b[1;32m    468\u001b[0m     headers\u001b[39m=\u001b[39;49mrequest\u001b[39m.\u001b[39;49mheaders,\n\u001b[1;32m    469\u001b[0m     retries\u001b[39m=\u001b[39;49mRetry(\u001b[39mFalse\u001b[39;49;00m),\n\u001b[1;32m    470\u001b[0m     assert_same_host\u001b[39m=\u001b[39;49m\u001b[39mFalse\u001b[39;49;00m,\n\u001b[1;32m    471\u001b[0m     preload_content\u001b[39m=\u001b[39;49m\u001b[39mFalse\u001b[39;49;00m,\n\u001b[1;32m    472\u001b[0m     decode_content\u001b[39m=\u001b[39;49m\u001b[39mFalse\u001b[39;49;00m,\n\u001b[1;32m    473\u001b[0m     chunked\u001b[39m=\u001b[39;49m\u001b[39mself\u001b[39;49m\u001b[39m.\u001b[39;49m_chunked(request\u001b[39m.\u001b[39;49mheaders),\n\u001b[1;32m    474\u001b[0m )\n\u001b[1;32m    476\u001b[0m http_response \u001b[39m=\u001b[39m botocore\u001b[39m.\u001b[39mawsrequest\u001b[39m.\u001b[39mAWSResponse(\n\u001b[1;32m    477\u001b[0m     request\u001b[39m.\u001b[39murl,\n\u001b[1;32m    478\u001b[0m     urllib_response\u001b[39m.\u001b[39mstatus,\n\u001b[1;32m    479\u001b[0m     urllib_response\u001b[39m.\u001b[39mheaders,\n\u001b[1;32m    480\u001b[0m     urllib_response,\n\u001b[1;32m    481\u001b[0m )\n\u001b[1;32m    483\u001b[0m \u001b[39mif\u001b[39;00m \u001b[39mnot\u001b[39;00m request\u001b[39m.\u001b[39mstream_output:\n\u001b[1;32m    484\u001b[0m     \u001b[39m# Cause the raw stream to be exhausted immediately. We do it\u001b[39;00m\n\u001b[1;32m    485\u001b[0m     \u001b[39m# this way instead of using preload_content because\u001b[39;00m\n\u001b[1;32m    486\u001b[0m     \u001b[39m# preload_content will never buffer chunked responses\u001b[39;00m\n",
      "File \u001b[0;32m/opt/conda/lib/python3.10/site-packages/urllib3/connectionpool.py:715\u001b[0m, in \u001b[0;36mHTTPConnectionPool.urlopen\u001b[0;34m(self, method, url, body, headers, retries, redirect, assert_same_host, timeout, pool_timeout, release_conn, chunked, body_pos, **response_kw)\u001b[0m\n\u001b[1;32m    712\u001b[0m     \u001b[39mself\u001b[39m\u001b[39m.\u001b[39m_prepare_proxy(conn)\n\u001b[1;32m    714\u001b[0m \u001b[39m# Make the request on the httplib connection object.\u001b[39;00m\n\u001b[0;32m--> 715\u001b[0m httplib_response \u001b[39m=\u001b[39m \u001b[39mself\u001b[39;49m\u001b[39m.\u001b[39;49m_make_request(\n\u001b[1;32m    716\u001b[0m     conn,\n\u001b[1;32m    717\u001b[0m     method,\n\u001b[1;32m    718\u001b[0m     url,\n\u001b[1;32m    719\u001b[0m     timeout\u001b[39m=\u001b[39;49mtimeout_obj,\n\u001b[1;32m    720\u001b[0m     body\u001b[39m=\u001b[39;49mbody,\n\u001b[1;32m    721\u001b[0m     headers\u001b[39m=\u001b[39;49mheaders,\n\u001b[1;32m    722\u001b[0m     chunked\u001b[39m=\u001b[39;49mchunked,\n\u001b[1;32m    723\u001b[0m )\n\u001b[1;32m    725\u001b[0m \u001b[39m# If we're going to release the connection in ``finally:``, then\u001b[39;00m\n\u001b[1;32m    726\u001b[0m \u001b[39m# the response doesn't need to know about the connection. Otherwise\u001b[39;00m\n\u001b[1;32m    727\u001b[0m \u001b[39m# it will also try to release it and we'll have a double-release\u001b[39;00m\n\u001b[1;32m    728\u001b[0m \u001b[39m# mess.\u001b[39;00m\n\u001b[1;32m    729\u001b[0m response_conn \u001b[39m=\u001b[39m conn \u001b[39mif\u001b[39;00m \u001b[39mnot\u001b[39;00m release_conn \u001b[39melse\u001b[39;00m \u001b[39mNone\u001b[39;00m\n",
      "File \u001b[0;32m/opt/conda/lib/python3.10/site-packages/urllib3/connectionpool.py:467\u001b[0m, in \u001b[0;36mHTTPConnectionPool._make_request\u001b[0;34m(self, conn, method, url, timeout, chunked, **httplib_request_kw)\u001b[0m\n\u001b[1;32m    462\u001b[0m             httplib_response \u001b[39m=\u001b[39m conn\u001b[39m.\u001b[39mgetresponse()\n\u001b[1;32m    463\u001b[0m         \u001b[39mexcept\u001b[39;00m \u001b[39mBaseException\u001b[39;00m \u001b[39mas\u001b[39;00m e:\n\u001b[1;32m    464\u001b[0m             \u001b[39m# Remove the TypeError from the exception chain in\u001b[39;00m\n\u001b[1;32m    465\u001b[0m             \u001b[39m# Python 3 (including for exceptions like SystemExit).\u001b[39;00m\n\u001b[1;32m    466\u001b[0m             \u001b[39m# Otherwise it looks like a bug in the code.\u001b[39;00m\n\u001b[0;32m--> 467\u001b[0m             six\u001b[39m.\u001b[39;49mraise_from(e, \u001b[39mNone\u001b[39;49;00m)\n\u001b[1;32m    468\u001b[0m \u001b[39mexcept\u001b[39;00m (SocketTimeout, BaseSSLError, SocketError) \u001b[39mas\u001b[39;00m e:\n\u001b[1;32m    469\u001b[0m     \u001b[39mself\u001b[39m\u001b[39m.\u001b[39m_raise_timeout(err\u001b[39m=\u001b[39me, url\u001b[39m=\u001b[39murl, timeout_value\u001b[39m=\u001b[39mread_timeout)\n",
      "File \u001b[0;32m<string>:3\u001b[0m, in \u001b[0;36mraise_from\u001b[0;34m(value, from_value)\u001b[0m\n",
      "File \u001b[0;32m/opt/conda/lib/python3.10/site-packages/urllib3/connectionpool.py:462\u001b[0m, in \u001b[0;36mHTTPConnectionPool._make_request\u001b[0;34m(self, conn, method, url, timeout, chunked, **httplib_request_kw)\u001b[0m\n\u001b[1;32m    459\u001b[0m \u001b[39mexcept\u001b[39;00m \u001b[39mTypeError\u001b[39;00m:\n\u001b[1;32m    460\u001b[0m     \u001b[39m# Python 3\u001b[39;00m\n\u001b[1;32m    461\u001b[0m     \u001b[39mtry\u001b[39;00m:\n\u001b[0;32m--> 462\u001b[0m         httplib_response \u001b[39m=\u001b[39m conn\u001b[39m.\u001b[39;49mgetresponse()\n\u001b[1;32m    463\u001b[0m     \u001b[39mexcept\u001b[39;00m \u001b[39mBaseException\u001b[39;00m \u001b[39mas\u001b[39;00m e:\n\u001b[1;32m    464\u001b[0m         \u001b[39m# Remove the TypeError from the exception chain in\u001b[39;00m\n\u001b[1;32m    465\u001b[0m         \u001b[39m# Python 3 (including for exceptions like SystemExit).\u001b[39;00m\n\u001b[1;32m    466\u001b[0m         \u001b[39m# Otherwise it looks like a bug in the code.\u001b[39;00m\n\u001b[1;32m    467\u001b[0m         six\u001b[39m.\u001b[39mraise_from(e, \u001b[39mNone\u001b[39;00m)\n",
      "File \u001b[0;32m/opt/conda/lib/python3.10/http/client.py:1375\u001b[0m, in \u001b[0;36mHTTPConnection.getresponse\u001b[0;34m(self)\u001b[0m\n\u001b[1;32m   1373\u001b[0m \u001b[39mtry\u001b[39;00m:\n\u001b[1;32m   1374\u001b[0m     \u001b[39mtry\u001b[39;00m:\n\u001b[0;32m-> 1375\u001b[0m         response\u001b[39m.\u001b[39;49mbegin()\n\u001b[1;32m   1376\u001b[0m     \u001b[39mexcept\u001b[39;00m \u001b[39mConnectionError\u001b[39;00m:\n\u001b[1;32m   1377\u001b[0m         \u001b[39mself\u001b[39m\u001b[39m.\u001b[39mclose()\n",
      "File \u001b[0;32m/opt/conda/lib/python3.10/http/client.py:318\u001b[0m, in \u001b[0;36mHTTPResponse.begin\u001b[0;34m(self)\u001b[0m\n\u001b[1;32m    316\u001b[0m \u001b[39m# read until we get a non-100 response\u001b[39;00m\n\u001b[1;32m    317\u001b[0m \u001b[39mwhile\u001b[39;00m \u001b[39mTrue\u001b[39;00m:\n\u001b[0;32m--> 318\u001b[0m     version, status, reason \u001b[39m=\u001b[39m \u001b[39mself\u001b[39;49m\u001b[39m.\u001b[39;49m_read_status()\n\u001b[1;32m    319\u001b[0m     \u001b[39mif\u001b[39;00m status \u001b[39m!=\u001b[39m CONTINUE:\n\u001b[1;32m    320\u001b[0m         \u001b[39mbreak\u001b[39;00m\n",
      "File \u001b[0;32m/opt/conda/lib/python3.10/http/client.py:279\u001b[0m, in \u001b[0;36mHTTPResponse._read_status\u001b[0;34m(self)\u001b[0m\n\u001b[1;32m    278\u001b[0m \u001b[39mdef\u001b[39;00m \u001b[39m_read_status\u001b[39m(\u001b[39mself\u001b[39m):\n\u001b[0;32m--> 279\u001b[0m     line \u001b[39m=\u001b[39m \u001b[39mstr\u001b[39m(\u001b[39mself\u001b[39;49m\u001b[39m.\u001b[39;49mfp\u001b[39m.\u001b[39;49mreadline(_MAXLINE \u001b[39m+\u001b[39;49m \u001b[39m1\u001b[39;49m), \u001b[39m\"\u001b[39m\u001b[39miso-8859-1\u001b[39m\u001b[39m\"\u001b[39m)\n\u001b[1;32m    280\u001b[0m     \u001b[39mif\u001b[39;00m \u001b[39mlen\u001b[39m(line) \u001b[39m>\u001b[39m _MAXLINE:\n\u001b[1;32m    281\u001b[0m         \u001b[39mraise\u001b[39;00m LineTooLong(\u001b[39m\"\u001b[39m\u001b[39mstatus line\u001b[39m\u001b[39m\"\u001b[39m)\n",
      "File \u001b[0;32m/opt/conda/lib/python3.10/socket.py:705\u001b[0m, in \u001b[0;36mSocketIO.readinto\u001b[0;34m(self, b)\u001b[0m\n\u001b[1;32m    703\u001b[0m \u001b[39mwhile\u001b[39;00m \u001b[39mTrue\u001b[39;00m:\n\u001b[1;32m    704\u001b[0m     \u001b[39mtry\u001b[39;00m:\n\u001b[0;32m--> 705\u001b[0m         \u001b[39mreturn\u001b[39;00m \u001b[39mself\u001b[39;49m\u001b[39m.\u001b[39;49m_sock\u001b[39m.\u001b[39;49mrecv_into(b)\n\u001b[1;32m    706\u001b[0m     \u001b[39mexcept\u001b[39;00m timeout:\n\u001b[1;32m    707\u001b[0m         \u001b[39mself\u001b[39m\u001b[39m.\u001b[39m_timeout_occurred \u001b[39m=\u001b[39m \u001b[39mTrue\u001b[39;00m\n",
      "File \u001b[0;32m/opt/conda/lib/python3.10/ssl.py:1307\u001b[0m, in \u001b[0;36mSSLSocket.recv_into\u001b[0;34m(self, buffer, nbytes, flags)\u001b[0m\n\u001b[1;32m   1303\u001b[0m     \u001b[39mif\u001b[39;00m flags \u001b[39m!=\u001b[39m \u001b[39m0\u001b[39m:\n\u001b[1;32m   1304\u001b[0m         \u001b[39mraise\u001b[39;00m \u001b[39mValueError\u001b[39;00m(\n\u001b[1;32m   1305\u001b[0m           \u001b[39m\"\u001b[39m\u001b[39mnon-zero flags not allowed in calls to recv_into() on \u001b[39m\u001b[39m%s\u001b[39;00m\u001b[39m\"\u001b[39m \u001b[39m%\u001b[39m\n\u001b[1;32m   1306\u001b[0m           \u001b[39mself\u001b[39m\u001b[39m.\u001b[39m\u001b[39m__class__\u001b[39m)\n\u001b[0;32m-> 1307\u001b[0m     \u001b[39mreturn\u001b[39;00m \u001b[39mself\u001b[39;49m\u001b[39m.\u001b[39;49mread(nbytes, buffer)\n\u001b[1;32m   1308\u001b[0m \u001b[39melse\u001b[39;00m:\n\u001b[1;32m   1309\u001b[0m     \u001b[39mreturn\u001b[39;00m \u001b[39msuper\u001b[39m()\u001b[39m.\u001b[39mrecv_into(buffer, nbytes, flags)\n",
      "File \u001b[0;32m/opt/conda/lib/python3.10/ssl.py:1163\u001b[0m, in \u001b[0;36mSSLSocket.read\u001b[0;34m(self, len, buffer)\u001b[0m\n\u001b[1;32m   1161\u001b[0m \u001b[39mtry\u001b[39;00m:\n\u001b[1;32m   1162\u001b[0m     \u001b[39mif\u001b[39;00m buffer \u001b[39mis\u001b[39;00m \u001b[39mnot\u001b[39;00m \u001b[39mNone\u001b[39;00m:\n\u001b[0;32m-> 1163\u001b[0m         \u001b[39mreturn\u001b[39;00m \u001b[39mself\u001b[39;49m\u001b[39m.\u001b[39;49m_sslobj\u001b[39m.\u001b[39;49mread(\u001b[39mlen\u001b[39;49m, buffer)\n\u001b[1;32m   1164\u001b[0m     \u001b[39melse\u001b[39;00m:\n\u001b[1;32m   1165\u001b[0m         \u001b[39mreturn\u001b[39;00m \u001b[39mself\u001b[39m\u001b[39m.\u001b[39m_sslobj\u001b[39m.\u001b[39mread(\u001b[39mlen\u001b[39m)\n",
      "\u001b[0;31mKeyboardInterrupt\u001b[0m: "
     ]
    }
   ],
   "source": [
    "documents = (df_questions[\"title:String\"] + '\\n' + df_questions[\"body:String\"]).to_list()\n",
    "df_questions[\"embedding:Vector\"] = created_embeddings_in_neptune_format(documents)\n",
    "df_questions\n"
   ]
  },
  {
   "cell_type": "markdown",
   "metadata": {},
   "source": [
    "* Now lets follow the same procedure for answers as well. \n"
   ]
  },
  {
   "cell_type": "code",
   "execution_count": null,
   "metadata": {},
   "outputs": [
    {
     "name": "stderr",
     "output_type": "stream",
     "text": [
      "/tmp/ipykernel_10404/1700615847.py:4: SettingWithCopyWarning: \n",
      "A value is trying to be set on a copy of a slice from a DataFrame.\n",
      "Try using .loc[row_indexer,col_indexer] = value instead\n",
      "\n",
      "See the caveats in the documentation: https://pandas.pydata.org/pandas-docs/stable/user_guide/indexing.html#returning-a-view-versus-a-copy\n",
      "  documents[\"wordcount\"] = documents[\"body:String\"].apply(lambda x: len(x.split()))\n"
     ]
    }
   ],
   "source": [
    "documents = df_answers[[\"body:String\"]]\n",
    "\n",
    "# count words in each value of dataframe add it to another column\n",
    "documents[\"wordcount\"] = documents[\"body:String\"].apply(lambda x: len(x.split()))"
   ]
  },
  {
   "cell_type": "code",
   "execution_count": null,
   "metadata": {},
   "outputs": [
    {
     "data": {
      "text/plain": [
       "(array([326., 636., 755., 757., 624., 529., 490., 402., 338., 279., 212.,\n",
       "        185., 142., 131., 107.,  94.,  92.,  55.,  60.,  54.,  56.,  38.,\n",
       "         28.,  30.,  23.,  24.,  16.,  13.,  17.,  14.,  11.,   9.,   8.,\n",
       "         11.,   7.,   2.,   8.,   6.,   5.,   6.,   4.,   1.,   1.,   4.,\n",
       "          0.,   2.,   0.,   2.,   1.,   4.,   0.,   1.,   1.,   2.,   2.,\n",
       "          3.,   1.,   2.,   0.,   2.,   1.,   0.,   1.,   0.,   0.,   0.,\n",
       "          0.,   0.,   1.,   1.,   0.,   0.,   2.,   0.,   0.,   0.,   0.,\n",
       "          0.,   0.,   1.,   0.,   0.,   0.,   0.,   0.,   0.,   0.,   0.,\n",
       "          0.,   0.,   0.,   0.,   0.,   0.,   0.,   0.,   0.,   0.,   0.,\n",
       "          1.]),\n",
       " array([  10.  ,   44.42,   78.84,  113.26,  147.68,  182.1 ,  216.52,\n",
       "         250.94,  285.36,  319.78,  354.2 ,  388.62,  423.04,  457.46,\n",
       "         491.88,  526.3 ,  560.72,  595.14,  629.56,  663.98,  698.4 ,\n",
       "         732.82,  767.24,  801.66,  836.08,  870.5 ,  904.92,  939.34,\n",
       "         973.76, 1008.18, 1042.6 , 1077.02, 1111.44, 1145.86, 1180.28,\n",
       "        1214.7 , 1249.12, 1283.54, 1317.96, 1352.38, 1386.8 , 1421.22,\n",
       "        1455.64, 1490.06, 1524.48, 1558.9 , 1593.32, 1627.74, 1662.16,\n",
       "        1696.58, 1731.  , 1765.42, 1799.84, 1834.26, 1868.68, 1903.1 ,\n",
       "        1937.52, 1971.94, 2006.36, 2040.78, 2075.2 , 2109.62, 2144.04,\n",
       "        2178.46, 2212.88, 2247.3 , 2281.72, 2316.14, 2350.56, 2384.98,\n",
       "        2419.4 , 2453.82, 2488.24, 2522.66, 2557.08, 2591.5 , 2625.92,\n",
       "        2660.34, 2694.76, 2729.18, 2763.6 , 2798.02, 2832.44, 2866.86,\n",
       "        2901.28, 2935.7 , 2970.12, 3004.54, 3038.96, 3073.38, 3107.8 ,\n",
       "        3142.22, 3176.64, 3211.06, 3245.48, 3279.9 , 3314.32, 3348.74,\n",
       "        3383.16, 3417.58, 3452.  ]),\n",
       " <BarContainer object of 100 artists>)"
      ]
     },
     "execution_count": 15,
     "metadata": {},
     "output_type": "execute_result"
    },
    {
     "data": {
      "image/png": "[encoded data removed]",
      "text/plain": [
       "<Figure size 640x480 with 1 Axes>"
      ]
     },
     "metadata": {},
     "output_type": "display_data"
    }
   ],
   "source": [
    "import matplotlib.pyplot as plt\n",
    "plt.hist(documents[\"wordcount\"], bins=100)"
   ]
  },
  {
   "cell_type": "markdown",
   "metadata": {},
   "source": [
    "##### Truncate the text greater than token length\n"
   ]
  },
  {
   "cell_type": "code",
   "execution_count": 16,
   "metadata": {},
   "outputs": [],
   "source": [
    "import pandas as p\n",
    "import numpy as np\n",
    "\n",
    "documents.loc[documents[\"wordcount\"] > 3000, 'body:String'] = documents[documents[\"wordcount\"] > 3000]['body:String'].str.slice(0, 3000)\n"
   ]
  },
  {
   "cell_type": "markdown",
   "metadata": {},
   "source": [
    "##### Create answer text embeddings"
   ]
  },
  {
   "cell_type": "code",
   "execution_count": 17,
   "metadata": {},
   "outputs": [
    {
     "name": "stderr",
     "output_type": "stream",
     "text": [
      "/tmp/ipykernel_10404/85003919.py:2: SettingWithCopyWarning: \n",
      "A value is trying to be set on a copy of a slice from a DataFrame.\n",
      "Try using .loc[row_indexer,col_indexer] = value instead\n",
      "\n",
      "See the caveats in the documentation: https://pandas.pydata.org/pandas-docs/stable/user_guide/indexing.html#returning-a-view-versus-a-copy\n",
      "  df_answers[\"embedding:Vector\"] = created_embeddings_in_neptune_format(documents[\"body:String\"].to_list())\n"
     ]
    },
    {
     "data": {
      "text/html": [
       "<div>\n",
       "<style scoped>\n",
       "    .dataframe tbody tr th:only-of-type {\n",
       "        vertical-align: middle;\n",
       "    }\n",
       "\n",
       "    .dataframe tbody tr th {\n",
       "        vertical-align: top;\n",
       "    }\n",
       "\n",
       "    .dataframe thead th {\n",
       "        text-align: right;\n",
       "    }\n",
       "</style>\n",
       "<table border=\"1\" class=\"dataframe\">\n",
       "  <thead>\n",
       "    <tr style=\"text-align: right;\">\n",
       "      <th></th>\n",
       "      <th>:ID</th>\n",
       "      <th>:LABEL</th>\n",
       "      <th>postTypeId:Int</th>\n",
       "      <th>parentId:Int</th>\n",
       "      <th>creationDate:DateTime</th>\n",
       "      <th>score:Int</th>\n",
       "      <th>body:String</th>\n",
       "      <th>ownerUserId:Int</th>\n",
       "      <th>lastEditDate:DateTime</th>\n",
       "      <th>lastActivityDate:DateTime</th>\n",
       "      <th>commentCount:Int</th>\n",
       "      <th>embedding:Vector</th>\n",
       "    </tr>\n",
       "  </thead>\n",
       "  <tbody>\n",
       "    <tr>\n",
       "      <th>5</th>\n",
       "      <td>7</td>\n",
       "      <td>post</td>\n",
       "      <td>2</td>\n",
       "      <td>6</td>\n",
       "      <td>2015-03-31T19:28:52.820</td>\n",
       "      <td>14</td>\n",
       "      <td>&lt;p&gt;Generally speaking, it's best to leave blis...</td>\n",
       "      <td>22</td>\n",
       "      <td>None</td>\n",
       "      <td>2015-03-31T19:28:52.820</td>\n",
       "      <td>1</td>\n",
       "      <td>-0.26757812;0.084472656;0.3515625;-0.08935547;...</td>\n",
       "    </tr>\n",
       "    <tr>\n",
       "      <th>6</th>\n",
       "      <td>8</td>\n",
       "      <td>post</td>\n",
       "      <td>2</td>\n",
       "      <td>5</td>\n",
       "      <td>2015-03-31T19:29:37.167</td>\n",
       "      <td>14</td>\n",
       "      <td>&lt;p&gt;Certainly not.  By definition, it cannot br...</td>\n",
       "      <td>8</td>\n",
       "      <td>None</td>\n",
       "      <td>2015-03-31T19:29:37.167</td>\n",
       "      <td>1</td>\n",
       "      <td>0.8515625;-0.009033203;0.21484375;-0.25;-0.398...</td>\n",
       "    </tr>\n",
       "    <tr>\n",
       "      <th>7</th>\n",
       "      <td>9</td>\n",
       "      <td>post</td>\n",
       "      <td>2</td>\n",
       "      <td>5</td>\n",
       "      <td>2015-03-31T19:31:01.247</td>\n",
       "      <td>19</td>\n",
       "      <td>&lt;p&gt;Actually, in the case of most drugs, it has...</td>\n",
       "      <td>22</td>\n",
       "      <td>None</td>\n",
       "      <td>2015-03-31T19:31:01.247</td>\n",
       "      <td>0</td>\n",
       "      <td>-0.16015625;-0.015991211;-0.12451172;0.0346679...</td>\n",
       "    </tr>\n",
       "    <tr>\n",
       "      <th>8</th>\n",
       "      <td>10</td>\n",
       "      <td>post</td>\n",
       "      <td>2</td>\n",
       "      <td>4</td>\n",
       "      <td>2015-03-31T19:36:37.267</td>\n",
       "      <td>25</td>\n",
       "      <td>&lt;p&gt;Both. Human cells largely exhibit a phenome...</td>\n",
       "      <td>22</td>\n",
       "      <td>2015-04-07T11:05:57.097</td>\n",
       "      <td>2015-04-07T11:05:57.097</td>\n",
       "      <td>11</td>\n",
       "      <td>0.27539062;-0.39453125;-0.060058594;-0.0198974...</td>\n",
       "    </tr>\n",
       "    <tr>\n",
       "      <th>10</th>\n",
       "      <td>12</td>\n",
       "      <td>post</td>\n",
       "      <td>2</td>\n",
       "      <td>3</td>\n",
       "      <td>2015-03-31T19:39:31.057</td>\n",
       "      <td>11</td>\n",
       "      <td>&lt;p&gt;Calcium carbonate is largely insoluble in a...</td>\n",
       "      <td>22</td>\n",
       "      <td>None</td>\n",
       "      <td>2015-03-31T19:39:31.057</td>\n",
       "      <td>0</td>\n",
       "      <td>0.3515625;0.2578125;0.12011719;0.020751953;-0....</td>\n",
       "    </tr>\n",
       "    <tr>\n",
       "      <th>...</th>\n",
       "      <td>...</td>\n",
       "      <td>...</td>\n",
       "      <td>...</td>\n",
       "      <td>...</td>\n",
       "      <td>...</td>\n",
       "      <td>...</td>\n",
       "      <td>...</td>\n",
       "      <td>...</td>\n",
       "      <td>...</td>\n",
       "      <td>...</td>\n",
       "      <td>...</td>\n",
       "      <td>...</td>\n",
       "    </tr>\n",
       "    <tr>\n",
       "      <th>14962</th>\n",
       "      <td>32674</td>\n",
       "      <td>post</td>\n",
       "      <td>2</td>\n",
       "      <td>1602</td>\n",
       "      <td>2023-11-26T12:05:02.687</td>\n",
       "      <td>2</td>\n",
       "      <td>&lt;h1&gt;Methods of monitoring blood pressure&lt;/h1&gt;\\...</td>\n",
       "      <td>14056</td>\n",
       "      <td>None</td>\n",
       "      <td>2023-11-26T12:05:02.687</td>\n",
       "      <td>0</td>\n",
       "      <td>-0.46244192;-0.42897865;0.5747445;-0.101017445...</td>\n",
       "    </tr>\n",
       "    <tr>\n",
       "      <th>14963</th>\n",
       "      <td>32675</td>\n",
       "      <td>post</td>\n",
       "      <td>2</td>\n",
       "      <td>5752</td>\n",
       "      <td>2023-11-26T12:20:55.067</td>\n",
       "      <td>2</td>\n",
       "      <td>&lt;p&gt;The British Journal of Sports Medicine publ...</td>\n",
       "      <td>14056</td>\n",
       "      <td>None</td>\n",
       "      <td>2023-11-26T12:20:55.067</td>\n",
       "      <td>0</td>\n",
       "      <td>-0.091796875;-0.114746094;0.21972656;0.15625;0...</td>\n",
       "    </tr>\n",
       "    <tr>\n",
       "      <th>14964</th>\n",
       "      <td>32676</td>\n",
       "      <td>post</td>\n",
       "      <td>2</td>\n",
       "      <td>11852</td>\n",
       "      <td>2023-11-26T13:30:08.563</td>\n",
       "      <td>-3</td>\n",
       "      <td>&lt;p&gt;According to a Harvard medical study, 40% o...</td>\n",
       "      <td>27581</td>\n",
       "      <td>None</td>\n",
       "      <td>2023-11-26T13:30:08.563</td>\n",
       "      <td>1</td>\n",
       "      <td>-0.21484375;-0.51953125;0.111816406;-0.3222656...</td>\n",
       "    </tr>\n",
       "    <tr>\n",
       "      <th>14970</th>\n",
       "      <td>32684</td>\n",
       "      <td>post</td>\n",
       "      <td>2</td>\n",
       "      <td>31424</td>\n",
       "      <td>2023-11-29T23:34:39.167</td>\n",
       "      <td>2</td>\n",
       "      <td>&lt;p&gt;The respiratory and cardiac cycles vary in ...</td>\n",
       "      <td>17703</td>\n",
       "      <td>None</td>\n",
       "      <td>2023-11-29T23:34:39.167</td>\n",
       "      <td>0</td>\n",
       "      <td>0.07910156;-0.34960938;0.33984375;-0.15136719;...</td>\n",
       "    </tr>\n",
       "    <tr>\n",
       "      <th>14972</th>\n",
       "      <td>32687</td>\n",
       "      <td>post</td>\n",
       "      <td>2</td>\n",
       "      <td>32686</td>\n",
       "      <td>2023-12-01T15:42:20.110</td>\n",
       "      <td>7</td>\n",
       "      <td>&lt;p&gt;You’re right that the origin of these two v...</td>\n",
       "      <td>14056</td>\n",
       "      <td>2023-12-01T20:54:58.003</td>\n",
       "      <td>2023-12-01T20:54:58.003</td>\n",
       "      <td>8</td>\n",
       "      <td>-0.58564085;-0.27360633;-0.17125693;-0.428439;...</td>\n",
       "    </tr>\n",
       "  </tbody>\n",
       "</table>\n",
       "<p>6641 rows × 12 columns</p>\n",
       "</div>"
      ],
      "text/plain": [
       "         :ID :LABEL postTypeId:Int parentId:Int    creationDate:DateTime  \\\n",
       "5          7   post              2            6  2015-03-31T19:28:52.820   \n",
       "6          8   post              2            5  2015-03-31T19:29:37.167   \n",
       "7          9   post              2            5  2015-03-31T19:31:01.247   \n",
       "8         10   post              2            4  2015-03-31T19:36:37.267   \n",
       "10        12   post              2            3  2015-03-31T19:39:31.057   \n",
       "...      ...    ...            ...          ...                      ...   \n",
       "14962  32674   post              2         1602  2023-11-26T12:05:02.687   \n",
       "14963  32675   post              2         5752  2023-11-26T12:20:55.067   \n",
       "14964  32676   post              2        11852  2023-11-26T13:30:08.563   \n",
       "14970  32684   post              2        31424  2023-11-29T23:34:39.167   \n",
       "14972  32687   post              2        32686  2023-12-01T15:42:20.110   \n",
       "\n",
       "      score:Int                                        body:String  \\\n",
       "5            14  <p>Generally speaking, it's best to leave blis...   \n",
       "6            14  <p>Certainly not.  By definition, it cannot br...   \n",
       "7            19  <p>Actually, in the case of most drugs, it has...   \n",
       "8            25  <p>Both. Human cells largely exhibit a phenome...   \n",
       "10           11  <p>Calcium carbonate is largely insoluble in a...   \n",
       "...         ...                                                ...   \n",
       "14962         2  <h1>Methods of monitoring blood pressure</h1>\\...   \n",
       "14963         2  <p>The British Journal of Sports Medicine publ...   \n",
       "14964        -3  <p>According to a Harvard medical study, 40% o...   \n",
       "14970         2  <p>The respiratory and cardiac cycles vary in ...   \n",
       "14972         7  <p>You’re right that the origin of these two v...   \n",
       "\n",
       "      ownerUserId:Int    lastEditDate:DateTime lastActivityDate:DateTime  \\\n",
       "5                  22                     None   2015-03-31T19:28:52.820   \n",
       "6                   8                     None   2015-03-31T19:29:37.167   \n",
       "7                  22                     None   2015-03-31T19:31:01.247   \n",
       "8                  22  2015-04-07T11:05:57.097   2015-04-07T11:05:57.097   \n",
       "10                 22                     None   2015-03-31T19:39:31.057   \n",
       "...               ...                      ...                       ...   \n",
       "14962           14056                     None   2023-11-26T12:05:02.687   \n",
       "14963           14056                     None   2023-11-26T12:20:55.067   \n",
       "14964           27581                     None   2023-11-26T13:30:08.563   \n",
       "14970           17703                     None   2023-11-29T23:34:39.167   \n",
       "14972           14056  2023-12-01T20:54:58.003   2023-12-01T20:54:58.003   \n",
       "\n",
       "      commentCount:Int                                   embedding:Vector  \n",
       "5                    1  -0.26757812;0.084472656;0.3515625;-0.08935547;...  \n",
       "6                    1  0.8515625;-0.009033203;0.21484375;-0.25;-0.398...  \n",
       "7                    0  -0.16015625;-0.015991211;-0.12451172;0.0346679...  \n",
       "8                   11  0.27539062;-0.39453125;-0.060058594;-0.0198974...  \n",
       "10                   0  0.3515625;0.2578125;0.12011719;0.020751953;-0....  \n",
       "...                ...                                                ...  \n",
       "14962                0  -0.46244192;-0.42897865;0.5747445;-0.101017445...  \n",
       "14963                0  -0.091796875;-0.114746094;0.21972656;0.15625;0...  \n",
       "14964                1  -0.21484375;-0.51953125;0.111816406;-0.3222656...  \n",
       "14970                0  0.07910156;-0.34960938;0.33984375;-0.15136719;...  \n",
       "14972                8  -0.58564085;-0.27360633;-0.17125693;-0.428439;...  \n",
       "\n",
       "[6641 rows x 12 columns]"
      ]
     },
     "execution_count": 17,
     "metadata": {},
     "output_type": "execute_result"
    }
   ],
   "source": [
    "df_answers[\"embedding:Vector\"] = created_embeddings_in_neptune_format(documents[\"body:String\"].to_list())\n",
    "df_answers"
   ]
  },
  {
   "cell_type": "markdown",
   "metadata": {},
   "source": [
    "##### Create Question and Answer relationship."
   ]
  },
  {
   "cell_type": "code",
   "execution_count": 18,
   "metadata": {},
   "outputs": [],
   "source": [
    "rel_answers_to_questions = df_answers[[\":ID\", \"parentId:Int\"]].rename(columns={\":ID\": \":END_ID\", \"parentId:Int\": \":START_ID\"})\n",
    "rel_answers_to_questions[\":TYPE\"] = \"answer\""
   ]
  },
  {
   "cell_type": "markdown",
   "metadata": {},
   "source": [
    "##### Save posts cypher files as csv"
   ]
  },
  {
   "cell_type": "code",
   "execution_count": 19,
   "metadata": {},
   "outputs": [
    {
     "data": {
      "text/plain": [
       "'./data/health.stackexchange.com/opencypher/rel_question_to_answer_posts_cypher.csv'"
      ]
     },
     "execution_count": 19,
     "metadata": {},
     "output_type": "execute_result"
    }
   ],
   "source": [
    "save_cypher_csv_and_upload_s3(df_questions, \"node_question_posts_cypher\")\n",
    "save_cypher_csv_and_upload_s3(df_answers, \"node_answer_posts_cypher\")\n",
    "save_cypher_csv_and_upload_s3(rel_answers_to_questions, \"rel_question_to_answer_posts_cypher\")"
   ]
  },
  {
   "cell_type": "markdown",
   "metadata": {},
   "source": [
    "#### Comments"
   ]
  },
  {
   "cell_type": "code",
   "execution_count": 4,
   "metadata": {},
   "outputs": [
    {
     "data": {
      "text/plain": [
       "(25931, 7)"
      ]
     },
     "execution_count": 4,
     "metadata": {},
     "output_type": "execute_result"
    }
   ],
   "source": [
    "tree = ET.parse('data/health.stackexchange.com/Comments.xml')\n",
    "root = tree.getroot()\n",
    "\n",
    "# Initialize a list to collect data\n",
    "data = []\n",
    "# Loop through each comment in the XML\n",
    "for comment in root.findall('row'):\n",
    "    data.append({\n",
    "        ':ID': 'c_' + comment.get('Id'),\n",
    "        'postId:Int': comment.get('PostId'),\n",
    "        'score:Int': comment.get('Score'),\n",
    "        'text:String': comment.get('Text'),\n",
    "        'creationDate:Datetime': comment.get('CreationDate'),\n",
    "        'userId:Int': comment.get('UserId'),\n",
    "        ':LABEL' : 'comment'\n",
    "    })\n",
    "\n",
    "# Convert the list of dictionaries into a DataFrame\n",
    "df_comments = pd.DataFrame(data)\n",
    "df_comments.shape"
   ]
  },
  {
   "cell_type": "markdown",
   "metadata": {},
   "source": [
    "##### Create comments text embeddings"
   ]
  },
  {
   "cell_type": "code",
   "execution_count": 10,
   "metadata": {},
   "outputs": [
    {
     "data": {
      "text/html": [
       "<div>\n",
       "<style scoped>\n",
       "    .dataframe tbody tr th:only-of-type {\n",
       "        vertical-align: middle;\n",
       "    }\n",
       "\n",
       "    .dataframe tbody tr th {\n",
       "        vertical-align: top;\n",
       "    }\n",
       "\n",
       "    .dataframe thead th {\n",
       "        text-align: right;\n",
       "    }\n",
       "</style>\n",
       "<table border=\"1\" class=\"dataframe\">\n",
       "  <thead>\n",
       "    <tr style=\"text-align: right;\">\n",
       "      <th></th>\n",
       "      <th>:ID</th>\n",
       "      <th>postId:Int</th>\n",
       "      <th>score:Int</th>\n",
       "      <th>text:String</th>\n",
       "      <th>creationDate:Datetime</th>\n",
       "      <th>userId:Int</th>\n",
       "      <th>:LABEL</th>\n",
       "      <th>embedding:Vector</th>\n",
       "    </tr>\n",
       "  </thead>\n",
       "  <tbody>\n",
       "    <tr>\n",
       "      <th>0</th>\n",
       "      <td>c_1</td>\n",
       "      <td>8</td>\n",
       "      <td>1</td>\n",
       "      <td>Polonium-210 was more in line with what I was ...</td>\n",
       "      <td>2015-03-31T19:34:57.947</td>\n",
       "      <td>11</td>\n",
       "      <td>comment</td>\n",
       "      <td>0.6171875;-0.06982422;0.36523438;-0.37304688;-...</td>\n",
       "    </tr>\n",
       "    <tr>\n",
       "      <th>1</th>\n",
       "      <td>c_2</td>\n",
       "      <td>10</td>\n",
       "      <td>12</td>\n",
       "      <td>Some references in this answer would be nice.</td>\n",
       "      <td>2015-03-31T19:38:34.693</td>\n",
       "      <td>8</td>\n",
       "      <td>comment</td>\n",
       "      <td>-0.22167969;0.122558594;0.38867188;-0.73046875...</td>\n",
       "    </tr>\n",
       "    <tr>\n",
       "      <th>2</th>\n",
       "      <td>c_3</td>\n",
       "      <td>10</td>\n",
       "      <td>5</td>\n",
       "      <td>Hm. I don't have any of my textbooks immediate...</td>\n",
       "      <td>2015-03-31T19:41:25.630</td>\n",
       "      <td>22</td>\n",
       "      <td>comment</td>\n",
       "      <td>-0.022094727;0.30859375;-0.24609375;-0.3652343...</td>\n",
       "    </tr>\n",
       "    <tr>\n",
       "      <th>3</th>\n",
       "      <td>c_5</td>\n",
       "      <td>28</td>\n",
       "      <td>1</td>\n",
       "      <td>Thanks, good to know. I was asking as when app...</td>\n",
       "      <td>2015-03-31T21:02:52.027</td>\n",
       "      <td>43</td>\n",
       "      <td>comment</td>\n",
       "      <td>-0.29296875;0.30273438;0.46875;-0.59765625;-0....</td>\n",
       "    </tr>\n",
       "    <tr>\n",
       "      <th>4</th>\n",
       "      <td>c_6</td>\n",
       "      <td>13</td>\n",
       "      <td>4</td>\n",
       "      <td>http://parenting.stackexchange.com/q/1443</td>\n",
       "      <td>2015-03-31T21:29:06.330</td>\n",
       "      <td>49</td>\n",
       "      <td>comment</td>\n",
       "      <td>-0.31835938;0.06347656;-0.07421875;-0.50390625...</td>\n",
       "    </tr>\n",
       "    <tr>\n",
       "      <th>...</th>\n",
       "      <td>...</td>\n",
       "      <td>...</td>\n",
       "      <td>...</td>\n",
       "      <td>...</td>\n",
       "      <td>...</td>\n",
       "      <td>...</td>\n",
       "      <td>...</td>\n",
       "      <td>...</td>\n",
       "    </tr>\n",
       "    <tr>\n",
       "      <th>25926</th>\n",
       "      <td>c_63903</td>\n",
       "      <td>32687</td>\n",
       "      <td>0</td>\n",
       "      <td>after some inspection I realised that when loo...</td>\n",
       "      <td>2023-12-01T18:05:32.757</td>\n",
       "      <td>27607</td>\n",
       "      <td>comment</td>\n",
       "      <td>-0.11376953;-0.27734375;-0.17480469;-0.0131835...</td>\n",
       "    </tr>\n",
       "    <tr>\n",
       "      <th>25927</th>\n",
       "      <td>c_63904</td>\n",
       "      <td>32687</td>\n",
       "      <td>1</td>\n",
       "      <td>Only if the level and size of the kidneys is i...</td>\n",
       "      <td>2023-12-01T20:32:38.160</td>\n",
       "      <td>27132</td>\n",
       "      <td>comment</td>\n",
       "      <td>-0.26757812;-0.06298828;-0.07519531;-0.8945312...</td>\n",
       "    </tr>\n",
       "    <tr>\n",
       "      <th>25928</th>\n",
       "      <td>c_63905</td>\n",
       "      <td>32687</td>\n",
       "      <td>0</td>\n",
       "      <td>@Maria I agree that this is difficult with onl...</td>\n",
       "      <td>2023-12-01T20:40:38.457</td>\n",
       "      <td>14056</td>\n",
       "      <td>comment</td>\n",
       "      <td>-0.00037002563;-0.45703125;0.14355469;-0.54296...</td>\n",
       "    </tr>\n",
       "    <tr>\n",
       "      <th>25929</th>\n",
       "      <td>c_63906</td>\n",
       "      <td>32687</td>\n",
       "      <td>0</td>\n",
       "      <td>Actually I’m going to make an edit. Disclaimer...</td>\n",
       "      <td>2023-12-01T20:46:21.090</td>\n",
       "      <td>14056</td>\n",
       "      <td>comment</td>\n",
       "      <td>-0.7109375;-0.265625;-0.22070312;-0.7109375;0....</td>\n",
       "    </tr>\n",
       "    <tr>\n",
       "      <th>25930</th>\n",
       "      <td>c_63907</td>\n",
       "      <td>32687</td>\n",
       "      <td>1</td>\n",
       "      <td>thank you so so much! you are so very helpful ...</td>\n",
       "      <td>2023-12-01T21:36:17.820</td>\n",
       "      <td>27607</td>\n",
       "      <td>comment</td>\n",
       "      <td>-0.1875;-0.25976562;0.33789062;0.049316406;-0....</td>\n",
       "    </tr>\n",
       "  </tbody>\n",
       "</table>\n",
       "<p>25931 rows × 8 columns</p>\n",
       "</div>"
      ],
      "text/plain": [
       "           :ID postId:Int score:Int  \\\n",
       "0          c_1          8         1   \n",
       "1          c_2         10        12   \n",
       "2          c_3         10         5   \n",
       "3          c_5         28         1   \n",
       "4          c_6         13         4   \n",
       "...        ...        ...       ...   \n",
       "25926  c_63903      32687         0   \n",
       "25927  c_63904      32687         1   \n",
       "25928  c_63905      32687         0   \n",
       "25929  c_63906      32687         0   \n",
       "25930  c_63907      32687         1   \n",
       "\n",
       "                                             text:String  \\\n",
       "0      Polonium-210 was more in line with what I was ...   \n",
       "1          Some references in this answer would be nice.   \n",
       "2      Hm. I don't have any of my textbooks immediate...   \n",
       "3      Thanks, good to know. I was asking as when app...   \n",
       "4              http://parenting.stackexchange.com/q/1443   \n",
       "...                                                  ...   \n",
       "25926  after some inspection I realised that when loo...   \n",
       "25927  Only if the level and size of the kidneys is i...   \n",
       "25928  @Maria I agree that this is difficult with onl...   \n",
       "25929  Actually I’m going to make an edit. Disclaimer...   \n",
       "25930  thank you so so much! you are so very helpful ...   \n",
       "\n",
       "         creationDate:Datetime userId:Int   :LABEL  \\\n",
       "0      2015-03-31T19:34:57.947         11  comment   \n",
       "1      2015-03-31T19:38:34.693          8  comment   \n",
       "2      2015-03-31T19:41:25.630         22  comment   \n",
       "3      2015-03-31T21:02:52.027         43  comment   \n",
       "4      2015-03-31T21:29:06.330         49  comment   \n",
       "...                        ...        ...      ...   \n",
       "25926  2023-12-01T18:05:32.757      27607  comment   \n",
       "25927  2023-12-01T20:32:38.160      27132  comment   \n",
       "25928  2023-12-01T20:40:38.457      14056  comment   \n",
       "25929  2023-12-01T20:46:21.090      14056  comment   \n",
       "25930  2023-12-01T21:36:17.820      27607  comment   \n",
       "\n",
       "                                        embedding:Vector  \n",
       "0      0.6171875;-0.06982422;0.36523438;-0.37304688;-...  \n",
       "1      -0.22167969;0.122558594;0.38867188;-0.73046875...  \n",
       "2      -0.022094727;0.30859375;-0.24609375;-0.3652343...  \n",
       "3      -0.29296875;0.30273438;0.46875;-0.59765625;-0....  \n",
       "4      -0.31835938;0.06347656;-0.07421875;-0.50390625...  \n",
       "...                                                  ...  \n",
       "25926  -0.11376953;-0.27734375;-0.17480469;-0.0131835...  \n",
       "25927  -0.26757812;-0.06298828;-0.07519531;-0.8945312...  \n",
       "25928  -0.00037002563;-0.45703125;0.14355469;-0.54296...  \n",
       "25929  -0.7109375;-0.265625;-0.22070312;-0.7109375;0....  \n",
       "25930  -0.1875;-0.25976562;0.33789062;0.049316406;-0....  \n",
       "\n",
       "[25931 rows x 8 columns]"
      ]
     },
     "execution_count": 10,
     "metadata": {},
     "output_type": "execute_result"
    }
   ],
   "source": [
    "df_comments[\"embedding:Vector\"] = created_embeddings_in_neptune_format(df_comments[\"text:String\"].to_list())\n",
    "df_comments"
   ]
  },
  {
   "cell_type": "markdown",
   "metadata": {},
   "source": [
    "##### Create comments to Post Relationship"
   ]
  },
  {
   "cell_type": "code",
   "execution_count": 11,
   "metadata": {},
   "outputs": [
    {
     "name": "stderr",
     "output_type": "stream",
     "text": [
      "/tmp/ipykernel_16202/3247812114.py:2: SettingWithCopyWarning: \n",
      "A value is trying to be set on a copy of a slice from a DataFrame\n",
      "\n",
      "See the caveats in the documentation: https://pandas.pydata.org/pandas-docs/stable/user_guide/indexing.html#returning-a-view-versus-a-copy\n",
      "  rel_posts_comments.rename(columns={\"postId:Int\": \":START_ID\", \":ID\": \":END_ID\"}, inplace=True)\n",
      "/tmp/ipykernel_16202/3247812114.py:3: SettingWithCopyWarning: \n",
      "A value is trying to be set on a copy of a slice from a DataFrame.\n",
      "Try using .loc[row_indexer,col_indexer] = value instead\n",
      "\n",
      "See the caveats in the documentation: https://pandas.pydata.org/pandas-docs/stable/user_guide/indexing.html#returning-a-view-versus-a-copy\n",
      "  rel_posts_comments[\":TYPE\"] = \"has_comment\"\n"
     ]
    }
   ],
   "source": [
    "rel_posts_comments = df_comments[[\":ID\", \"postId:Int\"]]\n",
    "rel_posts_comments.rename(columns={\"postId:Int\": \":START_ID\", \":ID\": \":END_ID\"}, inplace=True)\n",
    "rel_posts_comments[\":TYPE\"] = \"has_comment\""
   ]
  },
  {
   "cell_type": "markdown",
   "metadata": {},
   "source": [
    "##### Save Comments and Relationships"
   ]
  },
  {
   "cell_type": "code",
   "execution_count": 12,
   "metadata": {},
   "outputs": [
    {
     "data": {
      "text/plain": [
       "'./data/health.stackexchange.com/opencypher/rel_post_comments_cypher.csv'"
      ]
     },
     "execution_count": 12,
     "metadata": {},
     "output_type": "execute_result"
    }
   ],
   "source": [
    "save_cypher_csv_and_upload_s3(df_comments, \"node_comments_cypher\")\n",
    "save_cypher_csv_and_upload_s3(rel_posts_comments, \"rel_post_comments_cypher\")         "
   ]
  },
  {
   "cell_type": "markdown",
   "metadata": {},
   "source": [
    "#### Post History"
   ]
  },
  {
   "cell_type": "code",
   "execution_count": 22,
   "metadata": {},
   "outputs": [],
   "source": [
    "# tree = ET.parse('data/health.stackexchange.com//PostHistory.xml')\n",
    "# root = tree.getroot()\n",
    "\n",
    "# # Initialize a list to collect data\n",
    "# data = []\n",
    "\n",
    "# # Extract data from each post history entry\n",
    "# for entry in root.findall('row'):\n",
    "#     data.append({\n",
    "#         ':ID': entry.get('Id'),\n",
    "#         'postHistoryTypeId:Int': entry.get('PostHistoryTypeId'),\n",
    "#         'postId:Int': entry.get('PostId'),\n",
    "#         #'RevisionGUID': entry.get('RevisionGUID'),\n",
    "#         'creationDate:DateTime': entry.get('CreationDate'),\n",
    "#         'userId:String': entry.get('UserId'),\n",
    "#         'text:String': entry.get('Text'),  # Decodes HTML entities in the text\n",
    "#         ':LABEL' : 'answer'\n",
    "#     })\n",
    "\n",
    "# # Convert to DataFrame\n",
    "# df_post_history = pd.DataFrame(data)\n",
    "\n",
    "# # Display the DataFrame to verify contents\n",
    "# df_post_history.head()"
   ]
  },
  {
   "cell_type": "markdown",
   "metadata": {},
   "source": [
    "##### Create PostHistory to Posts Relationships"
   ]
  },
  {
   "cell_type": "code",
   "execution_count": 23,
   "metadata": {},
   "outputs": [],
   "source": [
    "# rel_post_history = df_post_history[[\":ID\", \"postId:Int\"]]\n",
    "# rel_post_history.rename(columns={\"postId:Int\": \":START_ID\", \":ID\": \":END_ID\"}, inplace=True)\n",
    "# rel_post_history[\":TYPE\"] = \"has_answer\""
   ]
  },
  {
   "cell_type": "markdown",
   "metadata": {},
   "source": [
    "##### Save to History and Relashionships"
   ]
  },
  {
   "cell_type": "code",
   "execution_count": 24,
   "metadata": {},
   "outputs": [],
   "source": [
    "# save_cypher_csv_and_upload_s3(df_post_history, \"node_history_cypher\")\n",
    "# save_cypher_csv_and_upload_s3(rel_post_history, \"rel_post_history_cypher\")   "
   ]
  },
  {
   "cell_type": "markdown",
   "metadata": {},
   "source": [
    "#### Post Links"
   ]
  },
  {
   "cell_type": "code",
   "execution_count": 11,
   "metadata": {},
   "outputs": [
    {
     "data": {
      "text/html": [
       "<div>\n",
       "<style scoped>\n",
       "    .dataframe tbody tr th:only-of-type {\n",
       "        vertical-align: middle;\n",
       "    }\n",
       "\n",
       "    .dataframe tbody tr th {\n",
       "        vertical-align: top;\n",
       "    }\n",
       "\n",
       "    .dataframe thead th {\n",
       "        text-align: right;\n",
       "    }\n",
       "</style>\n",
       "<table border=\"1\" class=\"dataframe\">\n",
       "  <thead>\n",
       "    <tr style=\"text-align: right;\">\n",
       "      <th></th>\n",
       "      <th>:START_ID</th>\n",
       "      <th>:END_ID</th>\n",
       "      <th>creationDate:DateTime</th>\n",
       "      <th>linkTypeId:Int</th>\n",
       "      <th>:TYPE</th>\n",
       "    </tr>\n",
       "  </thead>\n",
       "  <tbody>\n",
       "    <tr>\n",
       "      <th>0</th>\n",
       "      <td>52</td>\n",
       "      <td>79</td>\n",
       "      <td>2015-04-01T03:30:24.763</td>\n",
       "      <td>1</td>\n",
       "      <td>relates_to</td>\n",
       "    </tr>\n",
       "    <tr>\n",
       "      <th>1</th>\n",
       "      <td>102</td>\n",
       "      <td>103</td>\n",
       "      <td>2015-04-01T14:24:54.137</td>\n",
       "      <td>1</td>\n",
       "      <td>relates_to</td>\n",
       "    </tr>\n",
       "    <tr>\n",
       "      <th>2</th>\n",
       "      <td>6</td>\n",
       "      <td>75</td>\n",
       "      <td>2015-04-01T15:44:53.810</td>\n",
       "      <td>1</td>\n",
       "      <td>relates_to</td>\n",
       "    </tr>\n",
       "    <tr>\n",
       "      <th>3</th>\n",
       "      <td>75</td>\n",
       "      <td>6</td>\n",
       "      <td>2015-04-01T15:51:58.103</td>\n",
       "      <td>1</td>\n",
       "      <td>relates_to</td>\n",
       "    </tr>\n",
       "    <tr>\n",
       "      <th>4</th>\n",
       "      <td>237</td>\n",
       "      <td>241</td>\n",
       "      <td>2015-04-02T23:17:13.317</td>\n",
       "      <td>1</td>\n",
       "      <td>relates_to</td>\n",
       "    </tr>\n",
       "  </tbody>\n",
       "</table>\n",
       "</div>"
      ],
      "text/plain": [
       "  :START_ID :END_ID    creationDate:DateTime linkTypeId:Int       :TYPE\n",
       "0        52      79  2015-04-01T03:30:24.763              1  relates_to\n",
       "1       102     103  2015-04-01T14:24:54.137              1  relates_to\n",
       "2         6      75  2015-04-01T15:44:53.810              1  relates_to\n",
       "3        75       6  2015-04-01T15:51:58.103              1  relates_to\n",
       "4       237     241  2015-04-02T23:17:13.317              1  relates_to"
      ]
     },
     "execution_count": 11,
     "metadata": {},
     "output_type": "execute_result"
    }
   ],
   "source": [
    "\n",
    "tree = ET.parse('data/health.stackexchange.com/PostLinks.xml')\n",
    "root = tree.getroot()\n",
    "\n",
    "# Initialize a list to collect data\n",
    "data = []\n",
    "\n",
    "# Extract data from each post link entry\n",
    "for entry in root.findall('row'):\n",
    "    data.append({\n",
    "        ':START_ID': entry.get('PostId'),\n",
    "        ':END_ID': entry.get('RelatedPostId'),\n",
    "        'creationDate:DateTime': entry.get('CreationDate'),\n",
    "        'linkTypeId:Int': entry.get('LinkTypeId'),\n",
    "        \":TYPE\" : \"relates_to\"\n",
    "    })\n",
    "\n",
    "# Convert to DataFrame\n",
    "rel_post_links = pd.DataFrame(data)\n",
    "\n",
    "rel_post_links.head()"
   ]
  },
  {
   "cell_type": "markdown",
   "metadata": {},
   "source": [
    "##### Save post links relationships"
   ]
  },
  {
   "cell_type": "code",
   "execution_count": 12,
   "metadata": {},
   "outputs": [
    {
     "data": {
      "text/plain": [
       "'./data/health.stackexchange.com/opencypher/rel_post_links.csv'"
      ]
     },
     "execution_count": 12,
     "metadata": {},
     "output_type": "execute_result"
    }
   ],
   "source": [
    "save_cypher_csv_and_upload_s3(rel_post_links, \"rel_post_links\")"
   ]
  },
  {
   "cell_type": "code",
   "execution_count": 13,
   "metadata": {},
   "outputs": [],
   "source": [
    "# tree = ET.parse('data/health.stackexchange.com/Tags.xml')\n",
    "# root = tree.getroot()\n",
    "\n",
    "# # Initialize a list to collect data\n",
    "# data = []\n",
    "\n",
    "# # Extract data from each tag entry\n",
    "# for entry in root.findall('row'):\n",
    "#     data.append({\n",
    "#         'Id': entry.get('Id'),\n",
    "#         'TagName': entry.get('TagName'),\n",
    "#         'Count': entry.get('Count'),\n",
    "#         'ExcerptPostId': entry.get('ExcerptPostId'),\n",
    "#         'WikiPostId': entry.get('WikiPostId')\n",
    "#     })\n",
    "\n",
    "# # Convert to DataFrame\n",
    "# df_tags = pd.DataFrame(data)\n",
    "# df_tags"
   ]
  },
  {
   "cell_type": "markdown",
   "metadata": {},
   "source": [
    "#### Users"
   ]
  },
  {
   "cell_type": "code",
   "execution_count": 14,
   "metadata": {},
   "outputs": [
    {
     "data": {
      "text/html": [
       "<div>\n",
       "<style scoped>\n",
       "    .dataframe tbody tr th:only-of-type {\n",
       "        vertical-align: middle;\n",
       "    }\n",
       "\n",
       "    .dataframe tbody tr th {\n",
       "        vertical-align: top;\n",
       "    }\n",
       "\n",
       "    .dataframe thead th {\n",
       "        text-align: right;\n",
       "    }\n",
       "</style>\n",
       "<table border=\"1\" class=\"dataframe\">\n",
       "  <thead>\n",
       "    <tr style=\"text-align: right;\">\n",
       "      <th></th>\n",
       "      <th>:ID</th>\n",
       "      <th>location:String</th>\n",
       "      <th>reputation:Int</th>\n",
       "      <th>aboutMe:String</th>\n",
       "      <th>:LABEL</th>\n",
       "    </tr>\n",
       "  </thead>\n",
       "  <tbody>\n",
       "    <tr>\n",
       "      <th>0</th>\n",
       "      <td>u_-1</td>\n",
       "      <td>on the server farm</td>\n",
       "      <td>1</td>\n",
       "      <td>&lt;p&gt;Hi, I'm not really a person.&lt;/p&gt;\\r\\n&lt;p&gt;I'm ...</td>\n",
       "      <td>user</td>\n",
       "    </tr>\n",
       "    <tr>\n",
       "      <th>1</th>\n",
       "      <td>u_1</td>\n",
       "      <td>New York, NY</td>\n",
       "      <td>101</td>\n",
       "      <td>\\n&lt;p&gt;Developer at Stack Overflow focusing on p...</td>\n",
       "      <td>user</td>\n",
       "    </tr>\n",
       "    <tr>\n",
       "      <th>2</th>\n",
       "      <td>u_2</td>\n",
       "      <td>None</td>\n",
       "      <td>141</td>\n",
       "      <td>&lt;p&gt;&lt;a href=\"//stackoverflow.com\"&gt;Stack Overflo...</td>\n",
       "      <td>user</td>\n",
       "    </tr>\n",
       "    <tr>\n",
       "      <th>3</th>\n",
       "      <td>u_3</td>\n",
       "      <td>Downtown Burbank</td>\n",
       "      <td>101</td>\n",
       "      <td>&lt;p&gt;Topics you might be interested in reading a...</td>\n",
       "      <td>user</td>\n",
       "    </tr>\n",
       "    <tr>\n",
       "      <th>4</th>\n",
       "      <td>u_4</td>\n",
       "      <td>Trento, Province of Trento, Italy</td>\n",
       "      <td>98</td>\n",
       "      <td>&lt;p&gt;Chief Technical Officer at &lt;a href=\"https:/...</td>\n",
       "      <td>user</td>\n",
       "    </tr>\n",
       "    <tr>\n",
       "      <th>...</th>\n",
       "      <td>...</td>\n",
       "      <td>...</td>\n",
       "      <td>...</td>\n",
       "      <td>...</td>\n",
       "      <td>...</td>\n",
       "    </tr>\n",
       "    <tr>\n",
       "      <th>20858</th>\n",
       "      <td>u_27608</td>\n",
       "      <td>None</td>\n",
       "      <td>1</td>\n",
       "      <td>None</td>\n",
       "      <td>user</td>\n",
       "    </tr>\n",
       "    <tr>\n",
       "      <th>20859</th>\n",
       "      <td>u_27609</td>\n",
       "      <td>None</td>\n",
       "      <td>101</td>\n",
       "      <td>&lt;p&gt;MD,\\nPhD in pharmacoepidemiology&lt;/p&gt;\\n&lt;p&gt;Mo...</td>\n",
       "      <td>user</td>\n",
       "    </tr>\n",
       "    <tr>\n",
       "      <th>20860</th>\n",
       "      <td>u_27610</td>\n",
       "      <td>Spain</td>\n",
       "      <td>1</td>\n",
       "      <td>&lt;p&gt;Mundo-excel is a website where you will fin...</td>\n",
       "      <td>user</td>\n",
       "    </tr>\n",
       "    <tr>\n",
       "      <th>20861</th>\n",
       "      <td>u_27611</td>\n",
       "      <td>Russia</td>\n",
       "      <td>101</td>\n",
       "      <td>&lt;p&gt;Interested in a position as an IT professio...</td>\n",
       "      <td>user</td>\n",
       "    </tr>\n",
       "    <tr>\n",
       "      <th>20862</th>\n",
       "      <td>u_27612</td>\n",
       "      <td>Philadelphia, PA, USA</td>\n",
       "      <td>101</td>\n",
       "      <td>&lt;p&gt;ZZZ&lt;/p&gt;\\n</td>\n",
       "      <td>user</td>\n",
       "    </tr>\n",
       "  </tbody>\n",
       "</table>\n",
       "<p>20863 rows × 5 columns</p>\n",
       "</div>"
      ],
      "text/plain": [
       "           :ID                    location:String reputation:Int  \\\n",
       "0         u_-1                 on the server farm              1   \n",
       "1          u_1                       New York, NY            101   \n",
       "2          u_2                               None            141   \n",
       "3          u_3                   Downtown Burbank            101   \n",
       "4          u_4  Trento, Province of Trento, Italy             98   \n",
       "...        ...                                ...            ...   \n",
       "20858  u_27608                               None              1   \n",
       "20859  u_27609                               None            101   \n",
       "20860  u_27610                              Spain              1   \n",
       "20861  u_27611                             Russia            101   \n",
       "20862  u_27612              Philadelphia, PA, USA            101   \n",
       "\n",
       "                                          aboutMe:String :LABEL  \n",
       "0      <p>Hi, I'm not really a person.</p>\\r\\n<p>I'm ...   user  \n",
       "1      \\n<p>Developer at Stack Overflow focusing on p...   user  \n",
       "2      <p><a href=\"//stackoverflow.com\">Stack Overflo...   user  \n",
       "3      <p>Topics you might be interested in reading a...   user  \n",
       "4      <p>Chief Technical Officer at <a href=\"https:/...   user  \n",
       "...                                                  ...    ...  \n",
       "20858                                               None   user  \n",
       "20859  <p>MD,\\nPhD in pharmacoepidemiology</p>\\n<p>Mo...   user  \n",
       "20860  <p>Mundo-excel is a website where you will fin...   user  \n",
       "20861  <p>Interested in a position as an IT professio...   user  \n",
       "20862                                       <p>ZZZ</p>\\n   user  \n",
       "\n",
       "[20863 rows x 5 columns]"
      ]
     },
     "execution_count": 14,
     "metadata": {},
     "output_type": "execute_result"
    }
   ],
   "source": [
    "# Replace 'path_to_your_file/Tags.xml' with the actual path to your XML file\n",
    "tree = ET.parse('data/health.stackexchange.com/Users.xml')\n",
    "root = tree.getroot()\n",
    "\n",
    "# Initialize a list to collect data\n",
    "data = []\n",
    "\n",
    "# Extract data from each tag entry\n",
    "for entry in root.findall('row'):\n",
    "    data.append({\n",
    "        ':ID': 'u_' + entry.get('Id'),\n",
    "        'location:String' : entry.get('Location'),\n",
    "        'reputation:Int': entry.get('Reputation'),\n",
    "        'aboutMe:String': unescape(entry.get('AboutMe')) if entry.get('AboutMe') is not None else None,\n",
    "        ':LABEL' : 'user'\n",
    "    })\n",
    "\n",
    "# Convert to DataFrame\n",
    "df_users = pd.DataFrame(data)\n",
    "\n",
    "df_users"
   ]
  },
  {
   "cell_type": "code",
   "execution_count": 13,
   "metadata": {},
   "outputs": [],
   "source": [
    "# user_embeddings = generate_embeddings(df_users[\"aboutMe:String\"].to_list())\n",
    "# df_users[\"embedding:Vector\"] = user_embeddings\n",
    "# df_users"
   ]
  },
  {
   "cell_type": "code",
   "execution_count": 15,
   "metadata": {},
   "outputs": [
    {
     "data": {
      "text/plain": [
       "'./data/health.stackexchange.com/opencypher/node_users_cyper.csv'"
      ]
     },
     "execution_count": 15,
     "metadata": {},
     "output_type": "execute_result"
    }
   ],
   "source": [
    "save_cypher_csv_and_upload_s3(df_users, \"node_users_cyper\")"
   ]
  },
  {
   "cell_type": "markdown",
   "metadata": {},
   "source": [
    "##### Add posts to user relationship"
   ]
  },
  {
   "cell_type": "code",
   "execution_count": 16,
   "metadata": {},
   "outputs": [
    {
     "data": {
      "text/html": [
       "<div>\n",
       "<style scoped>\n",
       "    .dataframe tbody tr th:only-of-type {\n",
       "        vertical-align: middle;\n",
       "    }\n",
       "\n",
       "    .dataframe tbody tr th {\n",
       "        vertical-align: top;\n",
       "    }\n",
       "\n",
       "    .dataframe thead th {\n",
       "        text-align: right;\n",
       "    }\n",
       "</style>\n",
       "<table border=\"1\" class=\"dataframe\">\n",
       "  <thead>\n",
       "    <tr style=\"text-align: right;\">\n",
       "      <th></th>\n",
       "      <th>:START_ID</th>\n",
       "      <th>:END_ID</th>\n",
       "      <th>:TYPE</th>\n",
       "    </tr>\n",
       "  </thead>\n",
       "  <tbody>\n",
       "    <tr>\n",
       "      <th>0</th>\n",
       "      <td>2</td>\n",
       "      <td>u_8</td>\n",
       "      <td>owns</td>\n",
       "    </tr>\n",
       "    <tr>\n",
       "      <th>1</th>\n",
       "      <td>3</td>\n",
       "      <td>NaN</td>\n",
       "      <td>owns</td>\n",
       "    </tr>\n",
       "    <tr>\n",
       "      <th>2</th>\n",
       "      <td>4</td>\n",
       "      <td>u_11</td>\n",
       "      <td>owns</td>\n",
       "    </tr>\n",
       "    <tr>\n",
       "      <th>3</th>\n",
       "      <td>5</td>\n",
       "      <td>u_11</td>\n",
       "      <td>owns</td>\n",
       "    </tr>\n",
       "    <tr>\n",
       "      <th>4</th>\n",
       "      <td>6</td>\n",
       "      <td>u_16</td>\n",
       "      <td>owns</td>\n",
       "    </tr>\n",
       "    <tr>\n",
       "      <th>...</th>\n",
       "      <td>...</td>\n",
       "      <td>...</td>\n",
       "      <td>...</td>\n",
       "    </tr>\n",
       "    <tr>\n",
       "      <th>14966</th>\n",
       "      <td>32678</td>\n",
       "      <td>u_27578</td>\n",
       "      <td>owns</td>\n",
       "    </tr>\n",
       "    <tr>\n",
       "      <th>14967</th>\n",
       "      <td>32679</td>\n",
       "      <td>u_16786</td>\n",
       "      <td>owns</td>\n",
       "    </tr>\n",
       "    <tr>\n",
       "      <th>14968</th>\n",
       "      <td>32682</td>\n",
       "      <td>u_27593</td>\n",
       "      <td>owns</td>\n",
       "    </tr>\n",
       "    <tr>\n",
       "      <th>14969</th>\n",
       "      <td>32683</td>\n",
       "      <td>u_27601</td>\n",
       "      <td>owns</td>\n",
       "    </tr>\n",
       "    <tr>\n",
       "      <th>14971</th>\n",
       "      <td>32686</td>\n",
       "      <td>u_27607</td>\n",
       "      <td>owns</td>\n",
       "    </tr>\n",
       "  </tbody>\n",
       "</table>\n",
       "<p>7886 rows × 3 columns</p>\n",
       "</div>"
      ],
      "text/plain": [
       "      :START_ID  :END_ID :TYPE\n",
       "0             2      u_8  owns\n",
       "1             3      NaN  owns\n",
       "2             4     u_11  owns\n",
       "3             5     u_11  owns\n",
       "4             6     u_16  owns\n",
       "...         ...      ...   ...\n",
       "14966     32678  u_27578  owns\n",
       "14967     32679  u_16786  owns\n",
       "14968     32682  u_27593  owns\n",
       "14969     32683  u_27601  owns\n",
       "14971     32686  u_27607  owns\n",
       "\n",
       "[7886 rows x 3 columns]"
      ]
     },
     "execution_count": 16,
     "metadata": {},
     "output_type": "execute_result"
    }
   ],
   "source": [
    "rel_questions_users = df_questions[[':ID','ownerUserId:Int']].rename(columns={'ownerUserId:Int' : ':END_ID', ':ID' : ':START_ID'})\n",
    "rel_questions_users[\":END_ID\"] = \"u_\" + rel_questions_users[\":END_ID\"]\n",
    "rel_questions_users[\":TYPE\"] = \"owns\"\n",
    "rel_questions_users\n"
   ]
  },
  {
   "cell_type": "code",
   "execution_count": 17,
   "metadata": {},
   "outputs": [
    {
     "data": {
      "text/html": [
       "<div>\n",
       "<style scoped>\n",
       "    .dataframe tbody tr th:only-of-type {\n",
       "        vertical-align: middle;\n",
       "    }\n",
       "\n",
       "    .dataframe tbody tr th {\n",
       "        vertical-align: top;\n",
       "    }\n",
       "\n",
       "    .dataframe thead th {\n",
       "        text-align: right;\n",
       "    }\n",
       "</style>\n",
       "<table border=\"1\" class=\"dataframe\">\n",
       "  <thead>\n",
       "    <tr style=\"text-align: right;\">\n",
       "      <th></th>\n",
       "      <th>:START_ID</th>\n",
       "      <th>:END_ID</th>\n",
       "      <th>:TYPE</th>\n",
       "    </tr>\n",
       "  </thead>\n",
       "  <tbody>\n",
       "    <tr>\n",
       "      <th>0</th>\n",
       "      <td>2</td>\n",
       "      <td>u_8</td>\n",
       "      <td>owns</td>\n",
       "    </tr>\n",
       "    <tr>\n",
       "      <th>1</th>\n",
       "      <td>3</td>\n",
       "      <td>NaN</td>\n",
       "      <td>owns</td>\n",
       "    </tr>\n",
       "    <tr>\n",
       "      <th>2</th>\n",
       "      <td>4</td>\n",
       "      <td>u_11</td>\n",
       "      <td>owns</td>\n",
       "    </tr>\n",
       "    <tr>\n",
       "      <th>3</th>\n",
       "      <td>5</td>\n",
       "      <td>u_11</td>\n",
       "      <td>owns</td>\n",
       "    </tr>\n",
       "    <tr>\n",
       "      <th>4</th>\n",
       "      <td>6</td>\n",
       "      <td>u_16</td>\n",
       "      <td>owns</td>\n",
       "    </tr>\n",
       "    <tr>\n",
       "      <th>...</th>\n",
       "      <td>...</td>\n",
       "      <td>...</td>\n",
       "      <td>...</td>\n",
       "    </tr>\n",
       "    <tr>\n",
       "      <th>14966</th>\n",
       "      <td>32678</td>\n",
       "      <td>u_27578</td>\n",
       "      <td>owns</td>\n",
       "    </tr>\n",
       "    <tr>\n",
       "      <th>14967</th>\n",
       "      <td>32679</td>\n",
       "      <td>u_16786</td>\n",
       "      <td>owns</td>\n",
       "    </tr>\n",
       "    <tr>\n",
       "      <th>14968</th>\n",
       "      <td>32682</td>\n",
       "      <td>u_27593</td>\n",
       "      <td>owns</td>\n",
       "    </tr>\n",
       "    <tr>\n",
       "      <th>14969</th>\n",
       "      <td>32683</td>\n",
       "      <td>u_27601</td>\n",
       "      <td>owns</td>\n",
       "    </tr>\n",
       "    <tr>\n",
       "      <th>14971</th>\n",
       "      <td>32686</td>\n",
       "      <td>u_27607</td>\n",
       "      <td>owns</td>\n",
       "    </tr>\n",
       "  </tbody>\n",
       "</table>\n",
       "<p>7886 rows × 3 columns</p>\n",
       "</div>"
      ],
      "text/plain": [
       "      :START_ID  :END_ID :TYPE\n",
       "0             2      u_8  owns\n",
       "1             3      NaN  owns\n",
       "2             4     u_11  owns\n",
       "3             5     u_11  owns\n",
       "4             6     u_16  owns\n",
       "...         ...      ...   ...\n",
       "14966     32678  u_27578  owns\n",
       "14967     32679  u_16786  owns\n",
       "14968     32682  u_27593  owns\n",
       "14969     32683  u_27601  owns\n",
       "14971     32686  u_27607  owns\n",
       "\n",
       "[7886 rows x 3 columns]"
      ]
     },
     "execution_count": 17,
     "metadata": {},
     "output_type": "execute_result"
    }
   ],
   "source": [
    "rel_answers_to_users = df_questions[[':ID','ownerUserId:Int']].rename(columns={'ownerUserId:Int' : ':END_ID', ':ID' : ':START_ID'})\n",
    "rel_answers_to_users[\":END_ID\"] = \"u_\" + rel_answers_to_users[\":END_ID\"]\n",
    "rel_answers_to_users[\":TYPE\"] = \"owns\"\n",
    "rel_answers_to_users"
   ]
  },
  {
   "cell_type": "code",
   "execution_count": 18,
   "metadata": {},
   "outputs": [
    {
     "data": {
      "text/plain": [
       "'./data/health.stackexchange.com/opencypher/rel_answers_users_cypher.csv'"
      ]
     },
     "execution_count": 18,
     "metadata": {},
     "output_type": "execute_result"
    }
   ],
   "source": [
    "save_cypher_csv_and_upload_s3(rel_questions_users, \"rel_questions_users_cypher\")\n",
    "save_cypher_csv_and_upload_s3(rel_answers_to_users, \"rel_answers_users_cypher\")"
   ]
  },
  {
   "cell_type": "code",
   "execution_count": 23,
   "metadata": {},
   "outputs": [],
   "source": [
    "# tree = ET.parse('data/health.stackexchange.com//Votes.xml')\n",
    "# root = tree.getroot()\n",
    "\n",
    "# # Initialize a list to collect vote data\n",
    "# votes_data = []\n",
    "\n",
    "# # Extract data from each vote entry\n",
    "# for entry in root.findall('row'):\n",
    "#     votes_data.append({\n",
    "#         'Id': entry.get('Id'),\n",
    "#         'PostId': entry.get('PostId'),\n",
    "#         'VoteTypeId': entry.get('VoteTypeId'),\n",
    "#         'CreationDate': entry.get('CreationDate')\n",
    "#     })\n",
    "\n",
    "# # Convert to DataFrame\n",
    "# df_votes = pd.DataFrame(votes_data)\n",
    "\n",
    "# # Convert data types\n",
    "# df_votes['CreationDate'] = pd.to_datetime(df_votes['CreationDate'])\n",
    "# df_votes[['Id', 'PostId', 'VoteTypeId']] = df_votes[['Id', 'PostId', 'VoteTypeId']].apply(pd.to_numeric, errors='coerce')\n",
    "\n",
    "# # Display the DataFrame to verify contents\n",
    "# df_votes.head()"
   ]
  },
  {
   "cell_type": "markdown",
   "metadata": {},
   "source": [
    "### Create Neptune Analytics Graph"
   ]
  },
  {
   "cell_type": "code",
   "execution_count": 16,
   "metadata": {},
   "outputs": [
    {
     "ename": "ConflictException",
     "evalue": "An error occurred (ConflictException) when calling the CreateGraph operation: Graph with name sha-health-qna-kg-v5 already exists!",
     "output_type": "error",
     "traceback": [
      "\u001b[0;31m---------------------------------------------------------------------------\u001b[0m",
      "\u001b[0;31mConflictException\u001b[0m                         Traceback (most recent call last)",
      "Cell \u001b[0;32mIn[16], line 1\u001b[0m\n\u001b[0;32m----> 1\u001b[0m graph_creation_response \u001b[39m=\u001b[39m neptune_graph_client\u001b[39m.\u001b[39;49mcreate_graph(\n\u001b[1;32m      2\u001b[0m     graphName\u001b[39m=\u001b[39;49mgraph_name,\n\u001b[1;32m      3\u001b[0m     publicConnectivity\u001b[39m=\u001b[39;49m\u001b[39mTrue\u001b[39;49;00m,\n\u001b[1;32m      4\u001b[0m     vectorSearchConfiguration\u001b[39m=\u001b[39;49m{\n\u001b[1;32m      5\u001b[0m         \u001b[39m'\u001b[39;49m\u001b[39mdimension\u001b[39;49m\u001b[39m'\u001b[39;49m: \u001b[39m1536\u001b[39;49m\n\u001b[1;32m      6\u001b[0m     },\n\u001b[1;32m      7\u001b[0m     replicaCount\u001b[39m=\u001b[39;49m\u001b[39m0\u001b[39;49m,\n\u001b[1;32m      8\u001b[0m     deletionProtection\u001b[39m=\u001b[39;49m\u001b[39mFalse\u001b[39;49;00m,\n\u001b[1;32m      9\u001b[0m     provisionedMemory\u001b[39m=\u001b[39;49m\u001b[39m128\u001b[39;49m  \n\u001b[1;32m     10\u001b[0m )\n\u001b[1;32m     12\u001b[0m \u001b[39mif\u001b[39;00m graph_creation_response[\u001b[39m\"\u001b[39m\u001b[39mResponseMetadata\u001b[39m\u001b[39m\"\u001b[39m][\u001b[39m\"\u001b[39m\u001b[39mHTTPStatusCode\u001b[39m\u001b[39m\"\u001b[39m] \u001b[39m==\u001b[39m \u001b[39m201\u001b[39m :\n\u001b[1;32m     13\u001b[0m     \u001b[39mprint\u001b[39m(\u001b[39m\"\u001b[39m\u001b[39mGraph creation process started successfully\u001b[39m\u001b[39m\"\u001b[39m)\n",
      "File \u001b[0;32m/opt/conda/lib/python3.10/site-packages/botocore/client.py:565\u001b[0m, in \u001b[0;36mClientCreator._create_api_method.<locals>._api_call\u001b[0;34m(self, *args, **kwargs)\u001b[0m\n\u001b[1;32m    561\u001b[0m     \u001b[39mraise\u001b[39;00m \u001b[39mTypeError\u001b[39;00m(\n\u001b[1;32m    562\u001b[0m         \u001b[39mf\u001b[39m\u001b[39m\"\u001b[39m\u001b[39m{\u001b[39;00mpy_operation_name\u001b[39m}\u001b[39;00m\u001b[39m() only accepts keyword arguments.\u001b[39m\u001b[39m\"\u001b[39m\n\u001b[1;32m    563\u001b[0m     )\n\u001b[1;32m    564\u001b[0m \u001b[39m# The \"self\" in this scope is referring to the BaseClient.\u001b[39;00m\n\u001b[0;32m--> 565\u001b[0m \u001b[39mreturn\u001b[39;00m \u001b[39mself\u001b[39;49m\u001b[39m.\u001b[39;49m_make_api_call(operation_name, kwargs)\n",
      "File \u001b[0;32m/opt/conda/lib/python3.10/site-packages/botocore/client.py:1021\u001b[0m, in \u001b[0;36mBaseClient._make_api_call\u001b[0;34m(self, operation_name, api_params)\u001b[0m\n\u001b[1;32m   1017\u001b[0m     error_code \u001b[39m=\u001b[39m error_info\u001b[39m.\u001b[39mget(\u001b[39m\"\u001b[39m\u001b[39mQueryErrorCode\u001b[39m\u001b[39m\"\u001b[39m) \u001b[39mor\u001b[39;00m error_info\u001b[39m.\u001b[39mget(\n\u001b[1;32m   1018\u001b[0m         \u001b[39m\"\u001b[39m\u001b[39mCode\u001b[39m\u001b[39m\"\u001b[39m\n\u001b[1;32m   1019\u001b[0m     )\n\u001b[1;32m   1020\u001b[0m     error_class \u001b[39m=\u001b[39m \u001b[39mself\u001b[39m\u001b[39m.\u001b[39mexceptions\u001b[39m.\u001b[39mfrom_code(error_code)\n\u001b[0;32m-> 1021\u001b[0m     \u001b[39mraise\u001b[39;00m error_class(parsed_response, operation_name)\n\u001b[1;32m   1022\u001b[0m \u001b[39melse\u001b[39;00m:\n\u001b[1;32m   1023\u001b[0m     \u001b[39mreturn\u001b[39;00m parsed_response\n",
      "\u001b[0;31mConflictException\u001b[0m: An error occurred (ConflictException) when calling the CreateGraph operation: Graph with name sha-health-qna-kg-v5 already exists!"
     ]
    }
   ],
   "source": [
    "\n",
    "graph_name = 'sha-health-qna-kg-v5'\n",
    "\n",
    "graph_creation_response = neptune_graph_client.create_graph(\n",
    "    graphName=graph_name,\n",
    "    publicConnectivity=True,\n",
    "    vectorSearchConfiguration={\n",
    "        'dimension': 1536\n",
    "    },\n",
    "    replicaCount=0,\n",
    "    deletionProtection=False,\n",
    "    provisionedMemory=128  \n",
    ")\n",
    "\n",
    "if graph_creation_response[\"ResponseMetadata\"][\"HTTPStatusCode\"] == 201 :\n",
    "    print(\"Graph creation process started successfully\")\n",
    "\n"
   ]
  },
  {
   "cell_type": "code",
   "execution_count": 27,
   "metadata": {},
   "outputs": [
    {
     "name": "stdout",
     "output_type": "stream",
     "text": [
      "Graph is still creating...\n",
      "Graph is still creating...\n",
      "Graph is still creating...\n",
      "Graph is still creating...\n",
      "Graph is still creating...\n",
      "Graph is still creating...\n",
      "Graph is still creating...\n",
      "Graph is still creating...\n",
      "Graph is still creating...\n",
      "Graph is still creating...\n",
      "Graph is still creating...\n",
      "Graph is still creating...\n",
      "Graph is still creating...\n",
      "Graph is still creating...\n",
      "Graph is still creating...\n",
      "Graph is still creating...\n",
      "Graph is still creating...\n",
      "Graph is still creating...\n",
      "Graph is still creating...\n",
      "Graph with id g-we143s0qj2 with endpoint g-we143s0qj2.us-east-1.neptune-graph.amazonaws.com is AVAILABLE. \n"
     ]
    }
   ],
   "source": [
    "from time import sleep\n",
    "\n",
    "graph_response = neptune_graph_client.get_graph(\n",
    "    graphIdentifier=graph_creation_response['id']\n",
    ")\n",
    "\n",
    "while graph_response['status'] == 'CREATING':\n",
    "    sleep(15)\n",
    "    print('Graph is still creating...')\n",
    "    \n",
    "    graph_response = neptune_graph_client.get_graph(\n",
    "        graphIdentifier=graph_creation_response['id']\n",
    "    )\n",
    "\n",
    "print(f\"Graph with id {graph_response['id']} with endpoint {graph_response['endpoint']} is {graph_response['status']}. \")\n"
   ]
  },
  {
   "cell_type": "markdown",
   "metadata": {},
   "source": [
    "### Insert all the cypher data into Neptune Graph"
   ]
  },
  {
   "cell_type": "code",
   "execution_count": 25,
   "metadata": {},
   "outputs": [],
   "source": [
    "#neptune_endpoint = f\"https://{graph_response['endpoint']}/openCypher\"\n",
    "neptune_endpoint = f\"https://g-we143s0qj2.us-east-1.neptune-graph.amazonaws.com/openCypher\""
   ]
  },
  {
   "cell_type": "code",
   "execution_count": 8,
   "metadata": {},
   "outputs": [
    {
     "name": "stdout",
     "output_type": "stream",
     "text": [
      "Error executing query: 400 {\"reason\":\"MALFORMED_QUERY\",\"message\":\"Required END_ID field is missing\"}\n"
     ]
    },
    {
     "ename": "Exception",
     "evalue": "Error executing query",
     "output_type": "error",
     "traceback": [
      "\u001b[0;31m---------------------------------------------------------------------------\u001b[0m",
      "\u001b[0;31mException\u001b[0m                                 Traceback (most recent call last)",
      "Cell \u001b[0;32mIn[8], line 3\u001b[0m\n\u001b[1;32m      1\u001b[0m query \u001b[39m=\u001b[39m \u001b[39m'''\u001b[39m\u001b[39mCALL neptune.load(\u001b[39m\u001b[39m{\u001b[39m\u001b[39m source : \u001b[39m\u001b[39m'\u001b[39m\u001b[39ms3://shamika-hcls/datasources/medical-qna-cyphers/\u001b[39m\u001b[39m'\u001b[39m\u001b[39m, region : \u001b[39m\u001b[39m'\u001b[39m\u001b[39mus-east-1\u001b[39m\u001b[39m'\u001b[39m\u001b[39m, format: \u001b[39m\u001b[39m'\u001b[39m\u001b[39mopencypher\u001b[39m\u001b[39m'\u001b[39m\u001b[39m, failOnError: True})\u001b[39m\u001b[39m'''\u001b[39m  \n\u001b[0;32m----> 3\u001b[0m execute_graph_query(query, neptune_endpoint)\n",
      "Cell \u001b[0;32mIn[6], line 32\u001b[0m, in \u001b[0;36mexecute_graph_query\u001b[0;34m(query, neptune_endpoint)\u001b[0m\n\u001b[1;32m     30\u001b[0m \u001b[39melse\u001b[39;00m:\n\u001b[1;32m     31\u001b[0m     \u001b[39mprint\u001b[39m(\u001b[39m\"\u001b[39m\u001b[39mError executing query:\u001b[39m\u001b[39m\"\u001b[39m, response\u001b[39m.\u001b[39mstatus_code, response\u001b[39m.\u001b[39mtext)\n\u001b[0;32m---> 32\u001b[0m     \u001b[39mraise\u001b[39;00m \u001b[39mException\u001b[39;00m(\u001b[39m\"\u001b[39m\u001b[39mError executing query\u001b[39m\u001b[39m\"\u001b[39m)\n\u001b[1;32m     34\u001b[0m \u001b[39mreturn\u001b[39;00m response\n",
      "\u001b[0;31mException\u001b[0m: Error executing query"
     ]
    }
   ],
   "source": [
    "\n",
    "query = '''CALL neptune.load({ source : 's3://shamika-hcls/datasources/medical-qna-cyphers/', region : 'us-east-1', format: 'opencypher', failOnError: True})'''  \n",
    "\n",
    "execute_graph_query(query, neptune_endpoint)\n"
   ]
  },
  {
   "cell_type": "markdown",
   "metadata": {},
   "source": [
    "* Alternatively you can create and import data to the neptune graph in a single operation like below."
   ]
  },
  {
   "cell_type": "code",
   "execution_count": 13,
   "metadata": {},
   "outputs": [],
   "source": [
    "# response = neptune_analytics_client.create_graph_using_import_task(\n",
    "#     graphName='sha-health-qna-kg-v3',\n",
    "#     publicConnectivity=False,\n",
    "#     vectorSearchConfiguration={\n",
    "#         'dimension': 1536\n",
    "#     },\n",
    "#     replicaCount=0,\n",
    "#     deletionProtection=False,\n",
    "#     # importOptions={\n",
    "#     #     'neptune': {\n",
    "#     #         's3ExportPath': \"s3://shamika-hcls/datasources/medical-qna/\"\n",
    "#     #     }\n",
    "#     # },\n",
    "#     failOnError=True,\n",
    "#     source='s3://shamika-hcls/datasources/medical-qna-cyphers/',\n",
    "#     format='CSV',\n",
    "#     roleArn='arn:aws:iam::111918798052:role/sha-neptune-analytics-role'\n",
    "# )"
   ]
  },
  {
   "cell_type": "markdown",
   "metadata": {},
   "source": [
    "#### Verify the data ingetion by selecting a post node with its neighboring nodes"
   ]
  },
  {
   "cell_type": "code",
   "execution_count": 27,
   "metadata": {},
   "outputs": [
    {
     "name": "stdout",
     "output_type": "stream",
     "text": [
      "Query executed successfully: {'results': [{'p': {'~id': '24458', '~entityType': 'node', '~labels': ['post'], '~properties': {'ownerUserId': 20242, 'creationDate': '2020-08-17T02:33:35Z', 'body': '<p>There has been surprisingly little research on the topic, and as might be expected given the lack if new data, recent studies have not supported a general libido lowering effect of vasectomy.  A study in Brazil from 2005 looked at 64 patients undergoing vasectomy and found a small but statistically significant (at p < 0.001) improvement in international index of erectile function scores driven by increases in desire and sexual satisfaction.  However, it should be noted that while 67% had improved scores, 17% had worse scores, 16% reported no change (Botero et al,  Braz J Urol. Sep-Oct 2005;31(5):452-8)</p>\\n<p>Orr and Moore found from a group of 1000 consecutive vasectomies that only 1% reported \"psycho-sexual problems such as decreased libido, ejaculatory problems, depression\" (r Med J. 1989 Feb;82(1):19-20.)  However this analysis appeared to be more focused on detecting surgical complications.</p>\\n<p>Islam et al. (Bangladesh Med Res Counc Bull. 1991 Jun;17(1):17-22.) did a follow-up study of 300 tubectomy and 300 vasectomy cases from urban and rural parts of the Mymensingh district in Bangladesh.  They found no significant effect on libido in either group, though I was not able to examine the instrument used to survey patients.</p>\\n<p>It should be noted the same critique may be made of the Dias article referenced by wikipedia (Acta Psychiatr Scand. 1983 May;67(5):333-8). However like the Islam et al. article, I was able to find the abstract online.  The Nielsen and Genster article cited in wikipedia is in Danish, and furthermore no abstract is available online in any language.  Thus it requires access to a paper copy to know what it reports, let alone its methods.   It does not appear to be available in the holdings at the the University of Washington Health Sciences library, the most comprehensive journal source available to me. Thus I cannot assess it.</p>\\n<p>It should also be noted that there are other reports of similar age as the two referenced in wikipedia that address libido and vasectomy.  For example, Jackson and Avant (J R Coll Gen Pract. 1982 Mar; 32(236): 172–173) looked at 2000 men on follow-up fron vasectomy with a very brief 3 question questionnaire that asked one question (with follow up to explain positive or negative answers) about the effects in their mental health. Twelve men reported decreased sexual drive but did not regret the procedure.  Katila and Rimón (oz Praventivmed. 1979 Oct;24(5):346-8) found on follow-up of 107 men average 4.7 yrs after vasectomy that only 2% were dissatisfied with results.  32% reported improved  \\'sexual potency\\' while 3% reported impairment of sexual function.  Thus the articles cited in wikipedia are by no means the only data available.  Nor are they completely typical of the data at the time of publication except in that some papers reported a tendency towards worse function and others improved.</p>\\n<p>Finally, in regards to who might more likely to report worse libido after vasectomy, Buchholz et al. (J Psychosom Res. 1994 Oct;38(7):759-62) looked at 45 men chosen at random from a vasectomized group of 254 men, as well as 18 men from a group of 180 men with erectile dysfunction who attributed their dysfunction to a vasectomy. They \"analysed the social background, motivation for vasectomy and postoperative changes of sexual life or behaviour of the partners. The partnership constellation, particularly the role of a predominant female partner seems to be an important feature for vasectomy acceptance. Low acceptance might cause erectile dysfunction.\"  Essentially, they found that when men were getting a vasectomy felt it was being imposed on them by their partner, they were more likely to report dysfunction.  When the men reported they wanted the vasectomy, they were more likely to report improved sexual function.</p>\\n<p>In general the recommendation for pre-vasectomy education is to note that evidence does not support the idea that vasectomy changes sexual function See example by J Murtagh (Aust Fam Physician. 1993 May;22(5):806) or Mayo clinic patient education (see <a href=\"https://www.mayoclinic.org/tests-procedures/vasectomy/about/pac-20384580\" rel=\"nofollow noreferrer\">https://www.mayoclinic.org/tests-procedures/vasectomy/about/pac-20384580</a>).</p>\\n<p>Most recent research on libido and male contraception has focused on the effects of proposed chemical contraception in males, such as with low dose testosterone.</p>\\n<p>My own reading of the literature suggests that older articles tend to report more negative effects on libido compared to more recent ones though the amount of data is unimpressive.  If this qualitative trend really is present (and this assessment is extremely subjective not at all a quantitative assessment such as with a meta analysis), it could just as easily represent changes in attitudes and expectations about vasectomy as direct physiologic effects of the procedure.  Indeed this would be my working hypothesis, though it should be noted I an a psychiatrist and neuroscientist and as such am likely biased towards this hypothesis.</p>\\n', 'lastActivityDate': '2020-08-17T02:33:35Z', 'score': 4, 'parentId': 24456, 'postTypeId': 2, 'commentCount': 0}}}]}\n"
     ]
    },
    {
     "data": {
      "text/plain": [
       "<Response [200]>"
      ]
     },
     "execution_count": 27,
     "metadata": {},
     "output_type": "execute_result"
    }
   ],
   "source": [
    "sample_post_id = 4\n",
    "\n",
    "query = '''\n",
    "MATCH (p:post)\n",
    "RETURN p\n",
    "ORDER BY rand()\n",
    "LIMIT 1\n",
    "'''\n",
    "execute_graph_query(query, neptune_endpoint)\n",
    "\n"
   ]
  },
  {
   "cell_type": "code",
   "execution_count": 28,
   "metadata": {},
   "outputs": [
    {
     "name": "stdout",
     "output_type": "stream",
     "text": [
      "Query executed successfully: {'results': [{'question': {'~id': '6', '~entityType': 'node', '~labels': ['post'], '~properties': {'ownerUserId': 16, 'creationDate': '2015-03-31T19:26:15Z', 'body': '<p>While playing indoor soccer a couple days ago, I was fouled and fell forwards so that my hand skidded across the court a bit. It left the blister as you see in the image here:</p>\\n\\n<p><img src=\"https://i.stack.imgur.com/PDHo5m.jpg\" alt=\"the blister\"></p>\\n\\n<p>What should I consider when deciding to remove this blister? I could open and drain this blister, removing the excess skin afterwards, or leave it as is.</p>\\n\\n<p>I figure since it\\'s in a place that is likely to be touched/disrupted I should remove it since it\\'s likely to open anyways.</p>\\n', 'lastActivityDate': '2015-04-15T18:13:37Z', 'acceptedAnswerId': 478, 'tags': 'wound,removal,', 'score': 26, 'lastEditDate': '2015-04-13T04:27:47Z', 'viewCount': 6585, 'answerCount': 4, 'title': 'What should I consider when deciding to remove a blister or not?', 'commentCount': 0}}, 'answer': {'~id': '478', '~entityType': 'node', '~labels': ['post'], '~properties': {'ownerUserId': 169, 'creationDate': '2015-04-12T23:24:46Z', 'body': '<p>In the blister shown, the likelihood of rupture is decreased because of the thickness of the epidermis on the palm of the hand, so you can leave it alone until the underlying area re-epithelializes. You\\'ll know this is happening because of the decreased pain and the slow reabsorption of the fluid. Eventually you will just peal it off what\\'s left of the blister, finding clean new skin underneath.</p>\\n\\n<p>But this is a great starting point for an answer about the treatment of blisters in general: is it better to leave them alone, drain the fluid, or de-roof them (take the top of the blister off)?</p>\\n\\n<p>There is <em>a lot</em> of disagreement about what constitutes the optimal treatment of blisters. Some background might be in order.</p>\\n\\n<p><img src=\"https://i.stack.imgur.com/2lJIv.jpg\" alt=\"enter image description here\"></p>\\n\\n<p>Blisters form when the upper layers of the epidermis separate from the lower layers, usually at the level of the stratum spinosum. At that level, the cells (because of proximity to the dermis, which contains the capillaries) have moisture in and between them. When the separation occurs, <em>sterile</em> fluid from the stratum spinosum oozes unopposed into the space between the layers, and a blister forms.</p>\\n\\n<p>The fluid, similar to plasma, contains molecules which may promote the rapid division which takes place in the stratum basale.  This then differentiates into the upper layers of the epidermis and healing by new skin formation.</p>\\n\\n<blockquote>\\n  <p>Hydrostatic pressure causes the area of the separation to fill with a fluid that is similar in composition to plasma but has a lower protein level. About 6 hours after formation of the blister, cells in the blister base begin to take amino acids and nucleosides; at 24 hours, there is high mitotic activity in the basal cells; at 48 and 120 hours, new stratum granulosum and stratum corneum, respectively, can be seen.</p>\\n</blockquote>\\n\\n<p>The <em>sterile</em> fluid is a very rich and inviting growth medium for bacteria. For this reason, some people think it should be removed. The denuded skin underneath has lost some of it\\'s protection against infection. For this reason, some think the blister should be left intact. Between these two extremes are those who favor drainage of the fluid leaving the cover intact.</p>\\n\\n<p>To my thinking (and training), this is the worst option. Poking a hole in the blister, no matter how cleanly it\\'s done, will leave a point of entry for bacteria (it doesn\\'t take much). The bacteria will flourish in the moisture (which will still seep into the space) under the roof of the blister, protected from being washed away. This may (and often does) lead to an infection of the wound.</p>\\n\\n<p>It\\'s much better to prevent infection than to treat it. </p>\\n\\n<p>The reasoning of either of the other camps is more supportable. I favor leaving the blister intact as long as possible, giving the underlying wound time to form new stratified protective epidermalis.</p>\\n\\n<p>Treatment by people in this camp consists of carefully cleaning and disinfecting the surface of the blister and the surrounding skin, and covering it loosely with protective padding, usually gauze, then wrapping the entire thing with gauze wrap. The patient is instructed to check the blister daily; if it \"pops\" or becomes cloudy, the roof must be removed (most people prefer to have this done by a doctor or nurse), the area cleaned to remove any bacteria which might have entered, and a sterile dressing (over a light application of an antibacterial cream) reapplied, and changes daily until healed.</p>\\n\\n<p>The opposite camp reasons that the blister will break anyway, so get it over with and get the sterile dressing on, then clean and redress (with a light application of an antibacterial cream) daily. Also, if the blister is tense, it may be impeding healing of the base by decreasing blood flow. The problem with this approach is that it hurts more than leaving it alone, and the risk of infection is still greater than if the blister is intact.</p>\\n\\n<p>Many studies have been done to try to determine the best approach. Common sense plays a role. If the blister is very delicate (as in a large, tense and fragile blister of a burn), or if it looks unstable, I\\'ll remove the roof of the blister. If I think it can be preserved for even one or two days, I\\'ll leave it on. Every day it\\'s left on without infection is a day of healing and decreased pain as new skin is made.</p>\\n\\n<p>From one paper:</p>\\n\\n<blockquote>\\n  <p>There seems to be a paucity of good clinical evidence related to this subject, despite several review articles. The sole paper found involved a small sample, but showed infection rates to be higher if blisters are aspirated or deroofed, and that pain scores were higher in the group that underwent deroofing.</p>\\n</blockquote>\\n\\n<p>From a pain point of view:</p>\\n\\n<blockquote>\\n  <p>aspiration appears to result in less pain than deroofing. (See above: also more infection.)</p>\\n</blockquote>\\n\\n<p>The common sense comes in with type, size, and location of blister, reliability of care by the patient or their family, location or level of activity likely to cause rupture, or in the case of hikers\\' blisters (and others away from medical care), what the best model is to prevent infection while still using the involved area if necessary.</p>\\n\\n<p>Also changing the scene are the new available protective dressings of deroofed blisters that allow moist healing, non-occlusive protection and visibility of the underlying skin. </p>\\n\\n<p><sub><a href=\"http://www.ncbi.nlm.nih.gov/pmc/articles/PMC2564175/\" rel=\"noreferrer\">Management of burns blisters</a></sub><br>\\n<sub><a href=\"http://www.ncbi.nlm.nih.gov/pubmed/8570998\" rel=\"noreferrer\">Friction blisters. Pathophysiology, prevention and treatment.</a></sub>  </p>\\n', 'lastActivityDate': '2015-04-12T23:49:25Z', 'score': 26, 'lastEditDate': '2015-04-12T23:49:25Z', 'parentId': 6, 'postTypeId': 2, 'commentCount': 0}}}, {'question': {'~id': '6', '~entityType': 'node', '~labels': ['post'], '~properties': {'ownerUserId': 16, 'creationDate': '2015-03-31T19:26:15Z', 'body': '<p>While playing indoor soccer a couple days ago, I was fouled and fell forwards so that my hand skidded across the court a bit. It left the blister as you see in the image here:</p>\\n\\n<p><img src=\"https://i.stack.imgur.com/PDHo5m.jpg\" alt=\"the blister\"></p>\\n\\n<p>What should I consider when deciding to remove this blister? I could open and drain this blister, removing the excess skin afterwards, or leave it as is.</p>\\n\\n<p>I figure since it\\'s in a place that is likely to be touched/disrupted I should remove it since it\\'s likely to open anyways.</p>\\n', 'lastActivityDate': '2015-04-15T18:13:37Z', 'acceptedAnswerId': 478, 'tags': 'wound,removal,', 'score': 26, 'lastEditDate': '2015-04-13T04:27:47Z', 'viewCount': 6585, 'answerCount': 4, 'title': 'What should I consider when deciding to remove a blister or not?', 'commentCount': 0}}, 'answer': {'~id': '478', '~entityType': 'node', '~labels': ['post'], '~properties': {'ownerUserId': 169, 'creationDate': '2015-04-12T23:24:46Z', 'body': '<p>In the blister shown, the likelihood of rupture is decreased because of the thickness of the epidermis on the palm of the hand, so you can leave it alone until the underlying area re-epithelializes. You\\'ll know this is happening because of the decreased pain and the slow reabsorption of the fluid. Eventually you will just peal it off what\\'s left of the blister, finding clean new skin underneath.</p>\\n\\n<p>But this is a great starting point for an answer about the treatment of blisters in general: is it better to leave them alone, drain the fluid, or de-roof them (take the top of the blister off)?</p>\\n\\n<p>There is <em>a lot</em> of disagreement about what constitutes the optimal treatment of blisters. Some background might be in order.</p>\\n\\n<p><img src=\"https://i.stack.imgur.com/2lJIv.jpg\" alt=\"enter image description here\"></p>\\n\\n<p>Blisters form when the upper layers of the epidermis separate from the lower layers, usually at the level of the stratum spinosum. At that level, the cells (because of proximity to the dermis, which contains the capillaries) have moisture in and between them. When the separation occurs, <em>sterile</em> fluid from the stratum spinosum oozes unopposed into the space between the layers, and a blister forms.</p>\\n\\n<p>The fluid, similar to plasma, contains molecules which may promote the rapid division which takes place in the stratum basale.  This then differentiates into the upper layers of the epidermis and healing by new skin formation.</p>\\n\\n<blockquote>\\n  <p>Hydrostatic pressure causes the area of the separation to fill with a fluid that is similar in composition to plasma but has a lower protein level. About 6 hours after formation of the blister, cells in the blister base begin to take amino acids and nucleosides; at 24 hours, there is high mitotic activity in the basal cells; at 48 and 120 hours, new stratum granulosum and stratum corneum, respectively, can be seen.</p>\\n</blockquote>\\n\\n<p>The <em>sterile</em> fluid is a very rich and inviting growth medium for bacteria. For this reason, some people think it should be removed. The denuded skin underneath has lost some of it\\'s protection against infection. For this reason, some think the blister should be left intact. Between these two extremes are those who favor drainage of the fluid leaving the cover intact.</p>\\n\\n<p>To my thinking (and training), this is the worst option. Poking a hole in the blister, no matter how cleanly it\\'s done, will leave a point of entry for bacteria (it doesn\\'t take much). The bacteria will flourish in the moisture (which will still seep into the space) under the roof of the blister, protected from being washed away. This may (and often does) lead to an infection of the wound.</p>\\n\\n<p>It\\'s much better to prevent infection than to treat it. </p>\\n\\n<p>The reasoning of either of the other camps is more supportable. I favor leaving the blister intact as long as possible, giving the underlying wound time to form new stratified protective epidermalis.</p>\\n\\n<p>Treatment by people in this camp consists of carefully cleaning and disinfecting the surface of the blister and the surrounding skin, and covering it loosely with protective padding, usually gauze, then wrapping the entire thing with gauze wrap. The patient is instructed to check the blister daily; if it \"pops\" or becomes cloudy, the roof must be removed (most people prefer to have this done by a doctor or nurse), the area cleaned to remove any bacteria which might have entered, and a sterile dressing (over a light application of an antibacterial cream) reapplied, and changes daily until healed.</p>\\n\\n<p>The opposite camp reasons that the blister will break anyway, so get it over with and get the sterile dressing on, then clean and redress (with a light application of an antibacterial cream) daily. Also, if the blister is tense, it may be impeding healing of the base by decreasing blood flow. The problem with this approach is that it hurts more than leaving it alone, and the risk of infection is still greater than if the blister is intact.</p>\\n\\n<p>Many studies have been done to try to determine the best approach. Common sense plays a role. If the blister is very delicate (as in a large, tense and fragile blister of a burn), or if it looks unstable, I\\'ll remove the roof of the blister. If I think it can be preserved for even one or two days, I\\'ll leave it on. Every day it\\'s left on without infection is a day of healing and decreased pain as new skin is made.</p>\\n\\n<p>From one paper:</p>\\n\\n<blockquote>\\n  <p>There seems to be a paucity of good clinical evidence related to this subject, despite several review articles. The sole paper found involved a small sample, but showed infection rates to be higher if blisters are aspirated or deroofed, and that pain scores were higher in the group that underwent deroofing.</p>\\n</blockquote>\\n\\n<p>From a pain point of view:</p>\\n\\n<blockquote>\\n  <p>aspiration appears to result in less pain than deroofing. (See above: also more infection.)</p>\\n</blockquote>\\n\\n<p>The common sense comes in with type, size, and location of blister, reliability of care by the patient or their family, location or level of activity likely to cause rupture, or in the case of hikers\\' blisters (and others away from medical care), what the best model is to prevent infection while still using the involved area if necessary.</p>\\n\\n<p>Also changing the scene are the new available protective dressings of deroofed blisters that allow moist healing, non-occlusive protection and visibility of the underlying skin. </p>\\n\\n<p><sub><a href=\"http://www.ncbi.nlm.nih.gov/pmc/articles/PMC2564175/\" rel=\"noreferrer\">Management of burns blisters</a></sub><br>\\n<sub><a href=\"http://www.ncbi.nlm.nih.gov/pubmed/8570998\" rel=\"noreferrer\">Friction blisters. Pathophysiology, prevention and treatment.</a></sub>  </p>\\n', 'lastActivityDate': '2015-04-12T23:49:25Z', 'score': 26, 'lastEditDate': '2015-04-12T23:49:25Z', 'parentId': 6, 'postTypeId': 2, 'commentCount': 0}}}, {'question': {'~id': '6', '~entityType': 'node', '~labels': ['post'], '~properties': {'ownerUserId': 16, 'creationDate': '2015-03-31T19:26:15Z', 'body': '<p>While playing indoor soccer a couple days ago, I was fouled and fell forwards so that my hand skidded across the court a bit. It left the blister as you see in the image here:</p>\\n\\n<p><img src=\"https://i.stack.imgur.com/PDHo5m.jpg\" alt=\"the blister\"></p>\\n\\n<p>What should I consider when deciding to remove this blister? I could open and drain this blister, removing the excess skin afterwards, or leave it as is.</p>\\n\\n<p>I figure since it\\'s in a place that is likely to be touched/disrupted I should remove it since it\\'s likely to open anyways.</p>\\n', 'lastActivityDate': '2015-04-15T18:13:37Z', 'acceptedAnswerId': 478, 'tags': 'wound,removal,', 'score': 26, 'lastEditDate': '2015-04-13T04:27:47Z', 'viewCount': 6585, 'answerCount': 4, 'title': 'What should I consider when deciding to remove a blister or not?', 'commentCount': 0}}, 'answer': {'~id': '148', '~entityType': 'node', '~labels': ['post'], '~properties': {'ownerUserId': 114, 'creationDate': '2015-04-01T15:31:52Z', 'body': '<p>A blister is a small pocket of fluid in the upper skin layers and is one of the body’s responses to injury or pressure.</p>\\n\\n<p>Depending on the cause, the treatment could include:</p>\\n\\n<ul>\\n<li>sterile drainage of fluid,</li>\\n<li>professional dressing or padding techniques,</li>\\n<li>antibiotics, in the case of a bacterial infection,</li>\\n<li>antifungal preparations, in the case of fungal infection,</li>\\n<li>antiviral preparations, in the case of viral infection,</li>\\n<li>treatment for any underlying allergy.</li>\\n</ul>\\n\\n<p><sup>Source: <a href=\"http://www.betterhealth.vic.gov.au/bhcv2/bhcarticles.nsf/pages/Blisters\" rel=\"nofollow noreferrer\">Better Health</a> at Australian State Government of Victoria</sup> </p>\\n\\n<hr>\\n\\n<p>In general, you shouldn\\'t break small blisters (no bigger than your little fingernail) and <strong>leave blisters intact</strong> (<strong>do not attempt to pop them</strong>). However if blisters break, clean the area with mild soap and water, apply an antibiotic ointment if you see signs of infection (apply \"patch test\" to make sure you don\\'t have a bad reaction), and cover/protect it with a nonstick gauze bandage (a clean dressing). Do not tear off the flaps of skin left over from broken blisters. You\\'ll shed them soon enough; don\\'t risk irritating your skin even more now.</p>\\n\\n<p>For soothing, you may take a cool bath or shower and apply a a clean towel dampened with cool tap water<sup><a href=\"http://www.mayoclinic.org/first-aid/first-aid-sunburn/basics/art-20056643\" rel=\"nofollow noreferrer\">mayo</a></sup>.</p>\\n\\n<p>If you develop larger blisters, contact a doctor (podiatrist, pharmacist, dermatologist), because large blisters are best removed, as they rarely will remain intact on their own. Also seek medical help if you experience immediate complications, such as extreme pain, headache, confusion, nausea or chills.</p>\\n\\n<hr>\\n\\n<p>These herbs may be applied topically to minor burns:</p>\\n\\n<ul>\\n<li><p>Apply moisturizer such as Aloe vera lotion, cream or gel, or low-dose hydrocortisone cream, which may provide relief in some cases.</p>\\n\\n<blockquote>\\n  <p>Apply externally to the burned area, 3 - 4 times daily as needed, for soothing and healing.</p>\\n</blockquote></li>\\n<li><p>Calendula (Calendula officinalis), or pot marigold, as an ointment or a tea applied topically.</p>\\n\\n<blockquote>\\n  <p>To make tea from tincture, use 1/2 to 1 tsp. diluted in 1/4 cup water. You can also steep 1 tsp. of flowers in one cup of boiling water for 15 minutes, then strain and cool.</p>\\n</blockquote></li>\\n<li><p>Gotu kola (Centella asiatica)</p>\\n\\n<blockquote>\\n  <p>A cream containing 1% of the herb, may help repair skin tissue.</p>\\n</blockquote></li>\\n<li><p>Propolis</p>\\n\\n<blockquote>\\n  <p>A resin created by bees to build their hives, has been used historically to treat skin wounds.</p>\\n  \\n  <p>One study found that people given propolis to apply to minor burns healed as well as those treated with silver sulfadiazine, a prescription ointment. More research is needed, however.</p>\\n</blockquote></li>\\n</ul>\\n\\n<p><sup>Source: <a href=\"http://umm.edu/health/medical/altmed/condition/burns\" rel=\"nofollow noreferrer\">Burns</a> at UMMC</sup></p>\\n\\n<p>Following tips may improve your healing and general health:</p>\\n\\n<ul>\\n<li><p>If the burn is very recent, eat antioxidant foods, including fruits (such as blueberries, cherries, and tomatoes) and vegetables (such as squash and bell peppers).</p>\\n\\n<blockquote>\\n  <p>One study found that high doses of vitamin C post burn reduced fluid requirements by 40%, reduced burn tissue water content 50%, and reduced ventilator days.</p>\\n</blockquote></li>\\n<li><p>Eat fewer red meats and more lean meats, cold water fish, tofu (soy) or beans for protein.</p></li>\\n<li><p>Avoid refined foods, such as white breads, pastas, and sugar.</p></li>\\n<li><p>Use healthy cooking oils, such as olive oil or vegetable oil.</p></li>\\n<li><p>Reduce or eliminate trans-fatty acids, found in commercially baked goods such as cookies, crackers, cakes, French fries, onion rings, donuts, processed foods, and margarine.</p></li>\\n<li><p>Avoid caffeine and other stimulants, alcohol, and tobacco.</p></li>\\n<li><p>Drink 6 - 8 glasses of filtered water daily.</p></li>\\n</ul>\\n\\n<p><sup>Source: <a href=\"http://umm.edu/health/medical/altmed/condition/burns\" rel=\"nofollow noreferrer\">Burns</a> at UMMC</sup></p>\\n\\n<p>Other natural home remedies include:</p>\\n\\n<ul>\\n<li><p>Brew three or four teabags in a pitcher of warm water<sup><a href=\"http://umm.edu/health/medical/altmed/condition/burns\" rel=\"nofollow noreferrer\">UMMC</a></sup>.</p>\\n\\n<blockquote>\\n  <p>When the tea is almost black, remove the teabags and let the liquid cool to room temp. Gently dab at the sunburn with a cloth soaked in the tea, the more the better. Do not wash it off. If the cloth causes pain, dab at the burn with the teabags instead.</p>\\n</blockquote></li>\\n<li><p>Apply witch hazel lotion which may soothe your skin<sup><a href=\"http://www.webmd.com/vitamins-supplements/ingredientmono-227-witch%20hazel.aspx?activeingredientid=227&activeingredientname=witch%20hazel\" rel=\"nofollow noreferrer\">WebMD</a></sup>.</p></li>\\n<li><p>Use Egg Oil (Oleova).</p>\\n\\n<blockquote>\\n  <p>Egg oil is rich in omega-3 fatty acids like Docosahexanoic Acid.</p>\\n  \\n  <p>The omega-3 fatty acids in egg oil are bound to phospholipids which have the ability to form liposomes (nanoparticles), which may be able to penetrate deep and heal the dermis.</p>\\n</blockquote></li>\\n<li><p>Avoid egg whites, peanut butter, petroleum jelly, and vinegar in particular<sup><a href=\"http://www.mayoclinic.org/first-aid/first-aid-sunburn/basics/art-20056643\" rel=\"nofollow noreferrer\">mayo</a></sup>.</p></li>\\n</ul>\\n\\n<p><sup>See: <a href=\"http://www.wikihow.com/Treat-a-Sunburn\" rel=\"nofollow noreferrer\">How to Treat a Sunburn</a> at wikiHow</sup></p>\\n\\n<p>See also:</p>\\n\\n<ul>\\n<li><a href=\"https://health.stackexchange.com/questions/75/is-it-possible-to-reverse-the-skin-cell-damage-caused-by-sunlight-by-taking-appr\">Is it possible to reverse the skin cell damage caused by sunlight by taking appropriate vitamins?</a></li>\\n</ul>\\n', 'lastActivityDate': '2015-04-15T18:13:37Z', 'score': -4, 'lastEditDate': '2017-04-13T12:53:20Z', 'parentId': 6, 'postTypeId': 2, 'commentCount': 3}}}, {'question': {'~id': '6', '~entityType': 'node', '~labels': ['post'], '~properties': {'ownerUserId': 16, 'creationDate': '2015-03-31T19:26:15Z', 'body': '<p>While playing indoor soccer a couple days ago, I was fouled and fell forwards so that my hand skidded across the court a bit. It left the blister as you see in the image here:</p>\\n\\n<p><img src=\"https://i.stack.imgur.com/PDHo5m.jpg\" alt=\"the blister\"></p>\\n\\n<p>What should I consider when deciding to remove this blister? I could open and drain this blister, removing the excess skin afterwards, or leave it as is.</p>\\n\\n<p>I figure since it\\'s in a place that is likely to be touched/disrupted I should remove it since it\\'s likely to open anyways.</p>\\n', 'lastActivityDate': '2015-04-15T18:13:37Z', 'acceptedAnswerId': 478, 'tags': 'wound,removal,', 'score': 26, 'lastEditDate': '2015-04-13T04:27:47Z', 'viewCount': 6585, 'answerCount': 4, 'title': 'What should I consider when deciding to remove a blister or not?', 'commentCount': 0}}, 'answer': {'~id': '148', '~entityType': 'node', '~labels': ['post'], '~properties': {'ownerUserId': 114, 'creationDate': '2015-04-01T15:31:52Z', 'body': '<p>A blister is a small pocket of fluid in the upper skin layers and is one of the body’s responses to injury or pressure.</p>\\n\\n<p>Depending on the cause, the treatment could include:</p>\\n\\n<ul>\\n<li>sterile drainage of fluid,</li>\\n<li>professional dressing or padding techniques,</li>\\n<li>antibiotics, in the case of a bacterial infection,</li>\\n<li>antifungal preparations, in the case of fungal infection,</li>\\n<li>antiviral preparations, in the case of viral infection,</li>\\n<li>treatment for any underlying allergy.</li>\\n</ul>\\n\\n<p><sup>Source: <a href=\"http://www.betterhealth.vic.gov.au/bhcv2/bhcarticles.nsf/pages/Blisters\" rel=\"nofollow noreferrer\">Better Health</a> at Australian State Government of Victoria</sup> </p>\\n\\n<hr>\\n\\n<p>In general, you shouldn\\'t break small blisters (no bigger than your little fingernail) and <strong>leave blisters intact</strong> (<strong>do not attempt to pop them</strong>). However if blisters break, clean the area with mild soap and water, apply an antibiotic ointment if you see signs of infection (apply \"patch test\" to make sure you don\\'t have a bad reaction), and cover/protect it with a nonstick gauze bandage (a clean dressing). Do not tear off the flaps of skin left over from broken blisters. You\\'ll shed them soon enough; don\\'t risk irritating your skin even more now.</p>\\n\\n<p>For soothing, you may take a cool bath or shower and apply a a clean towel dampened with cool tap water<sup><a href=\"http://www.mayoclinic.org/first-aid/first-aid-sunburn/basics/art-20056643\" rel=\"nofollow noreferrer\">mayo</a></sup>.</p>\\n\\n<p>If you develop larger blisters, contact a doctor (podiatrist, pharmacist, dermatologist), because large blisters are best removed, as they rarely will remain intact on their own. Also seek medical help if you experience immediate complications, such as extreme pain, headache, confusion, nausea or chills.</p>\\n\\n<hr>\\n\\n<p>These herbs may be applied topically to minor burns:</p>\\n\\n<ul>\\n<li><p>Apply moisturizer such as Aloe vera lotion, cream or gel, or low-dose hydrocortisone cream, which may provide relief in some cases.</p>\\n\\n<blockquote>\\n  <p>Apply externally to the burned area, 3 - 4 times daily as needed, for soothing and healing.</p>\\n</blockquote></li>\\n<li><p>Calendula (Calendula officinalis), or pot marigold, as an ointment or a tea applied topically.</p>\\n\\n<blockquote>\\n  <p>To make tea from tincture, use 1/2 to 1 tsp. diluted in 1/4 cup water. You can also steep 1 tsp. of flowers in one cup of boiling water for 15 minutes, then strain and cool.</p>\\n</blockquote></li>\\n<li><p>Gotu kola (Centella asiatica)</p>\\n\\n<blockquote>\\n  <p>A cream containing 1% of the herb, may help repair skin tissue.</p>\\n</blockquote></li>\\n<li><p>Propolis</p>\\n\\n<blockquote>\\n  <p>A resin created by bees to build their hives, has been used historically to treat skin wounds.</p>\\n  \\n  <p>One study found that people given propolis to apply to minor burns healed as well as those treated with silver sulfadiazine, a prescription ointment. More research is needed, however.</p>\\n</blockquote></li>\\n</ul>\\n\\n<p><sup>Source: <a href=\"http://umm.edu/health/medical/altmed/condition/burns\" rel=\"nofollow noreferrer\">Burns</a> at UMMC</sup></p>\\n\\n<p>Following tips may improve your healing and general health:</p>\\n\\n<ul>\\n<li><p>If the burn is very recent, eat antioxidant foods, including fruits (such as blueberries, cherries, and tomatoes) and vegetables (such as squash and bell peppers).</p>\\n\\n<blockquote>\\n  <p>One study found that high doses of vitamin C post burn reduced fluid requirements by 40%, reduced burn tissue water content 50%, and reduced ventilator days.</p>\\n</blockquote></li>\\n<li><p>Eat fewer red meats and more lean meats, cold water fish, tofu (soy) or beans for protein.</p></li>\\n<li><p>Avoid refined foods, such as white breads, pastas, and sugar.</p></li>\\n<li><p>Use healthy cooking oils, such as olive oil or vegetable oil.</p></li>\\n<li><p>Reduce or eliminate trans-fatty acids, found in commercially baked goods such as cookies, crackers, cakes, French fries, onion rings, donuts, processed foods, and margarine.</p></li>\\n<li><p>Avoid caffeine and other stimulants, alcohol, and tobacco.</p></li>\\n<li><p>Drink 6 - 8 glasses of filtered water daily.</p></li>\\n</ul>\\n\\n<p><sup>Source: <a href=\"http://umm.edu/health/medical/altmed/condition/burns\" rel=\"nofollow noreferrer\">Burns</a> at UMMC</sup></p>\\n\\n<p>Other natural home remedies include:</p>\\n\\n<ul>\\n<li><p>Brew three or four teabags in a pitcher of warm water<sup><a href=\"http://umm.edu/health/medical/altmed/condition/burns\" rel=\"nofollow noreferrer\">UMMC</a></sup>.</p>\\n\\n<blockquote>\\n  <p>When the tea is almost black, remove the teabags and let the liquid cool to room temp. Gently dab at the sunburn with a cloth soaked in the tea, the more the better. Do not wash it off. If the cloth causes pain, dab at the burn with the teabags instead.</p>\\n</blockquote></li>\\n<li><p>Apply witch hazel lotion which may soothe your skin<sup><a href=\"http://www.webmd.com/vitamins-supplements/ingredientmono-227-witch%20hazel.aspx?activeingredientid=227&activeingredientname=witch%20hazel\" rel=\"nofollow noreferrer\">WebMD</a></sup>.</p></li>\\n<li><p>Use Egg Oil (Oleova).</p>\\n\\n<blockquote>\\n  <p>Egg oil is rich in omega-3 fatty acids like Docosahexanoic Acid.</p>\\n  \\n  <p>The omega-3 fatty acids in egg oil are bound to phospholipids which have the ability to form liposomes (nanoparticles), which may be able to penetrate deep and heal the dermis.</p>\\n</blockquote></li>\\n<li><p>Avoid egg whites, peanut butter, petroleum jelly, and vinegar in particular<sup><a href=\"http://www.mayoclinic.org/first-aid/first-aid-sunburn/basics/art-20056643\" rel=\"nofollow noreferrer\">mayo</a></sup>.</p></li>\\n</ul>\\n\\n<p><sup>See: <a href=\"http://www.wikihow.com/Treat-a-Sunburn\" rel=\"nofollow noreferrer\">How to Treat a Sunburn</a> at wikiHow</sup></p>\\n\\n<p>See also:</p>\\n\\n<ul>\\n<li><a href=\"https://health.stackexchange.com/questions/75/is-it-possible-to-reverse-the-skin-cell-damage-caused-by-sunlight-by-taking-appr\">Is it possible to reverse the skin cell damage caused by sunlight by taking appropriate vitamins?</a></li>\\n</ul>\\n', 'lastActivityDate': '2015-04-15T18:13:37Z', 'score': -4, 'lastEditDate': '2017-04-13T12:53:20Z', 'parentId': 6, 'postTypeId': 2, 'commentCount': 3}}}, {'question': {'~id': '6', '~entityType': 'node', '~labels': ['post'], '~properties': {'ownerUserId': 16, 'creationDate': '2015-03-31T19:26:15Z', 'body': '<p>While playing indoor soccer a couple days ago, I was fouled and fell forwards so that my hand skidded across the court a bit. It left the blister as you see in the image here:</p>\\n\\n<p><img src=\"https://i.stack.imgur.com/PDHo5m.jpg\" alt=\"the blister\"></p>\\n\\n<p>What should I consider when deciding to remove this blister? I could open and drain this blister, removing the excess skin afterwards, or leave it as is.</p>\\n\\n<p>I figure since it\\'s in a place that is likely to be touched/disrupted I should remove it since it\\'s likely to open anyways.</p>\\n', 'lastActivityDate': '2015-04-15T18:13:37Z', 'acceptedAnswerId': 478, 'tags': 'wound,removal,', 'score': 26, 'lastEditDate': '2015-04-13T04:27:47Z', 'viewCount': 6585, 'answerCount': 4, 'title': 'What should I consider when deciding to remove a blister or not?', 'commentCount': 0}}, 'answer': {'~id': '157', '~entityType': 'node', '~labels': ['post'], '~properties': {'ownerUserId': 136, 'creationDate': '2015-04-01T18:37:45Z', 'body': '<p>In first aid, we normally leave blisters alone. But there is one exception. In multi day walking events, there is a protocol to treat blisters.</p>\\n\\n<ol>\\n<li>We clean the blister and the skin around in.</li>\\n<li>We make it as sterile as possible</li>\\n<li>Use a single use sterile needle to make two holes on each of the sides of the blister in walking direction.</li>\\n<li>gently empty the blister, while collecting the fluid.</li>\\n<li>Clean it again.</li>\\n<li>Now you can use the right tape to cover the area. This can be tricky because each wrinkle kan lead to new blisters.</li>\\n</ol>\\n\\n<p>If the blister is open or it contains blood, consult a medical professional.</p>\\n', 'lastActivityDate': '2015-04-01T18:37:45Z', 'score': 6, 'parentId': 6, 'postTypeId': 2, 'commentCount': 0}}}, {'question': {'~id': '6', '~entityType': 'node', '~labels': ['post'], '~properties': {'ownerUserId': 16, 'creationDate': '2015-03-31T19:26:15Z', 'body': '<p>While playing indoor soccer a couple days ago, I was fouled and fell forwards so that my hand skidded across the court a bit. It left the blister as you see in the image here:</p>\\n\\n<p><img src=\"https://i.stack.imgur.com/PDHo5m.jpg\" alt=\"the blister\"></p>\\n\\n<p>What should I consider when deciding to remove this blister? I could open and drain this blister, removing the excess skin afterwards, or leave it as is.</p>\\n\\n<p>I figure since it\\'s in a place that is likely to be touched/disrupted I should remove it since it\\'s likely to open anyways.</p>\\n', 'lastActivityDate': '2015-04-15T18:13:37Z', 'acceptedAnswerId': 478, 'tags': 'wound,removal,', 'score': 26, 'lastEditDate': '2015-04-13T04:27:47Z', 'viewCount': 6585, 'answerCount': 4, 'title': 'What should I consider when deciding to remove a blister or not?', 'commentCount': 0}}, 'answer': {'~id': '157', '~entityType': 'node', '~labels': ['post'], '~properties': {'ownerUserId': 136, 'creationDate': '2015-04-01T18:37:45Z', 'body': '<p>In first aid, we normally leave blisters alone. But there is one exception. In multi day walking events, there is a protocol to treat blisters.</p>\\n\\n<ol>\\n<li>We clean the blister and the skin around in.</li>\\n<li>We make it as sterile as possible</li>\\n<li>Use a single use sterile needle to make two holes on each of the sides of the blister in walking direction.</li>\\n<li>gently empty the blister, while collecting the fluid.</li>\\n<li>Clean it again.</li>\\n<li>Now you can use the right tape to cover the area. This can be tricky because each wrinkle kan lead to new blisters.</li>\\n</ol>\\n\\n<p>If the blister is open or it contains blood, consult a medical professional.</p>\\n', 'lastActivityDate': '2015-04-01T18:37:45Z', 'score': 6, 'parentId': 6, 'postTypeId': 2, 'commentCount': 0}}}, {'question': {'~id': '6', '~entityType': 'node', '~labels': ['post'], '~properties': {'ownerUserId': 16, 'creationDate': '2015-03-31T19:26:15Z', 'body': '<p>While playing indoor soccer a couple days ago, I was fouled and fell forwards so that my hand skidded across the court a bit. It left the blister as you see in the image here:</p>\\n\\n<p><img src=\"https://i.stack.imgur.com/PDHo5m.jpg\" alt=\"the blister\"></p>\\n\\n<p>What should I consider when deciding to remove this blister? I could open and drain this blister, removing the excess skin afterwards, or leave it as is.</p>\\n\\n<p>I figure since it\\'s in a place that is likely to be touched/disrupted I should remove it since it\\'s likely to open anyways.</p>\\n', 'lastActivityDate': '2015-04-15T18:13:37Z', 'acceptedAnswerId': 478, 'tags': 'wound,removal,', 'score': 26, 'lastEditDate': '2015-04-13T04:27:47Z', 'viewCount': 6585, 'answerCount': 4, 'title': 'What should I consider when deciding to remove a blister or not?', 'commentCount': 0}}, 'answer': {'~id': '7', '~entityType': 'node', '~labels': ['post'], '~properties': {'ownerUserId': 22, 'creationDate': '2015-03-31T19:28:52Z', 'body': \"<p>Generally speaking, it's best to leave blisters undisturbed. Unroofing the blister completely is definitely ill-advised, as it exposes the entire dermis underneath, removing a primary barrier to infection. Cover it loosely with rolled gauze and leave it alone; it will either drain on its own, or reabsorb the fluid over time.</p>\\n\", 'lastActivityDate': '2015-03-31T19:28:52Z', 'parentId': 6, 'score': 14, 'postTypeId': 2, 'commentCount': 1}}}, {'question': {'~id': '6', '~entityType': 'node', '~labels': ['post'], '~properties': {'ownerUserId': 16, 'creationDate': '2015-03-31T19:26:15Z', 'body': '<p>While playing indoor soccer a couple days ago, I was fouled and fell forwards so that my hand skidded across the court a bit. It left the blister as you see in the image here:</p>\\n\\n<p><img src=\"https://i.stack.imgur.com/PDHo5m.jpg\" alt=\"the blister\"></p>\\n\\n<p>What should I consider when deciding to remove this blister? I could open and drain this blister, removing the excess skin afterwards, or leave it as is.</p>\\n\\n<p>I figure since it\\'s in a place that is likely to be touched/disrupted I should remove it since it\\'s likely to open anyways.</p>\\n', 'lastActivityDate': '2015-04-15T18:13:37Z', 'acceptedAnswerId': 478, 'tags': 'wound,removal,', 'score': 26, 'lastEditDate': '2015-04-13T04:27:47Z', 'viewCount': 6585, 'answerCount': 4, 'title': 'What should I consider when deciding to remove a blister or not?', 'commentCount': 0}}, 'answer': {'~id': '7', '~entityType': 'node', '~labels': ['post'], '~properties': {'ownerUserId': 22, 'creationDate': '2015-03-31T19:28:52Z', 'body': \"<p>Generally speaking, it's best to leave blisters undisturbed. Unroofing the blister completely is definitely ill-advised, as it exposes the entire dermis underneath, removing a primary barrier to infection. Cover it loosely with rolled gauze and leave it alone; it will either drain on its own, or reabsorb the fluid over time.</p>\\n\", 'lastActivityDate': '2015-03-31T19:28:52Z', 'parentId': 6, 'score': 14, 'postTypeId': 2, 'commentCount': 1}}}]}\n"
     ]
    },
    {
     "data": {
      "text/plain": [
       "{'results': [{'question': {'~id': '6',\n",
       "    '~entityType': 'node',\n",
       "    '~labels': ['post'],\n",
       "    '~properties': {'ownerUserId': 16,\n",
       "     'creationDate': '2015-03-31T19:26:15Z',\n",
       "     'body': '<p>While playing indoor soccer a couple days ago, I was fouled and fell forwards so that my hand skidded across the court a bit. It left the blister as you see in the image here:</p>\\n\\n<p><img src=\"https://i.stack.imgur.com/PDHo5m.jpg\" alt=\"the blister\"></p>\\n\\n<p>What should I consider when deciding to remove this blister? I could open and drain this blister, removing the excess skin afterwards, or leave it as is.</p>\\n\\n<p>I figure since it\\'s in a place that is likely to be touched/disrupted I should remove it since it\\'s likely to open anyways.</p>\\n',\n",
       "     'lastActivityDate': '2015-04-15T18:13:37Z',\n",
       "     'acceptedAnswerId': 478,\n",
       "     'tags': 'wound,removal,',\n",
       "     'score': 26,\n",
       "     'lastEditDate': '2015-04-13T04:27:47Z',\n",
       "     'viewCount': 6585,\n",
       "     'answerCount': 4,\n",
       "     'title': 'What should I consider when deciding to remove a blister or not?',\n",
       "     'commentCount': 0}},\n",
       "   'answer': {'~id': '478',\n",
       "    '~entityType': 'node',\n",
       "    '~labels': ['post'],\n",
       "    '~properties': {'ownerUserId': 169,\n",
       "     'creationDate': '2015-04-12T23:24:46Z',\n",
       "     'body': '<p>In the blister shown, the likelihood of rupture is decreased because of the thickness of the epidermis on the palm of the hand, so you can leave it alone until the underlying area re-epithelializes. You\\'ll know this is happening because of the decreased pain and the slow reabsorption of the fluid. Eventually you will just peal it off what\\'s left of the blister, finding clean new skin underneath.</p>\\n\\n<p>But this is a great starting point for an answer about the treatment of blisters in general: is it better to leave them alone, drain the fluid, or de-roof them (take the top of the blister off)?</p>\\n\\n<p>There is <em>a lot</em> of disagreement about what constitutes the optimal treatment of blisters. Some background might be in order.</p>\\n\\n<p><img src=\"https://i.stack.imgur.com/2lJIv.jpg\" alt=\"enter image description here\"></p>\\n\\n<p>Blisters form when the upper layers of the epidermis separate from the lower layers, usually at the level of the stratum spinosum. At that level, the cells (because of proximity to the dermis, which contains the capillaries) have moisture in and between them. When the separation occurs, <em>sterile</em> fluid from the stratum spinosum oozes unopposed into the space between the layers, and a blister forms.</p>\\n\\n<p>The fluid, similar to plasma, contains molecules which may promote the rapid division which takes place in the stratum basale.  This then differentiates into the upper layers of the epidermis and healing by new skin formation.</p>\\n\\n<blockquote>\\n  <p>Hydrostatic pressure causes the area of the separation to fill with a fluid that is similar in composition to plasma but has a lower protein level. About 6 hours after formation of the blister, cells in the blister base begin to take amino acids and nucleosides; at 24 hours, there is high mitotic activity in the basal cells; at 48 and 120 hours, new stratum granulosum and stratum corneum, respectively, can be seen.</p>\\n</blockquote>\\n\\n<p>The <em>sterile</em> fluid is a very rich and inviting growth medium for bacteria. For this reason, some people think it should be removed. The denuded skin underneath has lost some of it\\'s protection against infection. For this reason, some think the blister should be left intact. Between these two extremes are those who favor drainage of the fluid leaving the cover intact.</p>\\n\\n<p>To my thinking (and training), this is the worst option. Poking a hole in the blister, no matter how cleanly it\\'s done, will leave a point of entry for bacteria (it doesn\\'t take much). The bacteria will flourish in the moisture (which will still seep into the space) under the roof of the blister, protected from being washed away. This may (and often does) lead to an infection of the wound.</p>\\n\\n<p>It\\'s much better to prevent infection than to treat it. </p>\\n\\n<p>The reasoning of either of the other camps is more supportable. I favor leaving the blister intact as long as possible, giving the underlying wound time to form new stratified protective epidermalis.</p>\\n\\n<p>Treatment by people in this camp consists of carefully cleaning and disinfecting the surface of the blister and the surrounding skin, and covering it loosely with protective padding, usually gauze, then wrapping the entire thing with gauze wrap. The patient is instructed to check the blister daily; if it \"pops\" or becomes cloudy, the roof must be removed (most people prefer to have this done by a doctor or nurse), the area cleaned to remove any bacteria which might have entered, and a sterile dressing (over a light application of an antibacterial cream) reapplied, and changes daily until healed.</p>\\n\\n<p>The opposite camp reasons that the blister will break anyway, so get it over with and get the sterile dressing on, then clean and redress (with a light application of an antibacterial cream) daily. Also, if the blister is tense, it may be impeding healing of the base by decreasing blood flow. The problem with this approach is that it hurts more than leaving it alone, and the risk of infection is still greater than if the blister is intact.</p>\\n\\n<p>Many studies have been done to try to determine the best approach. Common sense plays a role. If the blister is very delicate (as in a large, tense and fragile blister of a burn), or if it looks unstable, I\\'ll remove the roof of the blister. If I think it can be preserved for even one or two days, I\\'ll leave it on. Every day it\\'s left on without infection is a day of healing and decreased pain as new skin is made.</p>\\n\\n<p>From one paper:</p>\\n\\n<blockquote>\\n  <p>There seems to be a paucity of good clinical evidence related to this subject, despite several review articles. The sole paper found involved a small sample, but showed infection rates to be higher if blisters are aspirated or deroofed, and that pain scores were higher in the group that underwent deroofing.</p>\\n</blockquote>\\n\\n<p>From a pain point of view:</p>\\n\\n<blockquote>\\n  <p>aspiration appears to result in less pain than deroofing. (See above: also more infection.)</p>\\n</blockquote>\\n\\n<p>The common sense comes in with type, size, and location of blister, reliability of care by the patient or their family, location or level of activity likely to cause rupture, or in the case of hikers\\' blisters (and others away from medical care), what the best model is to prevent infection while still using the involved area if necessary.</p>\\n\\n<p>Also changing the scene are the new available protective dressings of deroofed blisters that allow moist healing, non-occlusive protection and visibility of the underlying skin. </p>\\n\\n<p><sub><a href=\"http://www.ncbi.nlm.nih.gov/pmc/articles/PMC2564175/\" rel=\"noreferrer\">Management of burns blisters</a></sub><br>\\n<sub><a href=\"http://www.ncbi.nlm.nih.gov/pubmed/8570998\" rel=\"noreferrer\">Friction blisters. Pathophysiology, prevention and treatment.</a></sub>  </p>\\n',\n",
       "     'lastActivityDate': '2015-04-12T23:49:25Z',\n",
       "     'score': 26,\n",
       "     'lastEditDate': '2015-04-12T23:49:25Z',\n",
       "     'parentId': 6,\n",
       "     'postTypeId': 2,\n",
       "     'commentCount': 0}}},\n",
       "  {'question': {'~id': '6',\n",
       "    '~entityType': 'node',\n",
       "    '~labels': ['post'],\n",
       "    '~properties': {'ownerUserId': 16,\n",
       "     'creationDate': '2015-03-31T19:26:15Z',\n",
       "     'body': '<p>While playing indoor soccer a couple days ago, I was fouled and fell forwards so that my hand skidded across the court a bit. It left the blister as you see in the image here:</p>\\n\\n<p><img src=\"https://i.stack.imgur.com/PDHo5m.jpg\" alt=\"the blister\"></p>\\n\\n<p>What should I consider when deciding to remove this blister? I could open and drain this blister, removing the excess skin afterwards, or leave it as is.</p>\\n\\n<p>I figure since it\\'s in a place that is likely to be touched/disrupted I should remove it since it\\'s likely to open anyways.</p>\\n',\n",
       "     'lastActivityDate': '2015-04-15T18:13:37Z',\n",
       "     'acceptedAnswerId': 478,\n",
       "     'tags': 'wound,removal,',\n",
       "     'score': 26,\n",
       "     'lastEditDate': '2015-04-13T04:27:47Z',\n",
       "     'viewCount': 6585,\n",
       "     'answerCount': 4,\n",
       "     'title': 'What should I consider when deciding to remove a blister or not?',\n",
       "     'commentCount': 0}},\n",
       "   'answer': {'~id': '478',\n",
       "    '~entityType': 'node',\n",
       "    '~labels': ['post'],\n",
       "    '~properties': {'ownerUserId': 169,\n",
       "     'creationDate': '2015-04-12T23:24:46Z',\n",
       "     'body': '<p>In the blister shown, the likelihood of rupture is decreased because of the thickness of the epidermis on the palm of the hand, so you can leave it alone until the underlying area re-epithelializes. You\\'ll know this is happening because of the decreased pain and the slow reabsorption of the fluid. Eventually you will just peal it off what\\'s left of the blister, finding clean new skin underneath.</p>\\n\\n<p>But this is a great starting point for an answer about the treatment of blisters in general: is it better to leave them alone, drain the fluid, or de-roof them (take the top of the blister off)?</p>\\n\\n<p>There is <em>a lot</em> of disagreement about what constitutes the optimal treatment of blisters. Some background might be in order.</p>\\n\\n<p><img src=\"https://i.stack.imgur.com/2lJIv.jpg\" alt=\"enter image description here\"></p>\\n\\n<p>Blisters form when the upper layers of the epidermis separate from the lower layers, usually at the level of the stratum spinosum. At that level, the cells (because of proximity to the dermis, which contains the capillaries) have moisture in and between them. When the separation occurs, <em>sterile</em> fluid from the stratum spinosum oozes unopposed into the space between the layers, and a blister forms.</p>\\n\\n<p>The fluid, similar to plasma, contains molecules which may promote the rapid division which takes place in the stratum basale.  This then differentiates into the upper layers of the epidermis and healing by new skin formation.</p>\\n\\n<blockquote>\\n  <p>Hydrostatic pressure causes the area of the separation to fill with a fluid that is similar in composition to plasma but has a lower protein level. About 6 hours after formation of the blister, cells in the blister base begin to take amino acids and nucleosides; at 24 hours, there is high mitotic activity in the basal cells; at 48 and 120 hours, new stratum granulosum and stratum corneum, respectively, can be seen.</p>\\n</blockquote>\\n\\n<p>The <em>sterile</em> fluid is a very rich and inviting growth medium for bacteria. For this reason, some people think it should be removed. The denuded skin underneath has lost some of it\\'s protection against infection. For this reason, some think the blister should be left intact. Between these two extremes are those who favor drainage of the fluid leaving the cover intact.</p>\\n\\n<p>To my thinking (and training), this is the worst option. Poking a hole in the blister, no matter how cleanly it\\'s done, will leave a point of entry for bacteria (it doesn\\'t take much). The bacteria will flourish in the moisture (which will still seep into the space) under the roof of the blister, protected from being washed away. This may (and often does) lead to an infection of the wound.</p>\\n\\n<p>It\\'s much better to prevent infection than to treat it. </p>\\n\\n<p>The reasoning of either of the other camps is more supportable. I favor leaving the blister intact as long as possible, giving the underlying wound time to form new stratified protective epidermalis.</p>\\n\\n<p>Treatment by people in this camp consists of carefully cleaning and disinfecting the surface of the blister and the surrounding skin, and covering it loosely with protective padding, usually gauze, then wrapping the entire thing with gauze wrap. The patient is instructed to check the blister daily; if it \"pops\" or becomes cloudy, the roof must be removed (most people prefer to have this done by a doctor or nurse), the area cleaned to remove any bacteria which might have entered, and a sterile dressing (over a light application of an antibacterial cream) reapplied, and changes daily until healed.</p>\\n\\n<p>The opposite camp reasons that the blister will break anyway, so get it over with and get the sterile dressing on, then clean and redress (with a light application of an antibacterial cream) daily. Also, if the blister is tense, it may be impeding healing of the base by decreasing blood flow. The problem with this approach is that it hurts more than leaving it alone, and the risk of infection is still greater than if the blister is intact.</p>\\n\\n<p>Many studies have been done to try to determine the best approach. Common sense plays a role. If the blister is very delicate (as in a large, tense and fragile blister of a burn), or if it looks unstable, I\\'ll remove the roof of the blister. If I think it can be preserved for even one or two days, I\\'ll leave it on. Every day it\\'s left on without infection is a day of healing and decreased pain as new skin is made.</p>\\n\\n<p>From one paper:</p>\\n\\n<blockquote>\\n  <p>There seems to be a paucity of good clinical evidence related to this subject, despite several review articles. The sole paper found involved a small sample, but showed infection rates to be higher if blisters are aspirated or deroofed, and that pain scores were higher in the group that underwent deroofing.</p>\\n</blockquote>\\n\\n<p>From a pain point of view:</p>\\n\\n<blockquote>\\n  <p>aspiration appears to result in less pain than deroofing. (See above: also more infection.)</p>\\n</blockquote>\\n\\n<p>The common sense comes in with type, size, and location of blister, reliability of care by the patient or their family, location or level of activity likely to cause rupture, or in the case of hikers\\' blisters (and others away from medical care), what the best model is to prevent infection while still using the involved area if necessary.</p>\\n\\n<p>Also changing the scene are the new available protective dressings of deroofed blisters that allow moist healing, non-occlusive protection and visibility of the underlying skin. </p>\\n\\n<p><sub><a href=\"http://www.ncbi.nlm.nih.gov/pmc/articles/PMC2564175/\" rel=\"noreferrer\">Management of burns blisters</a></sub><br>\\n<sub><a href=\"http://www.ncbi.nlm.nih.gov/pubmed/8570998\" rel=\"noreferrer\">Friction blisters. Pathophysiology, prevention and treatment.</a></sub>  </p>\\n',\n",
       "     'lastActivityDate': '2015-04-12T23:49:25Z',\n",
       "     'score': 26,\n",
       "     'lastEditDate': '2015-04-12T23:49:25Z',\n",
       "     'parentId': 6,\n",
       "     'postTypeId': 2,\n",
       "     'commentCount': 0}}},\n",
       "  {'question': {'~id': '6',\n",
       "    '~entityType': 'node',\n",
       "    '~labels': ['post'],\n",
       "    '~properties': {'ownerUserId': 16,\n",
       "     'creationDate': '2015-03-31T19:26:15Z',\n",
       "     'body': '<p>While playing indoor soccer a couple days ago, I was fouled and fell forwards so that my hand skidded across the court a bit. It left the blister as you see in the image here:</p>\\n\\n<p><img src=\"https://i.stack.imgur.com/PDHo5m.jpg\" alt=\"the blister\"></p>\\n\\n<p>What should I consider when deciding to remove this blister? I could open and drain this blister, removing the excess skin afterwards, or leave it as is.</p>\\n\\n<p>I figure since it\\'s in a place that is likely to be touched/disrupted I should remove it since it\\'s likely to open anyways.</p>\\n',\n",
       "     'lastActivityDate': '2015-04-15T18:13:37Z',\n",
       "     'acceptedAnswerId': 478,\n",
       "     'tags': 'wound,removal,',\n",
       "     'score': 26,\n",
       "     'lastEditDate': '2015-04-13T04:27:47Z',\n",
       "     'viewCount': 6585,\n",
       "     'answerCount': 4,\n",
       "     'title': 'What should I consider when deciding to remove a blister or not?',\n",
       "     'commentCount': 0}},\n",
       "   'answer': {'~id': '148',\n",
       "    '~entityType': 'node',\n",
       "    '~labels': ['post'],\n",
       "    '~properties': {'ownerUserId': 114,\n",
       "     'creationDate': '2015-04-01T15:31:52Z',\n",
       "     'body': '<p>A blister is a small pocket of fluid in the upper skin layers and is one of the body’s responses to injury or pressure.</p>\\n\\n<p>Depending on the cause, the treatment could include:</p>\\n\\n<ul>\\n<li>sterile drainage of fluid,</li>\\n<li>professional dressing or padding techniques,</li>\\n<li>antibiotics, in the case of a bacterial infection,</li>\\n<li>antifungal preparations, in the case of fungal infection,</li>\\n<li>antiviral preparations, in the case of viral infection,</li>\\n<li>treatment for any underlying allergy.</li>\\n</ul>\\n\\n<p><sup>Source: <a href=\"http://www.betterhealth.vic.gov.au/bhcv2/bhcarticles.nsf/pages/Blisters\" rel=\"nofollow noreferrer\">Better Health</a> at Australian State Government of Victoria</sup> </p>\\n\\n<hr>\\n\\n<p>In general, you shouldn\\'t break small blisters (no bigger than your little fingernail) and <strong>leave blisters intact</strong> (<strong>do not attempt to pop them</strong>). However if blisters break, clean the area with mild soap and water, apply an antibiotic ointment if you see signs of infection (apply \"patch test\" to make sure you don\\'t have a bad reaction), and cover/protect it with a nonstick gauze bandage (a clean dressing). Do not tear off the flaps of skin left over from broken blisters. You\\'ll shed them soon enough; don\\'t risk irritating your skin even more now.</p>\\n\\n<p>For soothing, you may take a cool bath or shower and apply a a clean towel dampened with cool tap water<sup><a href=\"http://www.mayoclinic.org/first-aid/first-aid-sunburn/basics/art-20056643\" rel=\"nofollow noreferrer\">mayo</a></sup>.</p>\\n\\n<p>If you develop larger blisters, contact a doctor (podiatrist, pharmacist, dermatologist), because large blisters are best removed, as they rarely will remain intact on their own. Also seek medical help if you experience immediate complications, such as extreme pain, headache, confusion, nausea or chills.</p>\\n\\n<hr>\\n\\n<p>These herbs may be applied topically to minor burns:</p>\\n\\n<ul>\\n<li><p>Apply moisturizer such as Aloe vera lotion, cream or gel, or low-dose hydrocortisone cream, which may provide relief in some cases.</p>\\n\\n<blockquote>\\n  <p>Apply externally to the burned area, 3 - 4 times daily as needed, for soothing and healing.</p>\\n</blockquote></li>\\n<li><p>Calendula (Calendula officinalis), or pot marigold, as an ointment or a tea applied topically.</p>\\n\\n<blockquote>\\n  <p>To make tea from tincture, use 1/2 to 1 tsp. diluted in 1/4 cup water. You can also steep 1 tsp. of flowers in one cup of boiling water for 15 minutes, then strain and cool.</p>\\n</blockquote></li>\\n<li><p>Gotu kola (Centella asiatica)</p>\\n\\n<blockquote>\\n  <p>A cream containing 1% of the herb, may help repair skin tissue.</p>\\n</blockquote></li>\\n<li><p>Propolis</p>\\n\\n<blockquote>\\n  <p>A resin created by bees to build their hives, has been used historically to treat skin wounds.</p>\\n  \\n  <p>One study found that people given propolis to apply to minor burns healed as well as those treated with silver sulfadiazine, a prescription ointment. More research is needed, however.</p>\\n</blockquote></li>\\n</ul>\\n\\n<p><sup>Source: <a href=\"http://umm.edu/health/medical/altmed/condition/burns\" rel=\"nofollow noreferrer\">Burns</a> at UMMC</sup></p>\\n\\n<p>Following tips may improve your healing and general health:</p>\\n\\n<ul>\\n<li><p>If the burn is very recent, eat antioxidant foods, including fruits (such as blueberries, cherries, and tomatoes) and vegetables (such as squash and bell peppers).</p>\\n\\n<blockquote>\\n  <p>One study found that high doses of vitamin C post burn reduced fluid requirements by 40%, reduced burn tissue water content 50%, and reduced ventilator days.</p>\\n</blockquote></li>\\n<li><p>Eat fewer red meats and more lean meats, cold water fish, tofu (soy) or beans for protein.</p></li>\\n<li><p>Avoid refined foods, such as white breads, pastas, and sugar.</p></li>\\n<li><p>Use healthy cooking oils, such as olive oil or vegetable oil.</p></li>\\n<li><p>Reduce or eliminate trans-fatty acids, found in commercially baked goods such as cookies, crackers, cakes, French fries, onion rings, donuts, processed foods, and margarine.</p></li>\\n<li><p>Avoid caffeine and other stimulants, alcohol, and tobacco.</p></li>\\n<li><p>Drink 6 - 8 glasses of filtered water daily.</p></li>\\n</ul>\\n\\n<p><sup>Source: <a href=\"http://umm.edu/health/medical/altmed/condition/burns\" rel=\"nofollow noreferrer\">Burns</a> at UMMC</sup></p>\\n\\n<p>Other natural home remedies include:</p>\\n\\n<ul>\\n<li><p>Brew three or four teabags in a pitcher of warm water<sup><a href=\"http://umm.edu/health/medical/altmed/condition/burns\" rel=\"nofollow noreferrer\">UMMC</a></sup>.</p>\\n\\n<blockquote>\\n  <p>When the tea is almost black, remove the teabags and let the liquid cool to room temp. Gently dab at the sunburn with a cloth soaked in the tea, the more the better. Do not wash it off. If the cloth causes pain, dab at the burn with the teabags instead.</p>\\n</blockquote></li>\\n<li><p>Apply witch hazel lotion which may soothe your skin<sup><a href=\"http://www.webmd.com/vitamins-supplements/ingredientmono-227-witch%20hazel.aspx?activeingredientid=227&activeingredientname=witch%20hazel\" rel=\"nofollow noreferrer\">WebMD</a></sup>.</p></li>\\n<li><p>Use Egg Oil (Oleova).</p>\\n\\n<blockquote>\\n  <p>Egg oil is rich in omega-3 fatty acids like Docosahexanoic Acid.</p>\\n  \\n  <p>The omega-3 fatty acids in egg oil are bound to phospholipids which have the ability to form liposomes (nanoparticles), which may be able to penetrate deep and heal the dermis.</p>\\n</blockquote></li>\\n<li><p>Avoid egg whites, peanut butter, petroleum jelly, and vinegar in particular<sup><a href=\"http://www.mayoclinic.org/first-aid/first-aid-sunburn/basics/art-20056643\" rel=\"nofollow noreferrer\">mayo</a></sup>.</p></li>\\n</ul>\\n\\n<p><sup>See: <a href=\"http://www.wikihow.com/Treat-a-Sunburn\" rel=\"nofollow noreferrer\">How to Treat a Sunburn</a> at wikiHow</sup></p>\\n\\n<p>See also:</p>\\n\\n<ul>\\n<li><a href=\"https://health.stackexchange.com/questions/75/is-it-possible-to-reverse-the-skin-cell-damage-caused-by-sunlight-by-taking-appr\">Is it possible to reverse the skin cell damage caused by sunlight by taking appropriate vitamins?</a></li>\\n</ul>\\n',\n",
       "     'lastActivityDate': '2015-04-15T18:13:37Z',\n",
       "     'score': -4,\n",
       "     'lastEditDate': '2017-04-13T12:53:20Z',\n",
       "     'parentId': 6,\n",
       "     'postTypeId': 2,\n",
       "     'commentCount': 3}}},\n",
       "  {'question': {'~id': '6',\n",
       "    '~entityType': 'node',\n",
       "    '~labels': ['post'],\n",
       "    '~properties': {'ownerUserId': 16,\n",
       "     'creationDate': '2015-03-31T19:26:15Z',\n",
       "     'body': '<p>While playing indoor soccer a couple days ago, I was fouled and fell forwards so that my hand skidded across the court a bit. It left the blister as you see in the image here:</p>\\n\\n<p><img src=\"https://i.stack.imgur.com/PDHo5m.jpg\" alt=\"the blister\"></p>\\n\\n<p>What should I consider when deciding to remove this blister? I could open and drain this blister, removing the excess skin afterwards, or leave it as is.</p>\\n\\n<p>I figure since it\\'s in a place that is likely to be touched/disrupted I should remove it since it\\'s likely to open anyways.</p>\\n',\n",
       "     'lastActivityDate': '2015-04-15T18:13:37Z',\n",
       "     'acceptedAnswerId': 478,\n",
       "     'tags': 'wound,removal,',\n",
       "     'score': 26,\n",
       "     'lastEditDate': '2015-04-13T04:27:47Z',\n",
       "     'viewCount': 6585,\n",
       "     'answerCount': 4,\n",
       "     'title': 'What should I consider when deciding to remove a blister or not?',\n",
       "     'commentCount': 0}},\n",
       "   'answer': {'~id': '148',\n",
       "    '~entityType': 'node',\n",
       "    '~labels': ['post'],\n",
       "    '~properties': {'ownerUserId': 114,\n",
       "     'creationDate': '2015-04-01T15:31:52Z',\n",
       "     'body': '<p>A blister is a small pocket of fluid in the upper skin layers and is one of the body’s responses to injury or pressure.</p>\\n\\n<p>Depending on the cause, the treatment could include:</p>\\n\\n<ul>\\n<li>sterile drainage of fluid,</li>\\n<li>professional dressing or padding techniques,</li>\\n<li>antibiotics, in the case of a bacterial infection,</li>\\n<li>antifungal preparations, in the case of fungal infection,</li>\\n<li>antiviral preparations, in the case of viral infection,</li>\\n<li>treatment for any underlying allergy.</li>\\n</ul>\\n\\n<p><sup>Source: <a href=\"http://www.betterhealth.vic.gov.au/bhcv2/bhcarticles.nsf/pages/Blisters\" rel=\"nofollow noreferrer\">Better Health</a> at Australian State Government of Victoria</sup> </p>\\n\\n<hr>\\n\\n<p>In general, you shouldn\\'t break small blisters (no bigger than your little fingernail) and <strong>leave blisters intact</strong> (<strong>do not attempt to pop them</strong>). However if blisters break, clean the area with mild soap and water, apply an antibiotic ointment if you see signs of infection (apply \"patch test\" to make sure you don\\'t have a bad reaction), and cover/protect it with a nonstick gauze bandage (a clean dressing). Do not tear off the flaps of skin left over from broken blisters. You\\'ll shed them soon enough; don\\'t risk irritating your skin even more now.</p>\\n\\n<p>For soothing, you may take a cool bath or shower and apply a a clean towel dampened with cool tap water<sup><a href=\"http://www.mayoclinic.org/first-aid/first-aid-sunburn/basics/art-20056643\" rel=\"nofollow noreferrer\">mayo</a></sup>.</p>\\n\\n<p>If you develop larger blisters, contact a doctor (podiatrist, pharmacist, dermatologist), because large blisters are best removed, as they rarely will remain intact on their own. Also seek medical help if you experience immediate complications, such as extreme pain, headache, confusion, nausea or chills.</p>\\n\\n<hr>\\n\\n<p>These herbs may be applied topically to minor burns:</p>\\n\\n<ul>\\n<li><p>Apply moisturizer such as Aloe vera lotion, cream or gel, or low-dose hydrocortisone cream, which may provide relief in some cases.</p>\\n\\n<blockquote>\\n  <p>Apply externally to the burned area, 3 - 4 times daily as needed, for soothing and healing.</p>\\n</blockquote></li>\\n<li><p>Calendula (Calendula officinalis), or pot marigold, as an ointment or a tea applied topically.</p>\\n\\n<blockquote>\\n  <p>To make tea from tincture, use 1/2 to 1 tsp. diluted in 1/4 cup water. You can also steep 1 tsp. of flowers in one cup of boiling water for 15 minutes, then strain and cool.</p>\\n</blockquote></li>\\n<li><p>Gotu kola (Centella asiatica)</p>\\n\\n<blockquote>\\n  <p>A cream containing 1% of the herb, may help repair skin tissue.</p>\\n</blockquote></li>\\n<li><p>Propolis</p>\\n\\n<blockquote>\\n  <p>A resin created by bees to build their hives, has been used historically to treat skin wounds.</p>\\n  \\n  <p>One study found that people given propolis to apply to minor burns healed as well as those treated with silver sulfadiazine, a prescription ointment. More research is needed, however.</p>\\n</blockquote></li>\\n</ul>\\n\\n<p><sup>Source: <a href=\"http://umm.edu/health/medical/altmed/condition/burns\" rel=\"nofollow noreferrer\">Burns</a> at UMMC</sup></p>\\n\\n<p>Following tips may improve your healing and general health:</p>\\n\\n<ul>\\n<li><p>If the burn is very recent, eat antioxidant foods, including fruits (such as blueberries, cherries, and tomatoes) and vegetables (such as squash and bell peppers).</p>\\n\\n<blockquote>\\n  <p>One study found that high doses of vitamin C post burn reduced fluid requirements by 40%, reduced burn tissue water content 50%, and reduced ventilator days.</p>\\n</blockquote></li>\\n<li><p>Eat fewer red meats and more lean meats, cold water fish, tofu (soy) or beans for protein.</p></li>\\n<li><p>Avoid refined foods, such as white breads, pastas, and sugar.</p></li>\\n<li><p>Use healthy cooking oils, such as olive oil or vegetable oil.</p></li>\\n<li><p>Reduce or eliminate trans-fatty acids, found in commercially baked goods such as cookies, crackers, cakes, French fries, onion rings, donuts, processed foods, and margarine.</p></li>\\n<li><p>Avoid caffeine and other stimulants, alcohol, and tobacco.</p></li>\\n<li><p>Drink 6 - 8 glasses of filtered water daily.</p></li>\\n</ul>\\n\\n<p><sup>Source: <a href=\"http://umm.edu/health/medical/altmed/condition/burns\" rel=\"nofollow noreferrer\">Burns</a> at UMMC</sup></p>\\n\\n<p>Other natural home remedies include:</p>\\n\\n<ul>\\n<li><p>Brew three or four teabags in a pitcher of warm water<sup><a href=\"http://umm.edu/health/medical/altmed/condition/burns\" rel=\"nofollow noreferrer\">UMMC</a></sup>.</p>\\n\\n<blockquote>\\n  <p>When the tea is almost black, remove the teabags and let the liquid cool to room temp. Gently dab at the sunburn with a cloth soaked in the tea, the more the better. Do not wash it off. If the cloth causes pain, dab at the burn with the teabags instead.</p>\\n</blockquote></li>\\n<li><p>Apply witch hazel lotion which may soothe your skin<sup><a href=\"http://www.webmd.com/vitamins-supplements/ingredientmono-227-witch%20hazel.aspx?activeingredientid=227&activeingredientname=witch%20hazel\" rel=\"nofollow noreferrer\">WebMD</a></sup>.</p></li>\\n<li><p>Use Egg Oil (Oleova).</p>\\n\\n<blockquote>\\n  <p>Egg oil is rich in omega-3 fatty acids like Docosahexanoic Acid.</p>\\n  \\n  <p>The omega-3 fatty acids in egg oil are bound to phospholipids which have the ability to form liposomes (nanoparticles), which may be able to penetrate deep and heal the dermis.</p>\\n</blockquote></li>\\n<li><p>Avoid egg whites, peanut butter, petroleum jelly, and vinegar in particular<sup><a href=\"http://www.mayoclinic.org/first-aid/first-aid-sunburn/basics/art-20056643\" rel=\"nofollow noreferrer\">mayo</a></sup>.</p></li>\\n</ul>\\n\\n<p><sup>See: <a href=\"http://www.wikihow.com/Treat-a-Sunburn\" rel=\"nofollow noreferrer\">How to Treat a Sunburn</a> at wikiHow</sup></p>\\n\\n<p>See also:</p>\\n\\n<ul>\\n<li><a href=\"https://health.stackexchange.com/questions/75/is-it-possible-to-reverse-the-skin-cell-damage-caused-by-sunlight-by-taking-appr\">Is it possible to reverse the skin cell damage caused by sunlight by taking appropriate vitamins?</a></li>\\n</ul>\\n',\n",
       "     'lastActivityDate': '2015-04-15T18:13:37Z',\n",
       "     'score': -4,\n",
       "     'lastEditDate': '2017-04-13T12:53:20Z',\n",
       "     'parentId': 6,\n",
       "     'postTypeId': 2,\n",
       "     'commentCount': 3}}},\n",
       "  {'question': {'~id': '6',\n",
       "    '~entityType': 'node',\n",
       "    '~labels': ['post'],\n",
       "    '~properties': {'ownerUserId': 16,\n",
       "     'creationDate': '2015-03-31T19:26:15Z',\n",
       "     'body': '<p>While playing indoor soccer a couple days ago, I was fouled and fell forwards so that my hand skidded across the court a bit. It left the blister as you see in the image here:</p>\\n\\n<p><img src=\"https://i.stack.imgur.com/PDHo5m.jpg\" alt=\"the blister\"></p>\\n\\n<p>What should I consider when deciding to remove this blister? I could open and drain this blister, removing the excess skin afterwards, or leave it as is.</p>\\n\\n<p>I figure since it\\'s in a place that is likely to be touched/disrupted I should remove it since it\\'s likely to open anyways.</p>\\n',\n",
       "     'lastActivityDate': '2015-04-15T18:13:37Z',\n",
       "     'acceptedAnswerId': 478,\n",
       "     'tags': 'wound,removal,',\n",
       "     'score': 26,\n",
       "     'lastEditDate': '2015-04-13T04:27:47Z',\n",
       "     'viewCount': 6585,\n",
       "     'answerCount': 4,\n",
       "     'title': 'What should I consider when deciding to remove a blister or not?',\n",
       "     'commentCount': 0}},\n",
       "   'answer': {'~id': '157',\n",
       "    '~entityType': 'node',\n",
       "    '~labels': ['post'],\n",
       "    '~properties': {'ownerUserId': 136,\n",
       "     'creationDate': '2015-04-01T18:37:45Z',\n",
       "     'body': '<p>In first aid, we normally leave blisters alone. But there is one exception. In multi day walking events, there is a protocol to treat blisters.</p>\\n\\n<ol>\\n<li>We clean the blister and the skin around in.</li>\\n<li>We make it as sterile as possible</li>\\n<li>Use a single use sterile needle to make two holes on each of the sides of the blister in walking direction.</li>\\n<li>gently empty the blister, while collecting the fluid.</li>\\n<li>Clean it again.</li>\\n<li>Now you can use the right tape to cover the area. This can be tricky because each wrinkle kan lead to new blisters.</li>\\n</ol>\\n\\n<p>If the blister is open or it contains blood, consult a medical professional.</p>\\n',\n",
       "     'lastActivityDate': '2015-04-01T18:37:45Z',\n",
       "     'score': 6,\n",
       "     'parentId': 6,\n",
       "     'postTypeId': 2,\n",
       "     'commentCount': 0}}},\n",
       "  {'question': {'~id': '6',\n",
       "    '~entityType': 'node',\n",
       "    '~labels': ['post'],\n",
       "    '~properties': {'ownerUserId': 16,\n",
       "     'creationDate': '2015-03-31T19:26:15Z',\n",
       "     'body': '<p>While playing indoor soccer a couple days ago, I was fouled and fell forwards so that my hand skidded across the court a bit. It left the blister as you see in the image here:</p>\\n\\n<p><img src=\"https://i.stack.imgur.com/PDHo5m.jpg\" alt=\"the blister\"></p>\\n\\n<p>What should I consider when deciding to remove this blister? I could open and drain this blister, removing the excess skin afterwards, or leave it as is.</p>\\n\\n<p>I figure since it\\'s in a place that is likely to be touched/disrupted I should remove it since it\\'s likely to open anyways.</p>\\n',\n",
       "     'lastActivityDate': '2015-04-15T18:13:37Z',\n",
       "     'acceptedAnswerId': 478,\n",
       "     'tags': 'wound,removal,',\n",
       "     'score': 26,\n",
       "     'lastEditDate': '2015-04-13T04:27:47Z',\n",
       "     'viewCount': 6585,\n",
       "     'answerCount': 4,\n",
       "     'title': 'What should I consider when deciding to remove a blister or not?',\n",
       "     'commentCount': 0}},\n",
       "   'answer': {'~id': '157',\n",
       "    '~entityType': 'node',\n",
       "    '~labels': ['post'],\n",
       "    '~properties': {'ownerUserId': 136,\n",
       "     'creationDate': '2015-04-01T18:37:45Z',\n",
       "     'body': '<p>In first aid, we normally leave blisters alone. But there is one exception. In multi day walking events, there is a protocol to treat blisters.</p>\\n\\n<ol>\\n<li>We clean the blister and the skin around in.</li>\\n<li>We make it as sterile as possible</li>\\n<li>Use a single use sterile needle to make two holes on each of the sides of the blister in walking direction.</li>\\n<li>gently empty the blister, while collecting the fluid.</li>\\n<li>Clean it again.</li>\\n<li>Now you can use the right tape to cover the area. This can be tricky because each wrinkle kan lead to new blisters.</li>\\n</ol>\\n\\n<p>If the blister is open or it contains blood, consult a medical professional.</p>\\n',\n",
       "     'lastActivityDate': '2015-04-01T18:37:45Z',\n",
       "     'score': 6,\n",
       "     'parentId': 6,\n",
       "     'postTypeId': 2,\n",
       "     'commentCount': 0}}},\n",
       "  {'question': {'~id': '6',\n",
       "    '~entityType': 'node',\n",
       "    '~labels': ['post'],\n",
       "    '~properties': {'ownerUserId': 16,\n",
       "     'creationDate': '2015-03-31T19:26:15Z',\n",
       "     'body': '<p>While playing indoor soccer a couple days ago, I was fouled and fell forwards so that my hand skidded across the court a bit. It left the blister as you see in the image here:</p>\\n\\n<p><img src=\"https://i.stack.imgur.com/PDHo5m.jpg\" alt=\"the blister\"></p>\\n\\n<p>What should I consider when deciding to remove this blister? I could open and drain this blister, removing the excess skin afterwards, or leave it as is.</p>\\n\\n<p>I figure since it\\'s in a place that is likely to be touched/disrupted I should remove it since it\\'s likely to open anyways.</p>\\n',\n",
       "     'lastActivityDate': '2015-04-15T18:13:37Z',\n",
       "     'acceptedAnswerId': 478,\n",
       "     'tags': 'wound,removal,',\n",
       "     'score': 26,\n",
       "     'lastEditDate': '2015-04-13T04:27:47Z',\n",
       "     'viewCount': 6585,\n",
       "     'answerCount': 4,\n",
       "     'title': 'What should I consider when deciding to remove a blister or not?',\n",
       "     'commentCount': 0}},\n",
       "   'answer': {'~id': '7',\n",
       "    '~entityType': 'node',\n",
       "    '~labels': ['post'],\n",
       "    '~properties': {'ownerUserId': 22,\n",
       "     'creationDate': '2015-03-31T19:28:52Z',\n",
       "     'body': \"<p>Generally speaking, it's best to leave blisters undisturbed. Unroofing the blister completely is definitely ill-advised, as it exposes the entire dermis underneath, removing a primary barrier to infection. Cover it loosely with rolled gauze and leave it alone; it will either drain on its own, or reabsorb the fluid over time.</p>\\n\",\n",
       "     'lastActivityDate': '2015-03-31T19:28:52Z',\n",
       "     'parentId': 6,\n",
       "     'score': 14,\n",
       "     'postTypeId': 2,\n",
       "     'commentCount': 1}}},\n",
       "  {'question': {'~id': '6',\n",
       "    '~entityType': 'node',\n",
       "    '~labels': ['post'],\n",
       "    '~properties': {'ownerUserId': 16,\n",
       "     'creationDate': '2015-03-31T19:26:15Z',\n",
       "     'body': '<p>While playing indoor soccer a couple days ago, I was fouled and fell forwards so that my hand skidded across the court a bit. It left the blister as you see in the image here:</p>\\n\\n<p><img src=\"https://i.stack.imgur.com/PDHo5m.jpg\" alt=\"the blister\"></p>\\n\\n<p>What should I consider when deciding to remove this blister? I could open and drain this blister, removing the excess skin afterwards, or leave it as is.</p>\\n\\n<p>I figure since it\\'s in a place that is likely to be touched/disrupted I should remove it since it\\'s likely to open anyways.</p>\\n',\n",
       "     'lastActivityDate': '2015-04-15T18:13:37Z',\n",
       "     'acceptedAnswerId': 478,\n",
       "     'tags': 'wound,removal,',\n",
       "     'score': 26,\n",
       "     'lastEditDate': '2015-04-13T04:27:47Z',\n",
       "     'viewCount': 6585,\n",
       "     'answerCount': 4,\n",
       "     'title': 'What should I consider when deciding to remove a blister or not?',\n",
       "     'commentCount': 0}},\n",
       "   'answer': {'~id': '7',\n",
       "    '~entityType': 'node',\n",
       "    '~labels': ['post'],\n",
       "    '~properties': {'ownerUserId': 22,\n",
       "     'creationDate': '2015-03-31T19:28:52Z',\n",
       "     'body': \"<p>Generally speaking, it's best to leave blisters undisturbed. Unroofing the blister completely is definitely ill-advised, as it exposes the entire dermis underneath, removing a primary barrier to infection. Cover it loosely with rolled gauze and leave it alone; it will either drain on its own, or reabsorb the fluid over time.</p>\\n\",\n",
       "     'lastActivityDate': '2015-03-31T19:28:52Z',\n",
       "     'parentId': 6,\n",
       "     'score': 14,\n",
       "     'postTypeId': 2,\n",
       "     'commentCount': 1}}}]}"
      ]
     },
     "execution_count": 28,
     "metadata": {},
     "output_type": "execute_result"
    }
   ],
   "source": [
    "sample_post_id = 4\n",
    "\n",
    "query = '''\n",
    "MATCH (p:post)\n",
    "WHERE p.score = 26 and p.answerCount = 4\n",
    "OPTIONAL MATCH (p)-[:answer]->(a:post)\n",
    "RETURN p as question, a as answer\n",
    "'''\n",
    "response = execute_graph_query(query, neptune_endpoint)\n",
    "response.json()"
   ]
  },
  {
   "cell_type": "code",
   "execution_count": 21,
   "metadata": {},
   "outputs": [
    {
     "ename": "NameError",
     "evalue": "name 'execute_graph_query' is not defined",
     "output_type": "error",
     "traceback": [
      "\u001b[0;31m---------------------------------------------------------------------------\u001b[0m",
      "\u001b[0;31mNameError\u001b[0m                                 Traceback (most recent call last)",
      "Cell \u001b[0;32mIn[21], line 8\u001b[0m\n\u001b[1;32m      1\u001b[0m query2 \u001b[39m=\u001b[39m \u001b[39m'''\u001b[39m\n\u001b[1;32m      2\u001b[0m \u001b[39mMATCH( n \u001b[39m\u001b[39m{\u001b[39m\u001b[39m`~id`: \u001b[39m\u001b[39m\"\u001b[39m\u001b[39m6\u001b[39m\u001b[39m\"\u001b[39m\u001b[39m} )\u001b[39m\n\u001b[1;32m      3\u001b[0m \u001b[39mCALL neptune.algo.vectors.get(n)\u001b[39m\n\u001b[1;32m      4\u001b[0m \u001b[39mYIELD embedding\u001b[39m\n\u001b[1;32m      5\u001b[0m \u001b[39mRETURN n, embedding\u001b[39m\n\u001b[1;32m      6\u001b[0m \u001b[39m'''\u001b[39m\n\u001b[0;32m----> 8\u001b[0m response \u001b[39m=\u001b[39m execute_graph_query(query, neptune_endpoint)\n\u001b[1;32m      9\u001b[0m response\u001b[39m.\u001b[39mjson()[\u001b[39m'\u001b[39m\u001b[39mresults\u001b[39m\u001b[39m'\u001b[39m][\u001b[39m0\u001b[39m][\u001b[39m'\u001b[39m\u001b[39membedding\u001b[39m\u001b[39m'\u001b[39m]\n",
      "\u001b[0;31mNameError\u001b[0m: name 'execute_graph_query' is not defined"
     ]
    }
   ],
   "source": [
    "query2 = '''\n",
    "MATCH( n {`~id`: \"6\"} )\n",
    "CALL neptune.algo.vectors.get(n)\n",
    "YIELD embedding\n",
    "RETURN n, embedding\n",
    "'''\n",
    "\n",
    "response = execute_graph_query(query, neptune_endpoint)\n",
    "response.json()['results'][0]['embedding']"
   ]
  },
  {
   "cell_type": "code",
   "execution_count": 32,
   "metadata": {},
   "outputs": [
    {
     "name": "stdout",
     "output_type": "stream",
     "text": [
      "{'question': {'~id': '6', '~entityType': 'node', '~labels': ['post'], '~properties': {'ownerUserId': 16, 'creationDate': '2015-03-31T19:26:15Z', 'body': '<p>While playing indoor soccer a couple days ago, I was fouled and fell forwards so that my hand skidded across the court a bit. It left the blister as you see in the image here:</p>\\n\\n<p><img src=\"https://i.stack.imgur.com/PDHo5m.jpg\" alt=\"the blister\"></p>\\n\\n<p>What should I consider when deciding to remove this blister? I could open and drain this blister, removing the excess skin afterwards, or leave it as is.</p>\\n\\n<p>I figure since it\\'s in a place that is likely to be touched/disrupted I should remove it since it\\'s likely to open anyways.</p>\\n', 'lastActivityDate': '2015-04-15T18:13:37Z', 'acceptedAnswerId': 478, 'tags': 'wound,removal,', 'score': 26, 'lastEditDate': '2015-04-13T04:27:47Z', 'viewCount': 6585, 'answerCount': 4, 'title': 'What should I consider when deciding to remove a blister or not?', 'commentCount': 0}}, 'answer': {'~id': '478', '~entityType': 'node', '~labels': ['post'], '~properties': {'ownerUserId': 169, 'creationDate': '2015-04-12T23:24:46Z', 'body': '<p>In the blister shown, the likelihood of rupture is decreased because of the thickness of the epidermis on the palm of the hand, so you can leave it alone until the underlying area re-epithelializes. You\\'ll know this is happening because of the decreased pain and the slow reabsorption of the fluid. Eventually you will just peal it off what\\'s left of the blister, finding clean new skin underneath.</p>\\n\\n<p>But this is a great starting point for an answer about the treatment of blisters in general: is it better to leave them alone, drain the fluid, or de-roof them (take the top of the blister off)?</p>\\n\\n<p>There is <em>a lot</em> of disagreement about what constitutes the optimal treatment of blisters. Some background might be in order.</p>\\n\\n<p><img src=\"https://i.stack.imgur.com/2lJIv.jpg\" alt=\"enter image description here\"></p>\\n\\n<p>Blisters form when the upper layers of the epidermis separate from the lower layers, usually at the level of the stratum spinosum. At that level, the cells (because of proximity to the dermis, which contains the capillaries) have moisture in and between them. When the separation occurs, <em>sterile</em> fluid from the stratum spinosum oozes unopposed into the space between the layers, and a blister forms.</p>\\n\\n<p>The fluid, similar to plasma, contains molecules which may promote the rapid division which takes place in the stratum basale.  This then differentiates into the upper layers of the epidermis and healing by new skin formation.</p>\\n\\n<blockquote>\\n  <p>Hydrostatic pressure causes the area of the separation to fill with a fluid that is similar in composition to plasma but has a lower protein level. About 6 hours after formation of the blister, cells in the blister base begin to take amino acids and nucleosides; at 24 hours, there is high mitotic activity in the basal cells; at 48 and 120 hours, new stratum granulosum and stratum corneum, respectively, can be seen.</p>\\n</blockquote>\\n\\n<p>The <em>sterile</em> fluid is a very rich and inviting growth medium for bacteria. For this reason, some people think it should be removed. The denuded skin underneath has lost some of it\\'s protection against infection. For this reason, some think the blister should be left intact. Between these two extremes are those who favor drainage of the fluid leaving the cover intact.</p>\\n\\n<p>To my thinking (and training), this is the worst option. Poking a hole in the blister, no matter how cleanly it\\'s done, will leave a point of entry for bacteria (it doesn\\'t take much). The bacteria will flourish in the moisture (which will still seep into the space) under the roof of the blister, protected from being washed away. This may (and often does) lead to an infection of the wound.</p>\\n\\n<p>It\\'s much better to prevent infection than to treat it. </p>\\n\\n<p>The reasoning of either of the other camps is more supportable. I favor leaving the blister intact as long as possible, giving the underlying wound time to form new stratified protective epidermalis.</p>\\n\\n<p>Treatment by people in this camp consists of carefully cleaning and disinfecting the surface of the blister and the surrounding skin, and covering it loosely with protective padding, usually gauze, then wrapping the entire thing with gauze wrap. The patient is instructed to check the blister daily; if it \"pops\" or becomes cloudy, the roof must be removed (most people prefer to have this done by a doctor or nurse), the area cleaned to remove any bacteria which might have entered, and a sterile dressing (over a light application of an antibacterial cream) reapplied, and changes daily until healed.</p>\\n\\n<p>The opposite camp reasons that the blister will break anyway, so get it over with and get the sterile dressing on, then clean and redress (with a light application of an antibacterial cream) daily. Also, if the blister is tense, it may be impeding healing of the base by decreasing blood flow. The problem with this approach is that it hurts more than leaving it alone, and the risk of infection is still greater than if the blister is intact.</p>\\n\\n<p>Many studies have been done to try to determine the best approach. Common sense plays a role. If the blister is very delicate (as in a large, tense and fragile blister of a burn), or if it looks unstable, I\\'ll remove the roof of the blister. If I think it can be preserved for even one or two days, I\\'ll leave it on. Every day it\\'s left on without infection is a day of healing and decreased pain as new skin is made.</p>\\n\\n<p>From one paper:</p>\\n\\n<blockquote>\\n  <p>There seems to be a paucity of good clinical evidence related to this subject, despite several review articles. The sole paper found involved a small sample, but showed infection rates to be higher if blisters are aspirated or deroofed, and that pain scores were higher in the group that underwent deroofing.</p>\\n</blockquote>\\n\\n<p>From a pain point of view:</p>\\n\\n<blockquote>\\n  <p>aspiration appears to result in less pain than deroofing. (See above: also more infection.)</p>\\n</blockquote>\\n\\n<p>The common sense comes in with type, size, and location of blister, reliability of care by the patient or their family, location or level of activity likely to cause rupture, or in the case of hikers\\' blisters (and others away from medical care), what the best model is to prevent infection while still using the involved area if necessary.</p>\\n\\n<p>Also changing the scene are the new available protective dressings of deroofed blisters that allow moist healing, non-occlusive protection and visibility of the underlying skin. </p>\\n\\n<p><sub><a href=\"http://www.ncbi.nlm.nih.gov/pmc/articles/PMC2564175/\" rel=\"noreferrer\">Management of burns blisters</a></sub><br>\\n<sub><a href=\"http://www.ncbi.nlm.nih.gov/pubmed/8570998\" rel=\"noreferrer\">Friction blisters. Pathophysiology, prevention and treatment.</a></sub>  </p>\\n', 'lastActivityDate': '2015-04-12T23:49:25Z', 'score': 26, 'lastEditDate': '2015-04-12T23:49:25Z', 'parentId': 6, 'postTypeId': 2, 'commentCount': 0}}}\n",
      "{'question': {'~id': '6', '~entityType': 'node', '~labels': ['post'], '~properties': {'ownerUserId': 16, 'creationDate': '2015-03-31T19:26:15Z', 'body': '<p>While playing indoor soccer a couple days ago, I was fouled and fell forwards so that my hand skidded across the court a bit. It left the blister as you see in the image here:</p>\\n\\n<p><img src=\"https://i.stack.imgur.com/PDHo5m.jpg\" alt=\"the blister\"></p>\\n\\n<p>What should I consider when deciding to remove this blister? I could open and drain this blister, removing the excess skin afterwards, or leave it as is.</p>\\n\\n<p>I figure since it\\'s in a place that is likely to be touched/disrupted I should remove it since it\\'s likely to open anyways.</p>\\n', 'lastActivityDate': '2015-04-15T18:13:37Z', 'acceptedAnswerId': 478, 'tags': 'wound,removal,', 'score': 26, 'lastEditDate': '2015-04-13T04:27:47Z', 'viewCount': 6585, 'answerCount': 4, 'title': 'What should I consider when deciding to remove a blister or not?', 'commentCount': 0}}, 'answer': {'~id': '478', '~entityType': 'node', '~labels': ['post'], '~properties': {'ownerUserId': 169, 'creationDate': '2015-04-12T23:24:46Z', 'body': '<p>In the blister shown, the likelihood of rupture is decreased because of the thickness of the epidermis on the palm of the hand, so you can leave it alone until the underlying area re-epithelializes. You\\'ll know this is happening because of the decreased pain and the slow reabsorption of the fluid. Eventually you will just peal it off what\\'s left of the blister, finding clean new skin underneath.</p>\\n\\n<p>But this is a great starting point for an answer about the treatment of blisters in general: is it better to leave them alone, drain the fluid, or de-roof them (take the top of the blister off)?</p>\\n\\n<p>There is <em>a lot</em> of disagreement about what constitutes the optimal treatment of blisters. Some background might be in order.</p>\\n\\n<p><img src=\"https://i.stack.imgur.com/2lJIv.jpg\" alt=\"enter image description here\"></p>\\n\\n<p>Blisters form when the upper layers of the epidermis separate from the lower layers, usually at the level of the stratum spinosum. At that level, the cells (because of proximity to the dermis, which contains the capillaries) have moisture in and between them. When the separation occurs, <em>sterile</em> fluid from the stratum spinosum oozes unopposed into the space between the layers, and a blister forms.</p>\\n\\n<p>The fluid, similar to plasma, contains molecules which may promote the rapid division which takes place in the stratum basale.  This then differentiates into the upper layers of the epidermis and healing by new skin formation.</p>\\n\\n<blockquote>\\n  <p>Hydrostatic pressure causes the area of the separation to fill with a fluid that is similar in composition to plasma but has a lower protein level. About 6 hours after formation of the blister, cells in the blister base begin to take amino acids and nucleosides; at 24 hours, there is high mitotic activity in the basal cells; at 48 and 120 hours, new stratum granulosum and stratum corneum, respectively, can be seen.</p>\\n</blockquote>\\n\\n<p>The <em>sterile</em> fluid is a very rich and inviting growth medium for bacteria. For this reason, some people think it should be removed. The denuded skin underneath has lost some of it\\'s protection against infection. For this reason, some think the blister should be left intact. Between these two extremes are those who favor drainage of the fluid leaving the cover intact.</p>\\n\\n<p>To my thinking (and training), this is the worst option. Poking a hole in the blister, no matter how cleanly it\\'s done, will leave a point of entry for bacteria (it doesn\\'t take much). The bacteria will flourish in the moisture (which will still seep into the space) under the roof of the blister, protected from being washed away. This may (and often does) lead to an infection of the wound.</p>\\n\\n<p>It\\'s much better to prevent infection than to treat it. </p>\\n\\n<p>The reasoning of either of the other camps is more supportable. I favor leaving the blister intact as long as possible, giving the underlying wound time to form new stratified protective epidermalis.</p>\\n\\n<p>Treatment by people in this camp consists of carefully cleaning and disinfecting the surface of the blister and the surrounding skin, and covering it loosely with protective padding, usually gauze, then wrapping the entire thing with gauze wrap. The patient is instructed to check the blister daily; if it \"pops\" or becomes cloudy, the roof must be removed (most people prefer to have this done by a doctor or nurse), the area cleaned to remove any bacteria which might have entered, and a sterile dressing (over a light application of an antibacterial cream) reapplied, and changes daily until healed.</p>\\n\\n<p>The opposite camp reasons that the blister will break anyway, so get it over with and get the sterile dressing on, then clean and redress (with a light application of an antibacterial cream) daily. Also, if the blister is tense, it may be impeding healing of the base by decreasing blood flow. The problem with this approach is that it hurts more than leaving it alone, and the risk of infection is still greater than if the blister is intact.</p>\\n\\n<p>Many studies have been done to try to determine the best approach. Common sense plays a role. If the blister is very delicate (as in a large, tense and fragile blister of a burn), or if it looks unstable, I\\'ll remove the roof of the blister. If I think it can be preserved for even one or two days, I\\'ll leave it on. Every day it\\'s left on without infection is a day of healing and decreased pain as new skin is made.</p>\\n\\n<p>From one paper:</p>\\n\\n<blockquote>\\n  <p>There seems to be a paucity of good clinical evidence related to this subject, despite several review articles. The sole paper found involved a small sample, but showed infection rates to be higher if blisters are aspirated or deroofed, and that pain scores were higher in the group that underwent deroofing.</p>\\n</blockquote>\\n\\n<p>From a pain point of view:</p>\\n\\n<blockquote>\\n  <p>aspiration appears to result in less pain than deroofing. (See above: also more infection.)</p>\\n</blockquote>\\n\\n<p>The common sense comes in with type, size, and location of blister, reliability of care by the patient or their family, location or level of activity likely to cause rupture, or in the case of hikers\\' blisters (and others away from medical care), what the best model is to prevent infection while still using the involved area if necessary.</p>\\n\\n<p>Also changing the scene are the new available protective dressings of deroofed blisters that allow moist healing, non-occlusive protection and visibility of the underlying skin. </p>\\n\\n<p><sub><a href=\"http://www.ncbi.nlm.nih.gov/pmc/articles/PMC2564175/\" rel=\"noreferrer\">Management of burns blisters</a></sub><br>\\n<sub><a href=\"http://www.ncbi.nlm.nih.gov/pubmed/8570998\" rel=\"noreferrer\">Friction blisters. Pathophysiology, prevention and treatment.</a></sub>  </p>\\n', 'lastActivityDate': '2015-04-12T23:49:25Z', 'score': 26, 'lastEditDate': '2015-04-12T23:49:25Z', 'parentId': 6, 'postTypeId': 2, 'commentCount': 0}}}\n",
      "{'question': {'~id': '6', '~entityType': 'node', '~labels': ['post'], '~properties': {'ownerUserId': 16, 'creationDate': '2015-03-31T19:26:15Z', 'body': '<p>While playing indoor soccer a couple days ago, I was fouled and fell forwards so that my hand skidded across the court a bit. It left the blister as you see in the image here:</p>\\n\\n<p><img src=\"https://i.stack.imgur.com/PDHo5m.jpg\" alt=\"the blister\"></p>\\n\\n<p>What should I consider when deciding to remove this blister? I could open and drain this blister, removing the excess skin afterwards, or leave it as is.</p>\\n\\n<p>I figure since it\\'s in a place that is likely to be touched/disrupted I should remove it since it\\'s likely to open anyways.</p>\\n', 'lastActivityDate': '2015-04-15T18:13:37Z', 'acceptedAnswerId': 478, 'tags': 'wound,removal,', 'score': 26, 'lastEditDate': '2015-04-13T04:27:47Z', 'viewCount': 6585, 'answerCount': 4, 'title': 'What should I consider when deciding to remove a blister or not?', 'commentCount': 0}}, 'answer': {'~id': '148', '~entityType': 'node', '~labels': ['post'], '~properties': {'ownerUserId': 114, 'creationDate': '2015-04-01T15:31:52Z', 'body': '<p>A blister is a small pocket of fluid in the upper skin layers and is one of the body’s responses to injury or pressure.</p>\\n\\n<p>Depending on the cause, the treatment could include:</p>\\n\\n<ul>\\n<li>sterile drainage of fluid,</li>\\n<li>professional dressing or padding techniques,</li>\\n<li>antibiotics, in the case of a bacterial infection,</li>\\n<li>antifungal preparations, in the case of fungal infection,</li>\\n<li>antiviral preparations, in the case of viral infection,</li>\\n<li>treatment for any underlying allergy.</li>\\n</ul>\\n\\n<p><sup>Source: <a href=\"http://www.betterhealth.vic.gov.au/bhcv2/bhcarticles.nsf/pages/Blisters\" rel=\"nofollow noreferrer\">Better Health</a> at Australian State Government of Victoria</sup> </p>\\n\\n<hr>\\n\\n<p>In general, you shouldn\\'t break small blisters (no bigger than your little fingernail) and <strong>leave blisters intact</strong> (<strong>do not attempt to pop them</strong>). However if blisters break, clean the area with mild soap and water, apply an antibiotic ointment if you see signs of infection (apply \"patch test\" to make sure you don\\'t have a bad reaction), and cover/protect it with a nonstick gauze bandage (a clean dressing). Do not tear off the flaps of skin left over from broken blisters. You\\'ll shed them soon enough; don\\'t risk irritating your skin even more now.</p>\\n\\n<p>For soothing, you may take a cool bath or shower and apply a a clean towel dampened with cool tap water<sup><a href=\"http://www.mayoclinic.org/first-aid/first-aid-sunburn/basics/art-20056643\" rel=\"nofollow noreferrer\">mayo</a></sup>.</p>\\n\\n<p>If you develop larger blisters, contact a doctor (podiatrist, pharmacist, dermatologist), because large blisters are best removed, as they rarely will remain intact on their own. Also seek medical help if you experience immediate complications, such as extreme pain, headache, confusion, nausea or chills.</p>\\n\\n<hr>\\n\\n<p>These herbs may be applied topically to minor burns:</p>\\n\\n<ul>\\n<li><p>Apply moisturizer such as Aloe vera lotion, cream or gel, or low-dose hydrocortisone cream, which may provide relief in some cases.</p>\\n\\n<blockquote>\\n  <p>Apply externally to the burned area, 3 - 4 times daily as needed, for soothing and healing.</p>\\n</blockquote></li>\\n<li><p>Calendula (Calendula officinalis), or pot marigold, as an ointment or a tea applied topically.</p>\\n\\n<blockquote>\\n  <p>To make tea from tincture, use 1/2 to 1 tsp. diluted in 1/4 cup water. You can also steep 1 tsp. of flowers in one cup of boiling water for 15 minutes, then strain and cool.</p>\\n</blockquote></li>\\n<li><p>Gotu kola (Centella asiatica)</p>\\n\\n<blockquote>\\n  <p>A cream containing 1% of the herb, may help repair skin tissue.</p>\\n</blockquote></li>\\n<li><p>Propolis</p>\\n\\n<blockquote>\\n  <p>A resin created by bees to build their hives, has been used historically to treat skin wounds.</p>\\n  \\n  <p>One study found that people given propolis to apply to minor burns healed as well as those treated with silver sulfadiazine, a prescription ointment. More research is needed, however.</p>\\n</blockquote></li>\\n</ul>\\n\\n<p><sup>Source: <a href=\"http://umm.edu/health/medical/altmed/condition/burns\" rel=\"nofollow noreferrer\">Burns</a> at UMMC</sup></p>\\n\\n<p>Following tips may improve your healing and general health:</p>\\n\\n<ul>\\n<li><p>If the burn is very recent, eat antioxidant foods, including fruits (such as blueberries, cherries, and tomatoes) and vegetables (such as squash and bell peppers).</p>\\n\\n<blockquote>\\n  <p>One study found that high doses of vitamin C post burn reduced fluid requirements by 40%, reduced burn tissue water content 50%, and reduced ventilator days.</p>\\n</blockquote></li>\\n<li><p>Eat fewer red meats and more lean meats, cold water fish, tofu (soy) or beans for protein.</p></li>\\n<li><p>Avoid refined foods, such as white breads, pastas, and sugar.</p></li>\\n<li><p>Use healthy cooking oils, such as olive oil or vegetable oil.</p></li>\\n<li><p>Reduce or eliminate trans-fatty acids, found in commercially baked goods such as cookies, crackers, cakes, French fries, onion rings, donuts, processed foods, and margarine.</p></li>\\n<li><p>Avoid caffeine and other stimulants, alcohol, and tobacco.</p></li>\\n<li><p>Drink 6 - 8 glasses of filtered water daily.</p></li>\\n</ul>\\n\\n<p><sup>Source: <a href=\"http://umm.edu/health/medical/altmed/condition/burns\" rel=\"nofollow noreferrer\">Burns</a> at UMMC</sup></p>\\n\\n<p>Other natural home remedies include:</p>\\n\\n<ul>\\n<li><p>Brew three or four teabags in a pitcher of warm water<sup><a href=\"http://umm.edu/health/medical/altmed/condition/burns\" rel=\"nofollow noreferrer\">UMMC</a></sup>.</p>\\n\\n<blockquote>\\n  <p>When the tea is almost black, remove the teabags and let the liquid cool to room temp. Gently dab at the sunburn with a cloth soaked in the tea, the more the better. Do not wash it off. If the cloth causes pain, dab at the burn with the teabags instead.</p>\\n</blockquote></li>\\n<li><p>Apply witch hazel lotion which may soothe your skin<sup><a href=\"http://www.webmd.com/vitamins-supplements/ingredientmono-227-witch%20hazel.aspx?activeingredientid=227&activeingredientname=witch%20hazel\" rel=\"nofollow noreferrer\">WebMD</a></sup>.</p></li>\\n<li><p>Use Egg Oil (Oleova).</p>\\n\\n<blockquote>\\n  <p>Egg oil is rich in omega-3 fatty acids like Docosahexanoic Acid.</p>\\n  \\n  <p>The omega-3 fatty acids in egg oil are bound to phospholipids which have the ability to form liposomes (nanoparticles), which may be able to penetrate deep and heal the dermis.</p>\\n</blockquote></li>\\n<li><p>Avoid egg whites, peanut butter, petroleum jelly, and vinegar in particular<sup><a href=\"http://www.mayoclinic.org/first-aid/first-aid-sunburn/basics/art-20056643\" rel=\"nofollow noreferrer\">mayo</a></sup>.</p></li>\\n</ul>\\n\\n<p><sup>See: <a href=\"http://www.wikihow.com/Treat-a-Sunburn\" rel=\"nofollow noreferrer\">How to Treat a Sunburn</a> at wikiHow</sup></p>\\n\\n<p>See also:</p>\\n\\n<ul>\\n<li><a href=\"https://health.stackexchange.com/questions/75/is-it-possible-to-reverse-the-skin-cell-damage-caused-by-sunlight-by-taking-appr\">Is it possible to reverse the skin cell damage caused by sunlight by taking appropriate vitamins?</a></li>\\n</ul>\\n', 'lastActivityDate': '2015-04-15T18:13:37Z', 'score': -4, 'lastEditDate': '2017-04-13T12:53:20Z', 'parentId': 6, 'postTypeId': 2, 'commentCount': 3}}}\n",
      "{'question': {'~id': '6', '~entityType': 'node', '~labels': ['post'], '~properties': {'ownerUserId': 16, 'creationDate': '2015-03-31T19:26:15Z', 'body': '<p>While playing indoor soccer a couple days ago, I was fouled and fell forwards so that my hand skidded across the court a bit. It left the blister as you see in the image here:</p>\\n\\n<p><img src=\"https://i.stack.imgur.com/PDHo5m.jpg\" alt=\"the blister\"></p>\\n\\n<p>What should I consider when deciding to remove this blister? I could open and drain this blister, removing the excess skin afterwards, or leave it as is.</p>\\n\\n<p>I figure since it\\'s in a place that is likely to be touched/disrupted I should remove it since it\\'s likely to open anyways.</p>\\n', 'lastActivityDate': '2015-04-15T18:13:37Z', 'acceptedAnswerId': 478, 'tags': 'wound,removal,', 'score': 26, 'lastEditDate': '2015-04-13T04:27:47Z', 'viewCount': 6585, 'answerCount': 4, 'title': 'What should I consider when deciding to remove a blister or not?', 'commentCount': 0}}, 'answer': {'~id': '148', '~entityType': 'node', '~labels': ['post'], '~properties': {'ownerUserId': 114, 'creationDate': '2015-04-01T15:31:52Z', 'body': '<p>A blister is a small pocket of fluid in the upper skin layers and is one of the body’s responses to injury or pressure.</p>\\n\\n<p>Depending on the cause, the treatment could include:</p>\\n\\n<ul>\\n<li>sterile drainage of fluid,</li>\\n<li>professional dressing or padding techniques,</li>\\n<li>antibiotics, in the case of a bacterial infection,</li>\\n<li>antifungal preparations, in the case of fungal infection,</li>\\n<li>antiviral preparations, in the case of viral infection,</li>\\n<li>treatment for any underlying allergy.</li>\\n</ul>\\n\\n<p><sup>Source: <a href=\"http://www.betterhealth.vic.gov.au/bhcv2/bhcarticles.nsf/pages/Blisters\" rel=\"nofollow noreferrer\">Better Health</a> at Australian State Government of Victoria</sup> </p>\\n\\n<hr>\\n\\n<p>In general, you shouldn\\'t break small blisters (no bigger than your little fingernail) and <strong>leave blisters intact</strong> (<strong>do not attempt to pop them</strong>). However if blisters break, clean the area with mild soap and water, apply an antibiotic ointment if you see signs of infection (apply \"patch test\" to make sure you don\\'t have a bad reaction), and cover/protect it with a nonstick gauze bandage (a clean dressing). Do not tear off the flaps of skin left over from broken blisters. You\\'ll shed them soon enough; don\\'t risk irritating your skin even more now.</p>\\n\\n<p>For soothing, you may take a cool bath or shower and apply a a clean towel dampened with cool tap water<sup><a href=\"http://www.mayoclinic.org/first-aid/first-aid-sunburn/basics/art-20056643\" rel=\"nofollow noreferrer\">mayo</a></sup>.</p>\\n\\n<p>If you develop larger blisters, contact a doctor (podiatrist, pharmacist, dermatologist), because large blisters are best removed, as they rarely will remain intact on their own. Also seek medical help if you experience immediate complications, such as extreme pain, headache, confusion, nausea or chills.</p>\\n\\n<hr>\\n\\n<p>These herbs may be applied topically to minor burns:</p>\\n\\n<ul>\\n<li><p>Apply moisturizer such as Aloe vera lotion, cream or gel, or low-dose hydrocortisone cream, which may provide relief in some cases.</p>\\n\\n<blockquote>\\n  <p>Apply externally to the burned area, 3 - 4 times daily as needed, for soothing and healing.</p>\\n</blockquote></li>\\n<li><p>Calendula (Calendula officinalis), or pot marigold, as an ointment or a tea applied topically.</p>\\n\\n<blockquote>\\n  <p>To make tea from tincture, use 1/2 to 1 tsp. diluted in 1/4 cup water. You can also steep 1 tsp. of flowers in one cup of boiling water for 15 minutes, then strain and cool.</p>\\n</blockquote></li>\\n<li><p>Gotu kola (Centella asiatica)</p>\\n\\n<blockquote>\\n  <p>A cream containing 1% of the herb, may help repair skin tissue.</p>\\n</blockquote></li>\\n<li><p>Propolis</p>\\n\\n<blockquote>\\n  <p>A resin created by bees to build their hives, has been used historically to treat skin wounds.</p>\\n  \\n  <p>One study found that people given propolis to apply to minor burns healed as well as those treated with silver sulfadiazine, a prescription ointment. More research is needed, however.</p>\\n</blockquote></li>\\n</ul>\\n\\n<p><sup>Source: <a href=\"http://umm.edu/health/medical/altmed/condition/burns\" rel=\"nofollow noreferrer\">Burns</a> at UMMC</sup></p>\\n\\n<p>Following tips may improve your healing and general health:</p>\\n\\n<ul>\\n<li><p>If the burn is very recent, eat antioxidant foods, including fruits (such as blueberries, cherries, and tomatoes) and vegetables (such as squash and bell peppers).</p>\\n\\n<blockquote>\\n  <p>One study found that high doses of vitamin C post burn reduced fluid requirements by 40%, reduced burn tissue water content 50%, and reduced ventilator days.</p>\\n</blockquote></li>\\n<li><p>Eat fewer red meats and more lean meats, cold water fish, tofu (soy) or beans for protein.</p></li>\\n<li><p>Avoid refined foods, such as white breads, pastas, and sugar.</p></li>\\n<li><p>Use healthy cooking oils, such as olive oil or vegetable oil.</p></li>\\n<li><p>Reduce or eliminate trans-fatty acids, found in commercially baked goods such as cookies, crackers, cakes, French fries, onion rings, donuts, processed foods, and margarine.</p></li>\\n<li><p>Avoid caffeine and other stimulants, alcohol, and tobacco.</p></li>\\n<li><p>Drink 6 - 8 glasses of filtered water daily.</p></li>\\n</ul>\\n\\n<p><sup>Source: <a href=\"http://umm.edu/health/medical/altmed/condition/burns\" rel=\"nofollow noreferrer\">Burns</a> at UMMC</sup></p>\\n\\n<p>Other natural home remedies include:</p>\\n\\n<ul>\\n<li><p>Brew three or four teabags in a pitcher of warm water<sup><a href=\"http://umm.edu/health/medical/altmed/condition/burns\" rel=\"nofollow noreferrer\">UMMC</a></sup>.</p>\\n\\n<blockquote>\\n  <p>When the tea is almost black, remove the teabags and let the liquid cool to room temp. Gently dab at the sunburn with a cloth soaked in the tea, the more the better. Do not wash it off. If the cloth causes pain, dab at the burn with the teabags instead.</p>\\n</blockquote></li>\\n<li><p>Apply witch hazel lotion which may soothe your skin<sup><a href=\"http://www.webmd.com/vitamins-supplements/ingredientmono-227-witch%20hazel.aspx?activeingredientid=227&activeingredientname=witch%20hazel\" rel=\"nofollow noreferrer\">WebMD</a></sup>.</p></li>\\n<li><p>Use Egg Oil (Oleova).</p>\\n\\n<blockquote>\\n  <p>Egg oil is rich in omega-3 fatty acids like Docosahexanoic Acid.</p>\\n  \\n  <p>The omega-3 fatty acids in egg oil are bound to phospholipids which have the ability to form liposomes (nanoparticles), which may be able to penetrate deep and heal the dermis.</p>\\n</blockquote></li>\\n<li><p>Avoid egg whites, peanut butter, petroleum jelly, and vinegar in particular<sup><a href=\"http://www.mayoclinic.org/first-aid/first-aid-sunburn/basics/art-20056643\" rel=\"nofollow noreferrer\">mayo</a></sup>.</p></li>\\n</ul>\\n\\n<p><sup>See: <a href=\"http://www.wikihow.com/Treat-a-Sunburn\" rel=\"nofollow noreferrer\">How to Treat a Sunburn</a> at wikiHow</sup></p>\\n\\n<p>See also:</p>\\n\\n<ul>\\n<li><a href=\"https://health.stackexchange.com/questions/75/is-it-possible-to-reverse-the-skin-cell-damage-caused-by-sunlight-by-taking-appr\">Is it possible to reverse the skin cell damage caused by sunlight by taking appropriate vitamins?</a></li>\\n</ul>\\n', 'lastActivityDate': '2015-04-15T18:13:37Z', 'score': -4, 'lastEditDate': '2017-04-13T12:53:20Z', 'parentId': 6, 'postTypeId': 2, 'commentCount': 3}}}\n",
      "{'question': {'~id': '6', '~entityType': 'node', '~labels': ['post'], '~properties': {'ownerUserId': 16, 'creationDate': '2015-03-31T19:26:15Z', 'body': '<p>While playing indoor soccer a couple days ago, I was fouled and fell forwards so that my hand skidded across the court a bit. It left the blister as you see in the image here:</p>\\n\\n<p><img src=\"https://i.stack.imgur.com/PDHo5m.jpg\" alt=\"the blister\"></p>\\n\\n<p>What should I consider when deciding to remove this blister? I could open and drain this blister, removing the excess skin afterwards, or leave it as is.</p>\\n\\n<p>I figure since it\\'s in a place that is likely to be touched/disrupted I should remove it since it\\'s likely to open anyways.</p>\\n', 'lastActivityDate': '2015-04-15T18:13:37Z', 'acceptedAnswerId': 478, 'tags': 'wound,removal,', 'score': 26, 'lastEditDate': '2015-04-13T04:27:47Z', 'viewCount': 6585, 'answerCount': 4, 'title': 'What should I consider when deciding to remove a blister or not?', 'commentCount': 0}}, 'answer': {'~id': '157', '~entityType': 'node', '~labels': ['post'], '~properties': {'ownerUserId': 136, 'creationDate': '2015-04-01T18:37:45Z', 'body': '<p>In first aid, we normally leave blisters alone. But there is one exception. In multi day walking events, there is a protocol to treat blisters.</p>\\n\\n<ol>\\n<li>We clean the blister and the skin around in.</li>\\n<li>We make it as sterile as possible</li>\\n<li>Use a single use sterile needle to make two holes on each of the sides of the blister in walking direction.</li>\\n<li>gently empty the blister, while collecting the fluid.</li>\\n<li>Clean it again.</li>\\n<li>Now you can use the right tape to cover the area. This can be tricky because each wrinkle kan lead to new blisters.</li>\\n</ol>\\n\\n<p>If the blister is open or it contains blood, consult a medical professional.</p>\\n', 'lastActivityDate': '2015-04-01T18:37:45Z', 'score': 6, 'parentId': 6, 'postTypeId': 2, 'commentCount': 0}}}\n",
      "{'question': {'~id': '6', '~entityType': 'node', '~labels': ['post'], '~properties': {'ownerUserId': 16, 'creationDate': '2015-03-31T19:26:15Z', 'body': '<p>While playing indoor soccer a couple days ago, I was fouled and fell forwards so that my hand skidded across the court a bit. It left the blister as you see in the image here:</p>\\n\\n<p><img src=\"https://i.stack.imgur.com/PDHo5m.jpg\" alt=\"the blister\"></p>\\n\\n<p>What should I consider when deciding to remove this blister? I could open and drain this blister, removing the excess skin afterwards, or leave it as is.</p>\\n\\n<p>I figure since it\\'s in a place that is likely to be touched/disrupted I should remove it since it\\'s likely to open anyways.</p>\\n', 'lastActivityDate': '2015-04-15T18:13:37Z', 'acceptedAnswerId': 478, 'tags': 'wound,removal,', 'score': 26, 'lastEditDate': '2015-04-13T04:27:47Z', 'viewCount': 6585, 'answerCount': 4, 'title': 'What should I consider when deciding to remove a blister or not?', 'commentCount': 0}}, 'answer': {'~id': '157', '~entityType': 'node', '~labels': ['post'], '~properties': {'ownerUserId': 136, 'creationDate': '2015-04-01T18:37:45Z', 'body': '<p>In first aid, we normally leave blisters alone. But there is one exception. In multi day walking events, there is a protocol to treat blisters.</p>\\n\\n<ol>\\n<li>We clean the blister and the skin around in.</li>\\n<li>We make it as sterile as possible</li>\\n<li>Use a single use sterile needle to make two holes on each of the sides of the blister in walking direction.</li>\\n<li>gently empty the blister, while collecting the fluid.</li>\\n<li>Clean it again.</li>\\n<li>Now you can use the right tape to cover the area. This can be tricky because each wrinkle kan lead to new blisters.</li>\\n</ol>\\n\\n<p>If the blister is open or it contains blood, consult a medical professional.</p>\\n', 'lastActivityDate': '2015-04-01T18:37:45Z', 'score': 6, 'parentId': 6, 'postTypeId': 2, 'commentCount': 0}}}\n",
      "{'question': {'~id': '6', '~entityType': 'node', '~labels': ['post'], '~properties': {'ownerUserId': 16, 'creationDate': '2015-03-31T19:26:15Z', 'body': '<p>While playing indoor soccer a couple days ago, I was fouled and fell forwards so that my hand skidded across the court a bit. It left the blister as you see in the image here:</p>\\n\\n<p><img src=\"https://i.stack.imgur.com/PDHo5m.jpg\" alt=\"the blister\"></p>\\n\\n<p>What should I consider when deciding to remove this blister? I could open and drain this blister, removing the excess skin afterwards, or leave it as is.</p>\\n\\n<p>I figure since it\\'s in a place that is likely to be touched/disrupted I should remove it since it\\'s likely to open anyways.</p>\\n', 'lastActivityDate': '2015-04-15T18:13:37Z', 'acceptedAnswerId': 478, 'tags': 'wound,removal,', 'score': 26, 'lastEditDate': '2015-04-13T04:27:47Z', 'viewCount': 6585, 'answerCount': 4, 'title': 'What should I consider when deciding to remove a blister or not?', 'commentCount': 0}}, 'answer': {'~id': '7', '~entityType': 'node', '~labels': ['post'], '~properties': {'ownerUserId': 22, 'creationDate': '2015-03-31T19:28:52Z', 'body': \"<p>Generally speaking, it's best to leave blisters undisturbed. Unroofing the blister completely is definitely ill-advised, as it exposes the entire dermis underneath, removing a primary barrier to infection. Cover it loosely with rolled gauze and leave it alone; it will either drain on its own, or reabsorb the fluid over time.</p>\\n\", 'lastActivityDate': '2015-03-31T19:28:52Z', 'parentId': 6, 'score': 14, 'postTypeId': 2, 'commentCount': 1}}}\n",
      "{'question': {'~id': '6', '~entityType': 'node', '~labels': ['post'], '~properties': {'ownerUserId': 16, 'creationDate': '2015-03-31T19:26:15Z', 'body': '<p>While playing indoor soccer a couple days ago, I was fouled and fell forwards so that my hand skidded across the court a bit. It left the blister as you see in the image here:</p>\\n\\n<p><img src=\"https://i.stack.imgur.com/PDHo5m.jpg\" alt=\"the blister\"></p>\\n\\n<p>What should I consider when deciding to remove this blister? I could open and drain this blister, removing the excess skin afterwards, or leave it as is.</p>\\n\\n<p>I figure since it\\'s in a place that is likely to be touched/disrupted I should remove it since it\\'s likely to open anyways.</p>\\n', 'lastActivityDate': '2015-04-15T18:13:37Z', 'acceptedAnswerId': 478, 'tags': 'wound,removal,', 'score': 26, 'lastEditDate': '2015-04-13T04:27:47Z', 'viewCount': 6585, 'answerCount': 4, 'title': 'What should I consider when deciding to remove a blister or not?', 'commentCount': 0}}, 'answer': {'~id': '7', '~entityType': 'node', '~labels': ['post'], '~properties': {'ownerUserId': 22, 'creationDate': '2015-03-31T19:28:52Z', 'body': \"<p>Generally speaking, it's best to leave blisters undisturbed. Unroofing the blister completely is definitely ill-advised, as it exposes the entire dermis underneath, removing a primary barrier to infection. Cover it loosely with rolled gauze and leave it alone; it will either drain on its own, or reabsorb the fluid over time.</p>\\n\", 'lastActivityDate': '2015-03-31T19:28:52Z', 'parentId': 6, 'score': 14, 'postTypeId': 2, 'commentCount': 1}}}\n"
     ]
    },
    {
     "data": {
      "image/png": "[encoded data removed]",
      "text/plain": [
       "<Figure size 640x480 with 1 Axes>"
      ]
     },
     "metadata": {},
     "output_type": "display_data"
    }
   ],
   "source": [
    "import networkx as nx\n",
    "import matplotlib.pyplot as plt\n",
    "import requests  # Assuming you're using requests to make the HTTP request\n",
    "\n",
    "# Example response from requests.post() method\n",
    "# response = requests.post(neptune_endpoint,  auth=aws_auth, json=payload, headers=headers)\n",
    "\n",
    "# Convert the response content to a Python dictionary\n",
    "data = response.json()\n",
    "\n",
    "# Assuming 'data' contains the 'results' key with the necessary information\n",
    "results = data['results']  # Adjust based on the actual structure of your response\n",
    "\n",
    "G = nx.DiGraph()\n",
    "\n",
    "for item in results:\n",
    "    print(item)\n",
    "    question = item['question']\n",
    "    answer = item.get('answer', {})  # Using .get() to avoid KeyError if 'answer' is missing\n",
    "    \n",
    "    # Add question node\n",
    "    q_id = question['~id']\n",
    "    G.add_node(q_id, label='Question', title=question['~properties']['title'][:30])  # Truncate title for simplicity\n",
    "    \n",
    "    # Add answer node and edge from question to answer\n",
    "    if answer:\n",
    "        a_id = answer['~id']\n",
    "        G.add_node(a_id, label='Answer', score=answer['~properties']['score'])\n",
    "        G.add_edge(q_id, a_id, relationship='ANSWERED_BY')\n",
    "        \n",
    "        # If users are included, you could add them as nodes as well\n",
    "        # And add edges representing \"POSTED_BY\" relationships\n",
    "\n",
    "# Basic visualization\n",
    "pos = nx.spring_layout(G)  # Positions for all nodes\n",
    "nx.draw(G, pos, with_labels=True, node_size=7000, node_color=\"lightblue\", font_size=15, width=2, edge_color=\"gray\")\n",
    "nx.draw_networkx_edge_labels(G, pos, edge_labels={(u, v): d['relationship'] for u, v, d in G.edges(data=True)}, font_color='red')\n",
    "plt.show()\n"
   ]
  },
  {
   "cell_type": "markdown",
   "metadata": {},
   "source": [
    "### Get closest matches by embeddings"
   ]
  },
  {
   "cell_type": "code",
   "execution_count": 1,
   "metadata": {},
   "outputs": [
    {
     "ename": "NameError",
     "evalue": "name 'generate_embeddings' is not defined",
     "output_type": "error",
     "traceback": [
      "\u001b[0;31m---------------------------------------------------------------------------\u001b[0m",
      "\u001b[0;31mNameError\u001b[0m                                 Traceback (most recent call last)",
      "Cell \u001b[0;32mIn[1], line 2\u001b[0m\n\u001b[1;32m      1\u001b[0m user_question \u001b[39m=\u001b[39m \u001b[39m\"\u001b[39m\u001b[39mDoes beer have gluten in it?\u001b[39m\u001b[39m\"\u001b[39m\n\u001b[0;32m----> 2\u001b[0m q_embedding \u001b[39m=\u001b[39m generate_embeddings([user_question])\n\u001b[1;32m      3\u001b[0m q_embedding\n",
      "\u001b[0;31mNameError\u001b[0m: name 'generate_embeddings' is not defined"
     ]
    }
   ],
   "source": [
    "user_question = \"Does beer have gluten in it?\"\n",
    "q_embedding = generate_embeddings([user_question])\n",
    "q_embedding\n"
   ]
  },
  {
   "cell_type": "code",
   "execution_count": 46,
   "metadata": {},
   "outputs": [
    {
     "name": "stdout",
     "output_type": "stream",
     "text": [
      "Query executed successfully: {'results': [{'embedding': [-0.5078125, -0.06884765625, 0.07763671875, -0.99609375, -0.60546875, -0.255859375, 0.294921875, -0.000568389892578125, -0.007537841796875, 0.173828125, -0.65625, 0.578125, -0.18359375, -0.12890625, 0.0245361328125, -0.59765625, -0.053955078125, -0.28125, -0.1611328125, 0.0028228759765625, 0.33203125, 0.220703125, 0.4921875, 0.158203125, -0.099609375, -0.373046875, 0.2431640625, 0.59375, 0.5859375, -0.0625, 0.5546875, -0.11328125, -0.53515625, -0.060546875, 1.015625, -0.59765625, -0.056396484375, -0.61328125, 0.953125, -0.359375, 0.16015625, 1.2265625, 0.75, 0.7421875, 0.5703125, 0.19921875, -0.0498046875, -0.224609375, -0.046142578125, 0.474609375, 0.337890625, 0.00164031982421875, -0.1328125, 0.439453125, -0.41015625, -0.6953125, 0.2275390625, 0.255859375, 0.1708984375, -0.3046875, -0.16796875, -0.30859375, 0.10595703125, -0.1552734375, 0.392578125, -0.18359375, 1.2734375, -0.77734375, 0.166015625, -0.0361328125, 0.4453125, 0.2578125, -0.16015625, 0.0028533935546875, -0.6171875, -0.01348876953125, 0.56640625, 0.703125, 0.138671875, -0.93359375, 0.0888671875, -0.62109375, 0.0034332275390625, 1.2890625, 0.1591796875, 0.58203125, 0.2177734375, -0.283203125, 0.00012302398681640625, 0.62890625, -0.92578125, 1.2734375, -0.9765625, -0.328125, -0.0908203125, -0.416015625, -0.0174560546875, 0.0004177093505859375, 0.328125, 1.0546875, 0.2001953125, -0.228515625, 0.1943359375, -0.185546875, -0.18359375, -0.1396484375, 0.9296875, 1.0546875, 0.30078125, 0.016845703125, -1.140625, 0.1533203125, -0.2216796875, -0.04541015625, 0.005218505859375, -0.52734375, 0.78125, -1.0390625, 0.1318359375, -0.54296875, -0.60546875, -0.00092315673828125, -0.341796875, -0.470703125, -0.53515625, 0.98828125, -0.06640625, -0.388671875, -0.5546875, 0.291015625, -0.72265625, 0.451171875, -0.390625, 0.1650390625, 1.0703125, 1.1796875, -1.828125, -0.31640625, -0.19140625, -0.296875, -0.2333984375, 0.50390625, 0.400390625, 0.357421875, 0.032470703125, 0.416015625, -0.05029296875, 0.65625, 0.361328125, 0.25, 0.275390625, -0.66015625, 0.56640625, 0.6875, -0.83203125, 1.0703125, -0.2890625, 0.328125, 0.36328125, 1.0, -0.375, -0.0130615234375, -0.66015625, 0.2890625, 0.671875, -0.30859375, 0.05126953125, -0.0966796875, 0.12109375, -0.345703125, -0.04736328125, -0.66796875, -0.294921875, -0.921875, 0.0693359375, -0.26171875, -0.94921875, -0.2255859375, -0.486328125, -0.047119140625, 0.05126953125, 0.107421875, -0.10546875, -0.12158203125, 0.23046875, 0.06689453125, -0.12353515625, -0.271484375, -0.2021484375, -0.1875, 0.0296630859375, -0.26953125, -0.5234375, -1.0703125, 0.2158203125, -0.201171875, 0.37890625, 0.095703125, -0.7578125, -0.5625, -0.328125, -0.78125, -0.3125, 0.08642578125, 0.0380859375, 0.060791015625, 0.365234375, -0.5, -0.1484375, 0.50390625, -0.419921875, 0.16796875, 0.6328125, -0.86328125, 0.05078125, 0.31640625, -0.0291748046875, 0.546875, 0.31640625, -0.216796875, -0.51953125, -1.546875, -0.66015625, -1.2109375, -0.033935546875, -0.490234375, 0.8671875, 0.115234375, 0.30078125, 0.1962890625, -0.1982421875, 0.5, -1.0078125, -0.15234375, -0.44921875, -0.341796875, 0.765625, 0.310546875, -0.2451171875, 0.54296875, 0.298828125, 0.41796875, 0.7578125, -0.55859375, 0.05419921875, 0.671875, 0.0262451171875, 0.025634765625, 0.384765625, -0.11328125, -0.3203125, -0.056884765625, -0.15625, -0.53125, -1.03125, 0.021484375, -0.462890625, 0.1279296875, 0.00799560546875, 0.0224609375, 0.57421875, 0.10595703125, -0.003692626953125, 0.259765625, -0.027587890625, -0.1943359375, 0.0123291015625, 0.146484375, -0.326171875, -0.515625, 0.00011110305786132812, 0.1240234375, 0.2421875, -0.03271484375, -0.26171875, 0.5390625, -0.30078125, 0.828125, 1.046875, 0.01300048828125, 1.1875, 0.66796875, 0.7109375, 0.453125, 0.671875, -0.66015625, 0.458984375, 0.0264892578125, 0.447265625, 0.59765625, -0.79296875, -0.232421875, -0.91015625, -0.035400390625, -0.09521484375, 0.271484375, 0.13671875, 0.275390625, -0.47265625, 0.404296875, 0.11767578125, 0.02392578125, -0.279296875, 1.0390625, 0.2255859375, -0.51953125, 0.0218505859375, 0.068359375, -0.0130615234375, -0.1533203125, -0.2890625, 0.08740234375, -0.478515625, 0.09375, 0.07861328125, -0.412109375, 0.2734375, 0.2412109375, -0.58984375, 1.2890625, 0.33984375, 0.44140625, 0.11376953125, 0.05712890625, 0.1748046875, -0.3515625, 0.0299072265625, 0.10302734375, 0.18359375, -0.1630859375, 0.1845703125, -0.36328125, 0.01708984375, 0.1904296875, -0.3828125, 0.65234375, -0.8359375, 0.28125, -0.279296875, 0.19921875, -0.353515625, 0.06787109375, 0.5234375, 0.07421875, 0.2431640625, 0.061279296875, 0.455078125, -0.361328125, -0.84375, -0.2421875, 0.1455078125, -0.453125, -0.07861328125, -0.32421875, 0.228515625, 0.671875, 0.4296875, -0.68359375, -0.119140625, 0.458984375, 0.81640625, -0.478515625, 0.41015625, -0.44921875, 0.43359375, 0.19140625, -0.28125, 0.484375, -0.158203125, 0.380859375, -0.53125, 0.216796875, 0.640625, 0.38671875, 0.44921875, 0.2041015625, -0.484375, 0.0927734375, 0.75390625, -0.478515625, 0.33984375, 0.298828125, -0.1298828125, -0.07958984375, 0.022216796875, 1.4296875, 0.053955078125, -0.5625, -0.09228515625, -0.78515625, 0.26171875, -0.59375, -0.11767578125, -0.1533203125, -0.000942230224609375, -0.138671875, -0.6328125, 0.06591796875, -0.359375, -0.072265625, -0.047119140625, -0.23828125, -0.4765625, -0.52734375, -0.86328125, 0.70703125, 0.0225830078125, -0.1474609375, 0.2314453125, 0.369140625, 0.328125, -0.70703125, -0.2890625, -0.2138671875, -0.177734375, 0.32421875, -0.263671875, -0.07861328125, 0.38671875, 0.09521484375, 0.193359375, -0.59375, 0.5390625, 0.23046875, 1.03125, -0.7734375, 0.240234375, 0.1826171875, 0.197265625, 0.10546875, -0.1064453125, 0.498046875, 0.625, 0.4453125, -0.66796875, -0.11474609375, 0.01214599609375, 0.5390625, 0.0908203125, -0.380859375, -1.0625, 0.4296875, -0.279296875, -0.7421875, 0.421875, -0.373046875, -0.2099609375, -0.318359375, -0.181640625, -0.80078125, 0.01312255859375, 0.24609375, 0.1455078125, -0.01422119140625, -0.07568359375, 0.3515625, 0.427734375, 0.359375, -0.251953125, 0.73828125, -0.07568359375, -1.0390625, 0.1103515625, -0.2001953125, -0.44140625, -0.318359375, -0.189453125, 0.1376953125, -0.404296875, 0.00096893310546875, 0.330078125, -0.427734375, 0.01263427734375, -0.0299072265625, -0.06494140625, -0.51171875, -0.333984375, 0.51171875, 0.0498046875, -0.1826171875, 0.007232666015625, 0.09814453125, -0.427734375, -0.06201171875, -0.1669921875, -0.03564453125, -0.039794921875, -0.0869140625, 0.703125, -0.240234375, 0.66796875, 0.2197265625, -0.11181640625, 0.306640625, 0.296875, -0.0247802734375, 0.000141143798828125, 0.55859375, -0.05908203125, 1.0, 0.435546875, -0.66015625, 0.337890625, -0.60546875, -0.2734375, -0.058349609375, -0.1318359375, 0.2236328125, -0.62890625, 0.388671875, -0.1357421875, -0.4375, -0.40625, 0.259765625, 0.44921875, -0.0162353515625, 0.095703125, -0.0257568359375, 0.1796875, 0.482421875, 0.392578125, 1.171875, -0.01531982421875, -0.890625, -0.11083984375, -0.265625, 0.8515625, -0.35546875, -0.369140625, 0.953125, 0.027099609375, -0.4453125, -0.68359375, -0.0634765625, 0.125, 0.212890625, -0.099609375, -0.05615234375, 0.296875, -0.057373046875, 0.0390625, 1.1796875, 0.37890625, -0.234375, -0.12451171875, -0.0244140625, -0.55859375, -0.322265625, 0.318359375, 0.3203125, 0.2734375, -0.4140625, 0.294921875, 0.07275390625, 0.73046875, 0.1689453125, 0.35546875, 0.392578125, -0.1953125, 0.9609375, -0.23046875, -0.470703125, 0.1826171875, -0.0162353515625, -0.1591796875, 0.07177734375, -0.53515625, -0.162109375, -0.4140625, 0.15234375, 0.171875, 0.33984375, -0.271484375, 0.546875, -0.3984375, 0.462890625, -0.60546875, -0.87109375, -0.01953125, -0.58203125, 0.23046875, 0.1357421875, -0.1513671875, -0.36328125, -0.1513671875, 0.2119140625, 0.1630859375, 0.34375, 0.1240234375, -0.154296875, 0.2314453125, -0.80078125, 0.15234375, -0.4296875, 0.546875, -0.158203125, -0.388671875, -1.1328125, 0.33984375, -0.2021484375, -0.369140625, -0.052490234375, 0.158203125, -0.19921875, 0.431640625, 0.267578125, -0.0230712890625, -0.4765625, -0.1689453125, -0.19140625, 0.12890625, 0.38671875, -0.96875, 0.484375, -1.0234375, -0.03173828125, 1.1171875, -0.1650390625, -0.62109375, 0.050048828125, 0.453125, 0.265625, -0.18359375, -0.216796875, -0.115234375, -0.09521484375, 0.65234375, -0.60546875, -0.05078125, 0.69921875, 0.064453125, -0.10888671875, -0.10205078125, 0.91796875, -0.376953125, 0.431640625, -0.81640625, 0.1689453125, -0.03173828125, 0.56640625, -0.50390625, 0.064453125, 0.0576171875, 0.26953125, 1.703125, 0.359375, -0.259765625, 0.48046875, 0.12353515625, 0.2392578125, 0.10595703125, 0.30859375, 0.0283203125, -0.59375, 0.166015625, 0.90625, -0.68359375, -0.291015625, 0.0289306640625, 0.0155029296875, 0.3984375, -0.28125, 0.361328125, -0.08935546875, -0.025146484375, -0.388671875, -0.154296875, 0.0174560546875, -0.734375, -0.294921875, -1.0859375, 0.1171875, -0.2421875, 0.158203125, 1.03125, 0.7734375, -0.287109375, -0.11767578125, 0.1220703125, -0.33984375, 0.52734375, -0.33203125, 0.515625, -0.7734375, 0.05908203125, 0.1435546875, 0.166015625, 0.169921875, 0.1865234375, 0.47265625, -0.240234375, -0.287109375, -0.1982421875, 0.158203125, 0.423828125, 1.109375, -0.263671875, -0.546875, -0.032470703125, 0.04541015625, -0.62890625, 0.28125, -0.189453125, 0.5078125, 0.302734375, -0.82421875, -0.12353515625, 0.2041015625, 0.138671875, -0.000652313232421875, 0.045654296875, -0.1376953125, -0.1806640625, 1.1015625, -0.5625, 0.177734375, 0.16796875, -0.09228515625, 0.318359375, 0.1875, -0.1533203125, -0.443359375, -0.177734375, -0.7421875, 0.609375, -0.57421875, -0.00848388671875, 0.498046875, 0.64453125, -0.20703125, 0.60546875, -0.29296875, 0.189453125, 0.43359375, -0.400390625, 0.92578125, 0.375, -0.25, 0.345703125, 0.322265625, 0.353515625, 0.431640625, 0.55078125, -0.09521484375, -0.1845703125, 0.322265625, 0.390625, -0.06103515625, 1.0703125, 0.71484375, 0.5546875, 0.11474609375, 0.48046875, -0.5234375, -1.109375, -0.7421875, 0.228515625, -0.0311279296875, 0.263671875, -0.33984375, 0.388671875, -0.392578125, -0.458984375, -0.318359375, -0.203125, -0.1298828125, 0.1708984375, 0.08642578125, -0.396484375, 0.33984375, 0.158203125, -0.29296875, 0.212890625, -0.0390625, 0.6484375, 0.44140625, 1.4140625, 0.458984375, 0.734375, -0.25390625, -0.169921875, 0.44921875, 0.208984375, -0.02490234375, -0.3203125, -0.3671875, 0.259765625, -0.0986328125, 0.53515625, 0.4453125, -0.7265625, -0.255859375, -0.142578125, -0.038330078125, 0.486328125, -0.60546875, 0.0908203125, -0.09228515625, 0.78515625, 0.353515625, 0.80859375, 0.15234375, -0.357421875, 0.6171875, -0.11328125, -1.1015625, -0.216796875, 1.453125, -0.2353515625, -0.2138671875, -0.5234375, 0.051513671875, -0.62890625, 0.3671875, 0.134765625, 0.24609375, 0.287109375, -1.078125, -0.205078125, -0.09619140625, -0.3828125, -0.3984375, -0.3515625, -0.193359375, -0.08056640625, 0.00170135498046875, 0.0157470703125, -0.6328125, 1.0, -0.53515625, 0.26171875, -0.89453125, -0.35546875, 0.07275390625, 0.1357421875, 0.09228515625, 0.50390625, -0.10498046875, -0.11572265625, -0.66015625, -0.89453125, 0.48828125, 0.62890625, -0.181640625, 0.33984375, -1.078125, -0.6328125, 0.283203125, 0.384765625, 0.119140625, -1.1640625, 0.1484375, -0.37890625, 0.490234375, -0.0167236328125, 0.57421875, -0.283203125, -0.5390625, -0.5546875, 0.96484375, 0.10986328125, 0.1474609375, 0.451171875, -0.431640625, -0.78125, 0.392578125, 0.2412109375, 0.298828125, -0.400390625, -0.26171875, -0.515625, 0.032958984375, -0.234375, -0.049560546875, -0.1435546875, -0.212890625, -0.369140625, -0.0908203125, 0.7578125, -0.11962890625, -0.466796875, -1.0, 0.37890625, 0.51953125, -0.390625, -0.4609375, 0.67578125, -0.326171875, -0.5078125, 0.005157470703125, 0.3984375, 0.259765625, -0.12109375, -0.6484375, 0.37890625, -0.3203125, -0.30078125, 0.11376953125, -0.279296875, 0.146484375, 0.71484375, 0.03369140625, 0.271484375, 0.4921875, -0.6171875, -0.314453125, 0.123046875, -0.291015625, -0.8125, -0.248046875, 0.328125, -0.72265625, -0.2421875, -0.28125, -0.259765625, 0.267578125, -0.2431640625, 0.515625, 0.004669189453125, 0.109375, 0.439453125, 0.057373046875, 0.287109375, -0.07373046875, -0.1083984375, 0.36328125, -0.5, 0.5546875, -0.578125, -0.44140625, -0.2470703125, 0.58984375, 0.150390625, 0.10498046875, -0.0751953125, 0.203125, 0.423828125, 0.000522613525390625, 0.07763671875, 0.40234375, 0.271484375, -0.00017070770263671875, -0.625, -0.56640625, 0.423828125, -0.11181640625, -0.23828125, -0.412109375, -0.69921875, -0.06591796875, -0.73828125, 0.0250244140625, -0.2412109375, 0.001617431640625, 0.3203125, -0.0439453125, 0.7109375, -0.384765625, 0.201171875, -0.6953125, 0.474609375, 0.029052734375, 0.20703125, -0.162109375, -0.244140625, 0.076171875, -0.69140625, -0.181640625, -0.166015625, -0.73046875, 0.28125, 0.26171875, 0.310546875, 0.004913330078125, -0.1953125, -0.2421875, -0.37109375, 0.421875, 1.578125, -0.296875, 0.5390625, 0.60546875, 0.275390625, 0.3203125, -0.5078125, -0.2470703125, 0.37890625, 0.326171875, -0.1533203125, -0.4296875, -0.1650390625, 0.09912109375, -0.064453125, 0.1513671875, 0.068359375, -0.2021484375, -0.1513671875, -0.70703125, 0.1748046875, -0.4765625, -0.326171875, 0.1953125, 0.458984375, 0.7421875, -1.3125, -0.2177734375, -0.67578125, 0.2734375, 0.4375, -0.62890625, -0.138671875, -0.703125, -0.201171875, -0.29296875, 0.1279296875, -0.326171875, 0.90625, -0.142578125, 0.140625, -0.0172119140625, 0.8828125, 0.21484375, -0.390625, 0.150390625, -0.67578125, -0.053466796875, -0.279296875, 0.232421875, -0.33203125, 0.322265625, -0.0272216796875, -0.51953125, 0.3828125, -0.69140625, 0.2373046875, 0.2734375, -0.83984375, -0.85546875, -0.177734375, 0.1533203125, -0.2177734375, 0.515625, -0.47265625, -0.5, 0.08447265625, 0.025634765625, -1.734375, -0.40625, 0.00185394287109375, -0.71484375, 0.24609375, -0.32421875, 0.220703125, 0.470703125, -0.1474609375, 0.1826171875, -0.2890625, -0.400390625, 0.2734375, 0.54296875, -0.0286865234375, -0.22265625, 0.2578125, -0.046142578125, -0.27734375, -0.02294921875, -0.435546875, 0.39453125, 0.016357421875, -0.16015625, 0.181640625, 0.29296875, 0.255859375, -0.1572265625, 0.70703125, 0.7890625, 0.55078125, -0.3359375, -0.2373046875, 0.51953125, 0.036376953125, -0.1796875, 0.08447265625, -0.6640625, -0.404296875, -0.494140625, -0.625, -0.228515625, -0.306640625, -1.125, 0.267578125, 0.059326171875, 1.296875, -0.30859375, -0.4375, -0.01397705078125, -0.052734375, -0.62890625, -0.076171875, -0.5546875, -0.35546875, -0.173828125, -0.396484375, 0.5, 0.1787109375, -0.28125, 0.390625, 0.1875, -0.2353515625, 0.036376953125, 0.55859375, -0.11572265625, 0.3828125, 0.28515625, 0.2890625, -0.0576171875, -0.6171875, 0.05419921875, 0.216796875, 0.408203125, 0.490234375, -0.01019287109375, -0.4296875, 0.26953125, 0.55859375, -0.61328125, 0.7265625, -0.412109375, -0.248046875, -0.271484375, 0.322265625, -0.060791015625, -0.0113525390625, -0.2890625, 0.26171875, -0.7578125, -0.08984375, 0.0155029296875, -0.034423828125, 0.0244140625, -0.034912109375, 0.2109375, 0.263671875, -0.72265625, -0.130859375, 0.75, -0.216796875, 0.1005859375, 0.111328125, 0.2001953125, 1.0234375, -0.765625, 0.1455078125, 0.490234375, 0.25390625, -1.21875, -0.34765625, -0.1552734375, -0.130859375, 0.126953125, 0.212890625, 0.28125, 0.0771484375, -0.34765625, -0.625, -0.126953125, -0.7265625, 0.10693359375, -0.04296875, 0.1591796875, 0.1376953125, 0.64453125, 0.28515625, 0.146484375, -0.353515625, 0.341796875, -0.515625, 0.1923828125, 0.33984375, -0.78515625, -0.1357421875, -0.146484375, -0.25390625, 0.58984375, 0.30078125, 0.154296875, 0.11865234375, -0.2890625, -0.2578125, -0.0595703125, -0.287109375, 0.6171875, 0.046630859375, 0.5, -0.6171875, 0.1689453125, -0.1640625, -0.96875, 0.451171875, 0.96875, -0.369140625, -0.1044921875, -0.2392578125, 0.20703125, 0.419921875, -0.47265625, -0.004547119140625, 0.047119140625, 0.1298828125, 0.2333984375, 0.205078125, 0.007110595703125, 0.71875, -0.158203125, -0.431640625, -0.076171875, 0.21875, 0.15625, 0.6015625, -0.059814453125, -0.400390625, 0.08251953125, -0.1513671875, -0.037841796875, -0.328125, -0.0595703125, 0.70703125, 0.27734375, -0.263671875, -0.072265625, 0.054931640625, -0.40625, 0.6875, 0.8359375, -0.67578125, -0.078125, -0.57421875, -0.341796875, -0.291015625, -0.578125, -0.7421875, 0.83203125, 0.34765625, 0.1953125, 0.09912109375, 0.1513671875, -0.2734375, -0.177734375, -0.0830078125, 0.265625, 0.24609375, 0.22265625, -0.1162109375, -0.1826171875, 0.1513671875, 1.15625, 1.1015625, 0.5859375, -0.41796875, 0.6171875, 0.1796875, 0.2333984375, -0.388671875, 0.3203125, -0.8828125, -1.3671875, 0.365234375, -0.138671875, 0.3359375, -0.419921875, 0.029541015625, -0.216796875, -0.0218505859375, 0.7109375, 0.34375, -0.2255859375, -0.49609375, 0.26171875, 0.51171875, -0.1767578125, 0.30859375, 0.4296875, -0.58984375, -0.1796875, 0.64453125, -0.0087890625, 0.5703125, -0.06298828125, -0.294921875, 0.2451171875, 0.5390625, -0.8359375, 0.69921875, -0.796875, 0.162109375, 1.4921875, -0.1142578125, 0.5234375, 0.8046875, -0.484375, -0.0830078125, 0.2177734375, -0.7578125, 0.380859375, 0.006561279296875, -0.158203125, -0.0859375, 0.287109375, -0.322265625, 0.10009765625, -0.65234375, 0.07568359375, 0.609375, 0.7734375, -0.390625, -0.00921630859375, -0.09765625, -0.0260009765625, 1.109375, -0.38671875, 0.5390625, -0.390625, -0.46875, 0.8515625, 0.2275390625, -0.96484375, 0.0201416015625, 0.05126953125, -0.1806640625, -0.7578125, 0.1064453125, -0.142578125, 0.7265625, -0.00433349609375, -0.0634765625, 0.439453125, -0.10302734375, -0.181640625, 0.1923828125, -0.7109375, -0.0771484375, -0.205078125, 0.71875, 0.0194091796875, -0.337890625, -0.1259765625, -0.1484375, 0.6875, -0.6484375, 0.48828125, 0.1513671875, 0.26171875, -0.0478515625, -0.89453125, -0.19921875, 0.494140625, -0.1474609375, -0.48046875, 0.296875, 0.6484375, 0.042236328125, -0.259765625, 0.034423828125, 0.7109375, -0.1025390625, 0.703125, -0.201171875, -0.4296875, -0.0302734375, -0.1513671875, -0.0062255859375, 0.369140625, 0.65625, 0.51171875, -1.25, 0.7734375, -0.248046875, -0.3203125, -0.77734375, -0.125, 0.431640625, 0.6015625, -0.5, -0.5, 0.1533203125, -0.28515625, -0.25390625, -0.06884765625, -0.1826171875, 0.125, -0.58203125, -0.1298828125, 0.421875, -0.28125, 0.125, 0.31640625, -0.25, -0.0198974609375, -0.5, 0.18359375, 0.369140625, 0.01385498046875, 0.18359375, -0.58984375, -0.8359375, -0.51171875, -0.197265625, 0.2177734375, -0.04296875, -0.019287109375, -0.0223388671875, 0.1787109375, -0.2734375, 0.21484375, -0.09765625, 0.2119140625, 0.30859375, -0.107421875, 0.1259765625, 0.0311279296875, 0.029296875, 0.1513671875, 0.01348876953125, -0.59375, -0.0172119140625, 0.32421875, -0.06787109375, 0.01055908203125, 0.016845703125, -0.310546875, -0.337890625, -0.4609375, 0.4375, -0.3125, 0.34765625, -0.828125, -1.015625, -0.8359375, -0.1748046875, 0.6015625, 0.3203125, 0.21875, 0.01556396484375, 0.0096435546875, 0.1650390625, 0.1376953125, 0.0106201171875, -1.03125, -0.4296875, 0.1416015625, -0.1904296875, -0.369140625, 0.482421875, -0.048095703125, 0.244140625, -0.73828125, -0.0030059814453125, 0.279296875, -0.244140625, 0.04345703125, 0.5078125, 0.048828125, 0.7421875, 0.5625, -0.0291748046875, -0.75, -0.90625, 0.30078125, -0.400390625, 0.055419921875, 0.263671875, 0.07080078125, -0.059814453125, 0.66015625, -0.07861328125, 0.181640625, 0.46484375, 0.37890625, 0.1298828125, 0.0712890625, 0.1650390625, -0.11328125, -0.330078125, 0.11572265625, -0.18359375, -0.004058837890625, 0.75, -0.7578125, -0.416015625, -0.046875, 0.294921875, -0.45703125, 0.1298828125, -0.6171875, 0.044189453125, 0.1376953125, 0.5078125, 0.1572265625, -0.380859375, -0.31640625, -0.2470703125, 0.18359375, -0.1845703125, -0.19140625, -0.0274658203125, 0.515625, -0.353515625, 0.53125, 0.0361328125, -0.055908203125, 0.51171875, -0.58203125, -0.6796875, 0.13671875, -0.0030059814453125, 0.38671875, -0.65625, 0.83984375, 0.58203125, 0.76171875, 0.98046875, -1.1328125, -0.8203125, 0.60546875, 0.205078125, -0.546875, 0.3125, -0.0625, 0.08935546875, 0.359375, -0.00909423828125, 0.302734375, -0.275390625, 0.58984375, 0.490234375, -0.22265625], 'node': {'~id': '10304', '~entityType': 'node', '~labels': ['post'], '~properties': {'ownerUserId': 7503, 'creationDate': '2016-11-29T23:20:08Z', 'body': \"<p>I've been trying to reduce my intake of gluten and have found that my bowels are much more stable and regular. Does beer have gluten in it? I haven't found beer to be a problem for me. </p>\\n\", 'lastActivityDate': '2017-03-07T10:21:46Z', 'acceptedAnswerId': 10309, 'tags': 'diet,alcohol,nutrition,gluten,', 'score': 2, 'lastEditDate': '2017-03-07T10:21:46Z', 'viewCount': 41, 'answerCount': 1, 'title': 'Gluten in beer or not?', 'commentCount': 0}}, 'score': 93.48699188232422}, {'embedding': [-0.5078125, -0.06884765625, 0.07763671875, -0.99609375, -0.60546875, -0.255859375, 0.294921875, -0.000568389892578125, -0.007537841796875, 0.173828125, -0.65625, 0.578125, -0.18359375, -0.12890625, 0.0245361328125, -0.59765625, -0.053955078125, -0.28125, -0.1611328125, 0.0028228759765625, 0.33203125, 0.220703125, 0.4921875, 0.158203125, -0.099609375, -0.373046875, 0.2431640625, 0.59375, 0.5859375, -0.0625, 0.5546875, -0.11328125, -0.53515625, -0.060546875, 1.015625, -0.59765625, -0.056396484375, -0.61328125, 0.953125, -0.359375, 0.16015625, 1.2265625, 0.75, 0.7421875, 0.5703125, 0.19921875, -0.0498046875, -0.224609375, -0.046142578125, 0.474609375, 0.337890625, 0.00164031982421875, -0.1328125, 0.439453125, -0.41015625, -0.6953125, 0.2275390625, 0.255859375, 0.1708984375, -0.3046875, -0.16796875, -0.30859375, 0.10595703125, -0.1552734375, 0.392578125, -0.18359375, 1.2734375, -0.77734375, 0.166015625, -0.0361328125, 0.4453125, 0.2578125, -0.16015625, 0.0028533935546875, -0.6171875, -0.01348876953125, 0.56640625, 0.703125, 0.138671875, -0.93359375, 0.0888671875, -0.62109375, 0.0034332275390625, 1.2890625, 0.1591796875, 0.58203125, 0.2177734375, -0.283203125, 0.00012302398681640625, 0.62890625, -0.92578125, 1.2734375, -0.9765625, -0.328125, -0.0908203125, -0.416015625, -0.0174560546875, 0.0004177093505859375, 0.328125, 1.0546875, 0.2001953125, -0.228515625, 0.1943359375, -0.185546875, -0.18359375, -0.1396484375, 0.9296875, 1.0546875, 0.30078125, 0.016845703125, -1.140625, 0.1533203125, -0.2216796875, -0.04541015625, 0.005218505859375, -0.52734375, 0.78125, -1.0390625, 0.1318359375, -0.54296875, -0.60546875, -0.00092315673828125, -0.341796875, -0.470703125, -0.53515625, 0.98828125, -0.06640625, -0.388671875, -0.5546875, 0.291015625, -0.72265625, 0.451171875, -0.390625, 0.1650390625, 1.0703125, 1.1796875, -1.828125, -0.31640625, -0.19140625, -0.296875, -0.2333984375, 0.50390625, 0.400390625, 0.357421875, 0.032470703125, 0.416015625, -0.05029296875, 0.65625, 0.361328125, 0.25, 0.275390625, -0.66015625, 0.56640625, 0.6875, -0.83203125, 1.0703125, -0.2890625, 0.328125, 0.36328125, 1.0, -0.375, -0.0130615234375, -0.66015625, 0.2890625, 0.671875, -0.30859375, 0.05126953125, -0.0966796875, 0.12109375, -0.345703125, -0.04736328125, -0.66796875, -0.294921875, -0.921875, 0.0693359375, -0.26171875, -0.94921875, -0.2255859375, -0.486328125, -0.047119140625, 0.05126953125, 0.107421875, -0.10546875, -0.12158203125, 0.23046875, 0.06689453125, -0.12353515625, -0.271484375, -0.2021484375, -0.1875, 0.0296630859375, -0.26953125, -0.5234375, -1.0703125, 0.2158203125, -0.201171875, 0.37890625, 0.095703125, -0.7578125, -0.5625, -0.328125, -0.78125, -0.3125, 0.08642578125, 0.0380859375, 0.060791015625, 0.365234375, -0.5, -0.1484375, 0.50390625, -0.419921875, 0.16796875, 0.6328125, -0.86328125, 0.05078125, 0.31640625, -0.0291748046875, 0.546875, 0.31640625, -0.216796875, -0.51953125, -1.546875, -0.66015625, -1.2109375, -0.033935546875, -0.490234375, 0.8671875, 0.115234375, 0.30078125, 0.1962890625, -0.1982421875, 0.5, -1.0078125, -0.15234375, -0.44921875, -0.341796875, 0.765625, 0.310546875, -0.2451171875, 0.54296875, 0.298828125, 0.41796875, 0.7578125, -0.55859375, 0.05419921875, 0.671875, 0.0262451171875, 0.025634765625, 0.384765625, -0.11328125, -0.3203125, -0.056884765625, -0.15625, -0.53125, -1.03125, 0.021484375, -0.462890625, 0.1279296875, 0.00799560546875, 0.0224609375, 0.57421875, 0.10595703125, -0.003692626953125, 0.259765625, -0.027587890625, -0.1943359375, 0.0123291015625, 0.146484375, -0.326171875, -0.515625, 0.00011110305786132812, 0.1240234375, 0.2421875, -0.03271484375, -0.26171875, 0.5390625, -0.30078125, 0.828125, 1.046875, 0.01300048828125, 1.1875, 0.66796875, 0.7109375, 0.453125, 0.671875, -0.66015625, 0.458984375, 0.0264892578125, 0.447265625, 0.59765625, -0.79296875, -0.232421875, -0.91015625, -0.035400390625, -0.09521484375, 0.271484375, 0.13671875, 0.275390625, -0.47265625, 0.404296875, 0.11767578125, 0.02392578125, -0.279296875, 1.0390625, 0.2255859375, -0.51953125, 0.0218505859375, 0.068359375, -0.0130615234375, -0.1533203125, -0.2890625, 0.08740234375, -0.478515625, 0.09375, 0.07861328125, -0.412109375, 0.2734375, 0.2412109375, -0.58984375, 1.2890625, 0.33984375, 0.44140625, 0.11376953125, 0.05712890625, 0.1748046875, -0.3515625, 0.0299072265625, 0.10302734375, 0.18359375, -0.1630859375, 0.1845703125, -0.36328125, 0.01708984375, 0.1904296875, -0.3828125, 0.65234375, -0.8359375, 0.28125, -0.279296875, 0.19921875, -0.353515625, 0.06787109375, 0.5234375, 0.07421875, 0.2431640625, 0.061279296875, 0.455078125, -0.361328125, -0.84375, -0.2421875, 0.1455078125, -0.453125, -0.07861328125, -0.32421875, 0.228515625, 0.671875, 0.4296875, -0.68359375, -0.119140625, 0.458984375, 0.81640625, -0.478515625, 0.41015625, -0.44921875, 0.43359375, 0.19140625, -0.28125, 0.484375, -0.158203125, 0.380859375, -0.53125, 0.216796875, 0.640625, 0.38671875, 0.44921875, 0.2041015625, -0.484375, 0.0927734375, 0.75390625, -0.478515625, 0.33984375, 0.298828125, -0.1298828125, -0.07958984375, 0.022216796875, 1.4296875, 0.053955078125, -0.5625, -0.09228515625, -0.78515625, 0.26171875, -0.59375, -0.11767578125, -0.1533203125, -0.000942230224609375, -0.138671875, -0.6328125, 0.06591796875, -0.359375, -0.072265625, -0.047119140625, -0.23828125, -0.4765625, -0.52734375, -0.86328125, 0.70703125, 0.0225830078125, -0.1474609375, 0.2314453125, 0.369140625, 0.328125, -0.70703125, -0.2890625, -0.2138671875, -0.177734375, 0.32421875, -0.263671875, -0.07861328125, 0.38671875, 0.09521484375, 0.193359375, -0.59375, 0.5390625, 0.23046875, 1.03125, -0.7734375, 0.240234375, 0.1826171875, 0.197265625, 0.10546875, -0.1064453125, 0.498046875, 0.625, 0.4453125, -0.66796875, -0.11474609375, 0.01214599609375, 0.5390625, 0.0908203125, -0.380859375, -1.0625, 0.4296875, -0.279296875, -0.7421875, 0.421875, -0.373046875, -0.2099609375, -0.318359375, -0.181640625, -0.80078125, 0.01312255859375, 0.24609375, 0.1455078125, -0.01422119140625, -0.07568359375, 0.3515625, 0.427734375, 0.359375, -0.251953125, 0.73828125, -0.07568359375, -1.0390625, 0.1103515625, -0.2001953125, -0.44140625, -0.318359375, -0.189453125, 0.1376953125, -0.404296875, 0.00096893310546875, 0.330078125, -0.427734375, 0.01263427734375, -0.0299072265625, -0.06494140625, -0.51171875, -0.333984375, 0.51171875, 0.0498046875, -0.1826171875, 0.007232666015625, 0.09814453125, -0.427734375, -0.06201171875, -0.1669921875, -0.03564453125, -0.039794921875, -0.0869140625, 0.703125, -0.240234375, 0.66796875, 0.2197265625, -0.11181640625, 0.306640625, 0.296875, -0.0247802734375, 0.000141143798828125, 0.55859375, -0.05908203125, 1.0, 0.435546875, -0.66015625, 0.337890625, -0.60546875, -0.2734375, -0.058349609375, -0.1318359375, 0.2236328125, -0.62890625, 0.388671875, -0.1357421875, -0.4375, -0.40625, 0.259765625, 0.44921875, -0.0162353515625, 0.095703125, -0.0257568359375, 0.1796875, 0.482421875, 0.392578125, 1.171875, -0.01531982421875, -0.890625, -0.11083984375, -0.265625, 0.8515625, -0.35546875, -0.369140625, 0.953125, 0.027099609375, -0.4453125, -0.68359375, -0.0634765625, 0.125, 0.212890625, -0.099609375, -0.05615234375, 0.296875, -0.057373046875, 0.0390625, 1.1796875, 0.37890625, -0.234375, -0.12451171875, -0.0244140625, -0.55859375, -0.322265625, 0.318359375, 0.3203125, 0.2734375, -0.4140625, 0.294921875, 0.07275390625, 0.73046875, 0.1689453125, 0.35546875, 0.392578125, -0.1953125, 0.9609375, -0.23046875, -0.470703125, 0.1826171875, -0.0162353515625, -0.1591796875, 0.07177734375, -0.53515625, -0.162109375, -0.4140625, 0.15234375, 0.171875, 0.33984375, -0.271484375, 0.546875, -0.3984375, 0.462890625, -0.60546875, -0.87109375, -0.01953125, -0.58203125, 0.23046875, 0.1357421875, -0.1513671875, -0.36328125, -0.1513671875, 0.2119140625, 0.1630859375, 0.34375, 0.1240234375, -0.154296875, 0.2314453125, -0.80078125, 0.15234375, -0.4296875, 0.546875, -0.158203125, -0.388671875, -1.1328125, 0.33984375, -0.2021484375, -0.369140625, -0.052490234375, 0.158203125, -0.19921875, 0.431640625, 0.267578125, -0.0230712890625, -0.4765625, -0.1689453125, -0.19140625, 0.12890625, 0.38671875, -0.96875, 0.484375, -1.0234375, -0.03173828125, 1.1171875, -0.1650390625, -0.62109375, 0.050048828125, 0.453125, 0.265625, -0.18359375, -0.216796875, -0.115234375, -0.09521484375, 0.65234375, -0.60546875, -0.05078125, 0.69921875, 0.064453125, -0.10888671875, -0.10205078125, 0.91796875, -0.376953125, 0.431640625, -0.81640625, 0.1689453125, -0.03173828125, 0.56640625, -0.50390625, 0.064453125, 0.0576171875, 0.26953125, 1.703125, 0.359375, -0.259765625, 0.48046875, 0.12353515625, 0.2392578125, 0.10595703125, 0.30859375, 0.0283203125, -0.59375, 0.166015625, 0.90625, -0.68359375, -0.291015625, 0.0289306640625, 0.0155029296875, 0.3984375, -0.28125, 0.361328125, -0.08935546875, -0.025146484375, -0.388671875, -0.154296875, 0.0174560546875, -0.734375, -0.294921875, -1.0859375, 0.1171875, -0.2421875, 0.158203125, 1.03125, 0.7734375, -0.287109375, -0.11767578125, 0.1220703125, -0.33984375, 0.52734375, -0.33203125, 0.515625, -0.7734375, 0.05908203125, 0.1435546875, 0.166015625, 0.169921875, 0.1865234375, 0.47265625, -0.240234375, -0.287109375, -0.1982421875, 0.158203125, 0.423828125, 1.109375, -0.263671875, -0.546875, -0.032470703125, 0.04541015625, -0.62890625, 0.28125, -0.189453125, 0.5078125, 0.302734375, -0.82421875, -0.12353515625, 0.2041015625, 0.138671875, -0.000652313232421875, 0.045654296875, -0.1376953125, -0.1806640625, 1.1015625, -0.5625, 0.177734375, 0.16796875, -0.09228515625, 0.318359375, 0.1875, -0.1533203125, -0.443359375, -0.177734375, -0.7421875, 0.609375, -0.57421875, -0.00848388671875, 0.498046875, 0.64453125, -0.20703125, 0.60546875, -0.29296875, 0.189453125, 0.43359375, -0.400390625, 0.92578125, 0.375, -0.25, 0.345703125, 0.322265625, 0.353515625, 0.431640625, 0.55078125, -0.09521484375, -0.1845703125, 0.322265625, 0.390625, -0.06103515625, 1.0703125, 0.71484375, 0.5546875, 0.11474609375, 0.48046875, -0.5234375, -1.109375, -0.7421875, 0.228515625, -0.0311279296875, 0.263671875, -0.33984375, 0.388671875, -0.392578125, -0.458984375, -0.318359375, -0.203125, -0.1298828125, 0.1708984375, 0.08642578125, -0.396484375, 0.33984375, 0.158203125, -0.29296875, 0.212890625, -0.0390625, 0.6484375, 0.44140625, 1.4140625, 0.458984375, 0.734375, -0.25390625, -0.169921875, 0.44921875, 0.208984375, -0.02490234375, -0.3203125, -0.3671875, 0.259765625, -0.0986328125, 0.53515625, 0.4453125, -0.7265625, -0.255859375, -0.142578125, -0.038330078125, 0.486328125, -0.60546875, 0.0908203125, -0.09228515625, 0.78515625, 0.353515625, 0.80859375, 0.15234375, -0.357421875, 0.6171875, -0.11328125, -1.1015625, -0.216796875, 1.453125, -0.2353515625, -0.2138671875, -0.5234375, 0.051513671875, -0.62890625, 0.3671875, 0.134765625, 0.24609375, 0.287109375, -1.078125, -0.205078125, -0.09619140625, -0.3828125, -0.3984375, -0.3515625, -0.193359375, -0.08056640625, 0.00170135498046875, 0.0157470703125, -0.6328125, 1.0, -0.53515625, 0.26171875, -0.89453125, -0.35546875, 0.07275390625, 0.1357421875, 0.09228515625, 0.50390625, -0.10498046875, -0.11572265625, -0.66015625, -0.89453125, 0.48828125, 0.62890625, -0.181640625, 0.33984375, -1.078125, -0.6328125, 0.283203125, 0.384765625, 0.119140625, -1.1640625, 0.1484375, -0.37890625, 0.490234375, -0.0167236328125, 0.57421875, -0.283203125, -0.5390625, -0.5546875, 0.96484375, 0.10986328125, 0.1474609375, 0.451171875, -0.431640625, -0.78125, 0.392578125, 0.2412109375, 0.298828125, -0.400390625, -0.26171875, -0.515625, 0.032958984375, -0.234375, -0.049560546875, -0.1435546875, -0.212890625, -0.369140625, -0.0908203125, 0.7578125, -0.11962890625, -0.466796875, -1.0, 0.37890625, 0.51953125, -0.390625, -0.4609375, 0.67578125, -0.326171875, -0.5078125, 0.005157470703125, 0.3984375, 0.259765625, -0.12109375, -0.6484375, 0.37890625, -0.3203125, -0.30078125, 0.11376953125, -0.279296875, 0.146484375, 0.71484375, 0.03369140625, 0.271484375, 0.4921875, -0.6171875, -0.314453125, 0.123046875, -0.291015625, -0.8125, -0.248046875, 0.328125, -0.72265625, -0.2421875, -0.28125, -0.259765625, 0.267578125, -0.2431640625, 0.515625, 0.004669189453125, 0.109375, 0.439453125, 0.057373046875, 0.287109375, -0.07373046875, -0.1083984375, 0.36328125, -0.5, 0.5546875, -0.578125, -0.44140625, -0.2470703125, 0.58984375, 0.150390625, 0.10498046875, -0.0751953125, 0.203125, 0.423828125, 0.000522613525390625, 0.07763671875, 0.40234375, 0.271484375, -0.00017070770263671875, -0.625, -0.56640625, 0.423828125, -0.11181640625, -0.23828125, -0.412109375, -0.69921875, -0.06591796875, -0.73828125, 0.0250244140625, -0.2412109375, 0.001617431640625, 0.3203125, -0.0439453125, 0.7109375, -0.384765625, 0.201171875, -0.6953125, 0.474609375, 0.029052734375, 0.20703125, -0.162109375, -0.244140625, 0.076171875, -0.69140625, -0.181640625, -0.166015625, -0.73046875, 0.28125, 0.26171875, 0.310546875, 0.004913330078125, -0.1953125, -0.2421875, -0.37109375, 0.421875, 1.578125, -0.296875, 0.5390625, 0.60546875, 0.275390625, 0.3203125, -0.5078125, -0.2470703125, 0.37890625, 0.326171875, -0.1533203125, -0.4296875, -0.1650390625, 0.09912109375, -0.064453125, 0.1513671875, 0.068359375, -0.2021484375, -0.1513671875, -0.70703125, 0.1748046875, -0.4765625, -0.326171875, 0.1953125, 0.458984375, 0.7421875, -1.3125, -0.2177734375, -0.67578125, 0.2734375, 0.4375, -0.62890625, -0.138671875, -0.703125, -0.201171875, -0.29296875, 0.1279296875, -0.326171875, 0.90625, -0.142578125, 0.140625, -0.0172119140625, 0.8828125, 0.21484375, -0.390625, 0.150390625, -0.67578125, -0.053466796875, -0.279296875, 0.232421875, -0.33203125, 0.322265625, -0.0272216796875, -0.51953125, 0.3828125, -0.69140625, 0.2373046875, 0.2734375, -0.83984375, -0.85546875, -0.177734375, 0.1533203125, -0.2177734375, 0.515625, -0.47265625, -0.5, 0.08447265625, 0.025634765625, -1.734375, -0.40625, 0.00185394287109375, -0.71484375, 0.24609375, -0.32421875, 0.220703125, 0.470703125, -0.1474609375, 0.1826171875, -0.2890625, -0.400390625, 0.2734375, 0.54296875, -0.0286865234375, -0.22265625, 0.2578125, -0.046142578125, -0.27734375, -0.02294921875, -0.435546875, 0.39453125, 0.016357421875, -0.16015625, 0.181640625, 0.29296875, 0.255859375, -0.1572265625, 0.70703125, 0.7890625, 0.55078125, -0.3359375, -0.2373046875, 0.51953125, 0.036376953125, -0.1796875, 0.08447265625, -0.6640625, -0.404296875, -0.494140625, -0.625, -0.228515625, -0.306640625, -1.125, 0.267578125, 0.059326171875, 1.296875, -0.30859375, -0.4375, -0.01397705078125, -0.052734375, -0.62890625, -0.076171875, -0.5546875, -0.35546875, -0.173828125, -0.396484375, 0.5, 0.1787109375, -0.28125, 0.390625, 0.1875, -0.2353515625, 0.036376953125, 0.55859375, -0.11572265625, 0.3828125, 0.28515625, 0.2890625, -0.0576171875, -0.6171875, 0.05419921875, 0.216796875, 0.408203125, 0.490234375, -0.01019287109375, -0.4296875, 0.26953125, 0.55859375, -0.61328125, 0.7265625, -0.412109375, -0.248046875, -0.271484375, 0.322265625, -0.060791015625, -0.0113525390625, -0.2890625, 0.26171875, -0.7578125, -0.08984375, 0.0155029296875, -0.034423828125, 0.0244140625, -0.034912109375, 0.2109375, 0.263671875, -0.72265625, -0.130859375, 0.75, -0.216796875, 0.1005859375, 0.111328125, 0.2001953125, 1.0234375, -0.765625, 0.1455078125, 0.490234375, 0.25390625, -1.21875, -0.34765625, -0.1552734375, -0.130859375, 0.126953125, 0.212890625, 0.28125, 0.0771484375, -0.34765625, -0.625, -0.126953125, -0.7265625, 0.10693359375, -0.04296875, 0.1591796875, 0.1376953125, 0.64453125, 0.28515625, 0.146484375, -0.353515625, 0.341796875, -0.515625, 0.1923828125, 0.33984375, -0.78515625, -0.1357421875, -0.146484375, -0.25390625, 0.58984375, 0.30078125, 0.154296875, 0.11865234375, -0.2890625, -0.2578125, -0.0595703125, -0.287109375, 0.6171875, 0.046630859375, 0.5, -0.6171875, 0.1689453125, -0.1640625, -0.96875, 0.451171875, 0.96875, -0.369140625, -0.1044921875, -0.2392578125, 0.20703125, 0.419921875, -0.47265625, -0.004547119140625, 0.047119140625, 0.1298828125, 0.2333984375, 0.205078125, 0.007110595703125, 0.71875, -0.158203125, -0.431640625, -0.076171875, 0.21875, 0.15625, 0.6015625, -0.059814453125, -0.400390625, 0.08251953125, -0.1513671875, -0.037841796875, -0.328125, -0.0595703125, 0.70703125, 0.27734375, -0.263671875, -0.072265625, 0.054931640625, -0.40625, 0.6875, 0.8359375, -0.67578125, -0.078125, -0.57421875, -0.341796875, -0.291015625, -0.578125, -0.7421875, 0.83203125, 0.34765625, 0.1953125, 0.09912109375, 0.1513671875, -0.2734375, -0.177734375, -0.0830078125, 0.265625, 0.24609375, 0.22265625, -0.1162109375, -0.1826171875, 0.1513671875, 1.15625, 1.1015625, 0.5859375, -0.41796875, 0.6171875, 0.1796875, 0.2333984375, -0.388671875, 0.3203125, -0.8828125, -1.3671875, 0.365234375, -0.138671875, 0.3359375, -0.419921875, 0.029541015625, -0.216796875, -0.0218505859375, 0.7109375, 0.34375, -0.2255859375, -0.49609375, 0.26171875, 0.51171875, -0.1767578125, 0.30859375, 0.4296875, -0.58984375, -0.1796875, 0.64453125, -0.0087890625, 0.5703125, -0.06298828125, -0.294921875, 0.2451171875, 0.5390625, -0.8359375, 0.69921875, -0.796875, 0.162109375, 1.4921875, -0.1142578125, 0.5234375, 0.8046875, -0.484375, -0.0830078125, 0.2177734375, -0.7578125, 0.380859375, 0.006561279296875, -0.158203125, -0.0859375, 0.287109375, -0.322265625, 0.10009765625, -0.65234375, 0.07568359375, 0.609375, 0.7734375, -0.390625, -0.00921630859375, -0.09765625, -0.0260009765625, 1.109375, -0.38671875, 0.5390625, -0.390625, -0.46875, 0.8515625, 0.2275390625, -0.96484375, 0.0201416015625, 0.05126953125, -0.1806640625, -0.7578125, 0.1064453125, -0.142578125, 0.7265625, -0.00433349609375, -0.0634765625, 0.439453125, -0.10302734375, -0.181640625, 0.1923828125, -0.7109375, -0.0771484375, -0.205078125, 0.71875, 0.0194091796875, -0.337890625, -0.1259765625, -0.1484375, 0.6875, -0.6484375, 0.48828125, 0.1513671875, 0.26171875, -0.0478515625, -0.89453125, -0.19921875, 0.494140625, -0.1474609375, -0.48046875, 0.296875, 0.6484375, 0.042236328125, -0.259765625, 0.034423828125, 0.7109375, -0.1025390625, 0.703125, -0.201171875, -0.4296875, -0.0302734375, -0.1513671875, -0.0062255859375, 0.369140625, 0.65625, 0.51171875, -1.25, 0.7734375, -0.248046875, -0.3203125, -0.77734375, -0.125, 0.431640625, 0.6015625, -0.5, -0.5, 0.1533203125, -0.28515625, -0.25390625, -0.06884765625, -0.1826171875, 0.125, -0.58203125, -0.1298828125, 0.421875, -0.28125, 0.125, 0.31640625, -0.25, -0.0198974609375, -0.5, 0.18359375, 0.369140625, 0.01385498046875, 0.18359375, -0.58984375, -0.8359375, -0.51171875, -0.197265625, 0.2177734375, -0.04296875, -0.019287109375, -0.0223388671875, 0.1787109375, -0.2734375, 0.21484375, -0.09765625, 0.2119140625, 0.30859375, -0.107421875, 0.1259765625, 0.0311279296875, 0.029296875, 0.1513671875, 0.01348876953125, -0.59375, -0.0172119140625, 0.32421875, -0.06787109375, 0.01055908203125, 0.016845703125, -0.310546875, -0.337890625, -0.4609375, 0.4375, -0.3125, 0.34765625, -0.828125, -1.015625, -0.8359375, -0.1748046875, 0.6015625, 0.3203125, 0.21875, 0.01556396484375, 0.0096435546875, 0.1650390625, 0.1376953125, 0.0106201171875, -1.03125, -0.4296875, 0.1416015625, -0.1904296875, -0.369140625, 0.482421875, -0.048095703125, 0.244140625, -0.73828125, -0.0030059814453125, 0.279296875, -0.244140625, 0.04345703125, 0.5078125, 0.048828125, 0.7421875, 0.5625, -0.0291748046875, -0.75, -0.90625, 0.30078125, -0.400390625, 0.055419921875, 0.263671875, 0.07080078125, -0.059814453125, 0.66015625, -0.07861328125, 0.181640625, 0.46484375, 0.37890625, 0.1298828125, 0.0712890625, 0.1650390625, -0.11328125, -0.330078125, 0.11572265625, -0.18359375, -0.004058837890625, 0.75, -0.7578125, -0.416015625, -0.046875, 0.294921875, -0.45703125, 0.1298828125, -0.6171875, 0.044189453125, 0.1376953125, 0.5078125, 0.1572265625, -0.380859375, -0.31640625, -0.2470703125, 0.18359375, -0.1845703125, -0.19140625, -0.0274658203125, 0.515625, -0.353515625, 0.53125, 0.0361328125, -0.055908203125, 0.51171875, -0.58203125, -0.6796875, 0.13671875, -0.0030059814453125, 0.38671875, -0.65625, 0.83984375, 0.58203125, 0.76171875, 0.98046875, -1.1328125, -0.8203125, 0.60546875, 0.205078125, -0.546875, 0.3125, -0.0625, 0.08935546875, 0.359375, -0.00909423828125, 0.302734375, -0.275390625, 0.58984375, 0.490234375, -0.22265625], 'node': {'~id': '10309', '~entityType': 'node', '~labels': ['post'], '~properties': {'ownerUserId': 5383, 'creationDate': '2016-11-30T09:15:54Z', 'body': '<p>Barley, the most common cereal used in beer, contains gluten. However, it is possible that the fermentation process digests this gluten, at least partially.</p>\\n\\n<p>If you want to be on the safe side, you can try beer made out of rice or corn, as these are completely gluten free.</p>\\n', 'lastActivityDate': '2016-11-30T09:15:54Z', 'score': 0, 'parentId': 10304, 'postTypeId': 2, 'commentCount': 0}}, 'score': 109.52680969238281}]}\n"
     ]
    },
    {
     "data": {
      "text/plain": [
       "<Response [200]>"
      ]
     },
     "execution_count": 46,
     "metadata": {},
     "output_type": "execute_result"
    }
   ],
   "source": [
    "retrieval_response = f'''\n",
    "CALL neptune.algo.vectors.topKByEmbedding(\n",
    "  {str(q_embedding[0])},\n",
    "  {{\n",
    "    topK: 2,\n",
    "    concurrency: 1\n",
    "  }}\n",
    ")\n",
    "YIELD embedding, node, score\n",
    "RETURN embedding, node, score\n",
    "'''\n",
    "\n",
    "response = execute_graph_query(retrieval_response, neptune_endpoint)\n",
    "response"
   ]
  },
  {
   "cell_type": "code",
   "execution_count": 29,
   "metadata": {},
   "outputs": [
    {
     "data": {
      "text/plain": [
       "'https://g-we143s0qj2.us-east-1.neptune-graph.amazonaws.com/openCypher'"
      ]
     },
     "execution_count": 29,
     "metadata": {},
     "output_type": "execute_result"
    }
   ],
   "source": [
    "neptune_endpoint"
   ]
  },
  {
   "cell_type": "code",
   "execution_count": 43,
   "metadata": {},
   "outputs": [],
   "source": [
    "response = neptune_graph_client.execute_query(\n",
    "    graphIdentifier=\"g-we143s0qj2\",\n",
    "    queryString=f\"\"\"\n",
    "            CALL neptune.algo.vectors.topKByEmbedding(\n",
    "            {str(q_embedding[0])},\n",
    "              {{\n",
    "                topK: 2,\n",
    "                concurrency: 1\n",
    "              }}\n",
    "            )\n",
    "            YIELD embedding, node, score\n",
    "            RETURN embedding, node, score\n",
    "            \"\"\",\n",
    "    language='OPEN_CYPHER',\n",
    "    \n",
    ")"
   ]
  },
  {
   "cell_type": "code",
   "execution_count": 44,
   "metadata": {},
   "outputs": [
    {
     "data": {
      "text/plain": [
       "{'ResponseMetadata': {'RequestId': 'f05a359f-6d08-47cb-85ae-7236b7aac6cd',\n",
       "  'HTTPStatusCode': 200,\n",
       "  'HTTPHeaders': {'transfer-encoding': 'chunked',\n",
       "   'content-type': 'application/json;charset=UTF-8',\n",
       "   'x-amzn-requestid': 'f05a359f-6d08-47cb-85ae-7236b7aac6cd'},\n",
       "  'RetryAttempts': 0},\n",
       " 'payload': <botocore.response.StreamingBody at 0x7f53843a1a20>}"
      ]
     },
     "execution_count": 44,
     "metadata": {},
     "output_type": "execute_result"
    }
   ],
   "source": [
    "response"
   ]
  },
  {
   "cell_type": "code",
   "execution_count": null,
   "metadata": {},
   "outputs": [],
   "source": []
  }
 ],
 "metadata": {
  "kernelspec": {
   "display_name": "Python 3",
   "language": "python",
   "name": "python3"
  },
  "language_info": {
   "codemirror_mode": {
    "name": "ipython",
    "version": 3
   },
   "file_extension": ".py",
   "mimetype": "text/x-python",
   "name": "python",
   "nbconvert_exporter": "python",
   "pygments_lexer": "ipython3",
   "version": "3.10.13"
  }
 },
 "nbformat": 4,
 "nbformat_minor": 2
}
